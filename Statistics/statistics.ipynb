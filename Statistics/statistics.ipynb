{
 "cells": [
  {
   "cell_type": "code",
   "execution_count": 2,
   "metadata": {},
   "outputs": [],
   "source": [
    "import pandas as pd\n",
    "import matplotlib.pyplot as plt\n",
    "import numpy as np\n",
    "import statistics"
   ]
  },
  {
   "cell_type": "code",
   "execution_count": 3,
   "metadata": {},
   "outputs": [],
   "source": [
    "population = np.random.randint(10,20,50)"
   ]
  },
  {
   "cell_type": "code",
   "execution_count": 4,
   "metadata": {},
   "outputs": [
    {
     "name": "stdout",
     "output_type": "stream",
     "text": [
      "14.26\n",
      "14.0\n",
      "10\n"
     ]
    }
   ],
   "source": [
    "print(np.mean(population))\n",
    "print(np.median(population))\n",
    "print(statistics.mode(population))"
   ]
  },
  {
   "cell_type": "code",
   "execution_count": 5,
   "metadata": {},
   "outputs": [
    {
     "name": "stdout",
     "output_type": "stream",
     "text": [
      "mean of the population 14.26\n",
      "median of the population 14.0\n",
      "mode of the population 10\n"
     ]
    }
   ],
   "source": [
    "print(f\"mean of the population {np.mean(population)}\")\n",
    "print(f\"median of the population {np.median(population)}\")\n",
    "print(f\"mode of the population {statistics.mode(population)}\")"
   ]
  },
  {
   "cell_type": "code",
   "execution_count": 6,
   "metadata": {},
   "outputs": [],
   "source": [
    "sample = np.random.choice(population, 20)"
   ]
  },
  {
   "cell_type": "code",
   "execution_count": 7,
   "metadata": {},
   "outputs": [
    {
     "data": {
      "text/plain": [
       "array([10, 11, 12, 18, 16, 18, 19, 13, 10, 14, 10, 11, 19, 12, 18, 13, 12,\n",
       "       16, 19, 12])"
      ]
     },
     "execution_count": 7,
     "metadata": {},
     "output_type": "execute_result"
    }
   ],
   "source": [
    "sample"
   ]
  },
  {
   "cell_type": "code",
   "execution_count": 8,
   "metadata": {},
   "outputs": [
    {
     "name": "stdout",
     "output_type": "stream",
     "text": [
      "mean of the population 14.15\n",
      "median of the population 13.0\n",
      "mode of the population 12\n"
     ]
    }
   ],
   "source": [
    "print(f\"mean of the population {np.mean(sample)}\")\n",
    "print(f\"median of the population {np.median(sample)}\")\n",
    "print(f\"mode of the population {statistics.mode(sample)}\")"
   ]
  },
  {
   "cell_type": "code",
   "execution_count": 9,
   "metadata": {},
   "outputs": [],
   "source": [
    "sample1 = np.random.choice(population, 20)\n",
    "sample2 = np.random.choice(population, 20)\n",
    "sample3 = np.random.choice(population, 20)\n",
    "sample4 = np.random.choice(population, 20)\n"
   ]
  },
  {
   "cell_type": "code",
   "execution_count": 10,
   "metadata": {},
   "outputs": [
    {
     "name": "stdout",
     "output_type": "stream",
     "text": [
      "[12 16 18 18 14 17 13 19 14 18 15 18 18 13 13 14 14 16 16 12]\n",
      "============================================================\n",
      "[10 12 14 17 19 11 13 12 19 10 15 10 10 17 16 14 17 17 16 16]\n",
      "============================================================\n",
      "[18 11 15 18 16 19 16 11 13 17 13 11 10 10 18 16 16 12 12 11]\n",
      "============================================================\n",
      "[10 10 10 10 17 14 13 15 16 10 10 12 13 13 10 10 13 10 14 14]\n"
     ]
    }
   ],
   "source": [
    "print(sample1)\n",
    "print(60*\"=\")\n",
    "print(sample2)\n",
    "print(60*\"=\")\n",
    "print(sample3)\n",
    "print(60*\"=\")\n",
    "print(sample4)\n"
   ]
  },
  {
   "cell_type": "code",
   "execution_count": 11,
   "metadata": {},
   "outputs": [
    {
     "data": {
      "text/plain": [
       "[15.4, 14.25, 14.15, 12.2]"
      ]
     },
     "execution_count": 11,
     "metadata": {},
     "output_type": "execute_result"
    }
   ],
   "source": [
    "mean_of_samples = []\n",
    "all_sample = [sample1, sample2, sample3, sample4]\n",
    "for sample in all_sample:\n",
    "    mean_of_samples.append(np.mean(sample))\n",
    "\n",
    "mean_of_samples"
   ]
  },
  {
   "attachments": {},
   "cell_type": "markdown",
   "metadata": {},
   "source": [
    "## **Central limit theorem**"
   ]
  },
  {
   "cell_type": "code",
   "execution_count": 12,
   "metadata": {},
   "outputs": [],
   "source": [
    "import seaborn as sns"
   ]
  },
  {
   "cell_type": "code",
   "execution_count": 13,
   "metadata": {},
   "outputs": [
    {
     "name": "stdout",
     "output_type": "stream",
     "text": [
      "[ 5  5  3  5  4  4  4  7  6  4  5  7  4  3  9  4  4  5  8  6  6  5  5  7\n",
      "  8  3  6  5  8  6  6  6  3  6  7  4  6  7  4  3  7  6  4  4  4  7  5  5\n",
      "  6  5  5  4  6  6  3  4  5  5  8  5  5  3  6  5  5  6  3  5  5  6  6  4\n",
      "  5  5  4  3  4  6  7  3  8  7  7  8  9  8  7  5  5  4  5  6  3  4  5  5\n",
      "  3  3  5  6  4  4  4  6  4  7  2  3  4  6  4  6  5  5  5  3  5  6  3  4\n",
      "  3  4  6  5  7  5  9  2  4  4  5  5  5  5  4  3  7  8  7  4  5  4  4  5\n",
      "  4  6  7  5  5  3  6  4  4  9  7  4  8  3  6  5  6  6  7  5  3  5  5  6\n",
      "  7  2  4  5  6  4  4  5  6  7  5  4  3  4  7  5  8  5  4  5  3  4  5  6\n",
      "  4  6  5  6  5  6  7  8  3  3  8  5  5  7  4  5  5  2  4  8  7  3  3  6\n",
      "  7  5  4  4  7  5  6  3  6  5  1  5  4  5  7  7  3  7  4  3  8  4  6  6\n",
      "  3  8  6  6  7  6  4  6  3  4  5  5  7  8  4  5  8  4  5  4  4  5  6  6\n",
      "  5  5  5  6  4  6  5  5  6  6  4  5  6  5  4  5  4  5  2  4  3  3  5  3\n",
      "  5  4  4  7  6  4  2  5  7  8  7  5  4  6  6  5  5  6  5  6  5  5  5  3\n",
      "  8  3  3  4  5  8  6  3  7  6  5  7  4  5  4  5  5  5  7  8  8  8  3  5\n",
      "  5  4  6  6  6  7  3  8  4  5  4  2  5  5  5  6  5  5  7  5  5  7  5  4\n",
      "  9  7  2  4  4  7  3  3  5  2  7  7  4  6  4  5  5  8  7  3  6  7  3  3\n",
      "  5  7  4  7  4  3  6  2  4  4  6  6  3  6  6  5  8  3  5  6  3  3  5  4\n",
      "  4  6  6  8  3  3  5  6  3  4  4  6  2  6  5  7  5  8  8  6  5  5  6  4\n",
      "  8  3  5  6  6  5  5  5  5  2  5  5  6  4  5  6  4  5  3  2  4  6  4  4\n",
      "  6  5  5  6  6  5  3  5  3  4  7  5  4  4  5  5  4  6  5  6  5  5  5  8\n",
      "  5  6  7  4  7  8  7  5  8  4  4  4  5  6  3  3  5  6  4  7  5  6  5  4\n",
      "  3  5  3  4  2  8  6  5  4  4  3  6  5  5  5  8  7  4  5  6  6  3  5  3\n",
      "  6  5  2  5  5  6  8  7  6  4  4  5  5  5  4  5  4  4  7  4  5  4  5  6\n",
      "  5  3  4  4  5  5  6  7  7  5  7  6  3  2  3  5  2  4  6  8  7  6  4  5\n",
      "  4  4  2  6  8  6  3  4  7  5  8  5  6  3  4  3  5  4  4  7  7  4  5  4\n",
      "  7  5  5  2  7  5  4  7  7  3  3  6  7  3  4  5  3  5  3  4  5  2  3  4\n",
      "  4  3  5  5  5  4  3  5  3  6  6  4  4  8  5  4  4  3  6  4  7  5  5  3\n",
      "  4  4  6  5  6  3  8  4  5  7  2  2  3  7  5  4  4  5  8  4  5  7  3  4\n",
      "  8  6  4  5  6  4  7  6  7  5  4  5  7  4  5  5  4  6  6  6  4  6  6  6\n",
      "  4  3  4  6  4  4  6  6  5  7  4  3  4  4  5  6  6  8  4  6  4  4  4  6\n",
      "  5  5  6  4  5  6  2  3  5  6  8  5  7  4  9  5  3  5  4  6  4  2  6  5\n",
      "  7  8  5  5  6  3  5  3  3  6  2  7  3  3  6  6  6  4  5  2  3  6  3  3\n",
      "  5  5  4  5  9  5  5  4  8  5  3  8  7  6  7  4  5  8  5  4  5  7  6  6\n",
      "  6  6  3  5  7  2  3  5  3  5  4  5  2  9  6  6  4  4  7  5  4  4  7  3\n",
      "  4  5  5  6  6  4  4  5  5  6  6  2  6  4  6  8  6  5  3  4  5  3  6  6\n",
      "  7  4  6  8  4  4  3  5  6  4  4  7  4  4  8  5  5  7  6  4  5  4  5  7\n",
      "  6  8  4  7  5  5  4  5  5  7  4  6  7  5  5  7  7  5  4  5  8  6  4  4\n",
      "  5  6  6  3  3  4  5  9  8  8  3  4  7  5  6  6  5  6  4  5  4  5  5  5\n",
      "  7  4  3  4  7  8  5  5  5  8  8  6  6  4  5  4  4  6  5 10  5  6  6  3\n",
      "  6  6  6  4  6  5  4  5  7  4  4  4  3  5  6  6  3  4  5  7  3  2  6  4\n",
      "  5  6  6  5  7  8  6  5  3  8  2  6  4  3  4  9  5  5  3  6  3  6  7  8\n",
      "  7  6  4  4  6  6  4  5  5  5  7  8  6  4  6  5]\n"
     ]
    }
   ],
   "source": [
    "population = np.random.binomial(10,0.5,1000 )\n",
    "print(population)"
   ]
  },
  {
   "cell_type": "code",
   "execution_count": 14,
   "metadata": {},
   "outputs": [
    {
     "name": "stdout",
     "output_type": "stream",
     "text": [
      "1000\n"
     ]
    }
   ],
   "source": [
    "print(len(population))"
   ]
  },
  {
   "cell_type": "code",
   "execution_count": 15,
   "metadata": {},
   "outputs": [
    {
     "name": "stderr",
     "output_type": "stream",
     "text": [
      "C:\\Users\\Pallavi Prajapati\\AppData\\Local\\Temp\\ipykernel_4556\\957951483.py:1: UserWarning: \n",
      "\n",
      "`distplot` is a deprecated function and will be removed in seaborn v0.14.0.\n",
      "\n",
      "Please adapt your code to use either `displot` (a figure-level function with\n",
      "similar flexibility) or `histplot` (an axes-level function for histograms).\n",
      "\n",
      "For a guide to updating your code to use the new functions, please see\n",
      "https://gist.github.com/mwaskom/de44147ed2974457ad6372750bbe5751\n",
      "\n",
      "  sns.distplot(population,kde=True)\n"
     ]
    },
    {
     "data": {
      "text/plain": [
       "<Axes: ylabel='Density'>"
      ]
     },
     "execution_count": 15,
     "metadata": {},
     "output_type": "execute_result"
    },
    {
     "data": {
      "image/png": "[encoded data removed]",
      "text/plain": [
       "<Figure size 640x480 with 1 Axes>"
      ]
     },
     "metadata": {},
     "output_type": "display_data"
    }
   ],
   "source": [
    "sns.distplot(population,kde=True)"
   ]
  },
  {
   "cell_type": "code",
   "execution_count": 16,
   "metadata": {},
   "outputs": [
    {
     "data": {
      "text/plain": [
       "1000"
      ]
     },
     "execution_count": 16,
     "metadata": {},
     "output_type": "execute_result"
    }
   ],
   "source": [
    "len(population)"
   ]
  },
  {
   "cell_type": "code",
   "execution_count": 17,
   "metadata": {},
   "outputs": [],
   "source": [
    "size = int(len(population)*0.30)  ## 30% of data"
   ]
  },
  {
   "cell_type": "code",
   "execution_count": 18,
   "metadata": {},
   "outputs": [],
   "source": [
    "sample_mean = []\n",
    "for i in range(1, 31):\n",
    "    # print(np.random.choice(population,size=size))\n",
    "    sample = np.random.choice(population,size=size)\n",
    "    sample_mean.append(np.mean(sample))"
   ]
  },
  {
   "cell_type": "code",
   "execution_count": 19,
   "metadata": {},
   "outputs": [
    {
     "data": {
      "text/plain": [
       "[5.003333333333333,\n",
       " 5.11,\n",
       " 5.1466666666666665,\n",
       " 5.273333333333333,\n",
       " 5.0,\n",
       " 5.123333333333333,\n",
       " 5.17,\n",
       " 4.95,\n",
       " 5.176666666666667,\n",
       " 4.913333333333333,\n",
       " 5.086666666666667,\n",
       " 4.926666666666667,\n",
       " 4.973333333333334,\n",
       " 5.086666666666667,\n",
       " 5.116666666666666,\n",
       " 5.086666666666667,\n",
       " 4.906666666666666,\n",
       " 5.0633333333333335,\n",
       " 5.083333333333333,\n",
       " 5.223333333333334,\n",
       " 5.083333333333333,\n",
       " 4.943333333333333,\n",
       " 5.043333333333333,\n",
       " 5.096666666666667,\n",
       " 5.12,\n",
       " 5.123333333333333,\n",
       " 5.1466666666666665,\n",
       " 5.073333333333333,\n",
       " 5.166666666666667,\n",
       " 5.04]"
      ]
     },
     "execution_count": 19,
     "metadata": {},
     "output_type": "execute_result"
    }
   ],
   "source": [
    "sample_mean"
   ]
  },
  {
   "cell_type": "code",
   "execution_count": 20,
   "metadata": {},
   "outputs": [
    {
     "name": "stderr",
     "output_type": "stream",
     "text": [
      "C:\\Users\\Pallavi Prajapati\\AppData\\Local\\Temp\\ipykernel_4556\\2059214919.py:1: UserWarning: \n",
      "\n",
      "`distplot` is a deprecated function and will be removed in seaborn v0.14.0.\n",
      "\n",
      "Please adapt your code to use either `displot` (a figure-level function with\n",
      "similar flexibility) or `histplot` (an axes-level function for histograms).\n",
      "\n",
      "For a guide to updating your code to use the new functions, please see\n",
      "https://gist.github.com/mwaskom/de44147ed2974457ad6372750bbe5751\n",
      "\n",
      "  sns.distplot(sample_mean,kde=True,color=\"green\")\n"
     ]
    },
    {
     "data": {
      "text/plain": [
       "<Axes: ylabel='Density'>"
      ]
     },
     "execution_count": 20,
     "metadata": {},
     "output_type": "execute_result"
    },
    {
     "data": {
      "image/png": "[encoded data removed]",
      "text/plain": [
       "<Figure size 640x480 with 1 Axes>"
      ]
     },
     "metadata": {},
     "output_type": "display_data"
    }
   ],
   "source": [
    "sns.distplot(sample_mean,kde=True,color=\"green\")"
   ]
  },
  {
   "cell_type": "code",
   "execution_count": 21,
   "metadata": {},
   "outputs": [
    {
     "name": "stderr",
     "output_type": "stream",
     "text": [
      "C:\\Users\\Pallavi Prajapati\\AppData\\Local\\Temp\\ipykernel_4556\\3135970899.py:7: UserWarning: \n",
      "\n",
      "`distplot` is a deprecated function and will be removed in seaborn v0.14.0.\n",
      "\n",
      "Please adapt your code to use either `displot` (a figure-level function with\n",
      "similar flexibility) or `histplot` (an axes-level function for histograms).\n",
      "\n",
      "For a guide to updating your code to use the new functions, please see\n",
      "https://gist.github.com/mwaskom/de44147ed2974457ad6372750bbe5751\n",
      "\n",
      "  sns.distplot(sample_mean,kde=True,color=\"green\")\n"
     ]
    },
    {
     "data": {
      "text/plain": [
       "<Axes: ylabel='Density'>"
      ]
     },
     "execution_count": 21,
     "metadata": {},
     "output_type": "execute_result"
    },
    {
     "data": {
      "image/png": "[encoded data removed]",
      "text/plain": [
       "<Figure size 640x480 with 1 Axes>"
      ]
     },
     "metadata": {},
     "output_type": "display_data"
    }
   ],
   "source": [
    "sample_mean = []\n",
    "for i in range(1, 500):\n",
    "    # print(np.random.choice(population,size=size))\n",
    "    sample = np.random.choice(population,size=size)\n",
    "    sample_mean.append(np.mean(sample))\n",
    "\n",
    "sns.distplot(sample_mean,kde=True,color=\"green\")"
   ]
  },
  {
   "cell_type": "code",
   "execution_count": 22,
   "metadata": {},
   "outputs": [
    {
     "data": {
      "text/plain": [
       "5.083086172344689"
      ]
     },
     "execution_count": 22,
     "metadata": {},
     "output_type": "execute_result"
    }
   ],
   "source": [
    "np.mean(sample_mean)"
   ]
  },
  {
   "attachments": {},
   "cell_type": "markdown",
   "metadata": {},
   "source": [
    "## **Confidence Interval and Margin of error**\n",
    "pdf: Probability Density Function\n",
    "\n",
    "cdf: Cumulative Distribution Function\n",
    "\n",
    "ppf: Percent Point Function (Inverse of CDF)"
   ]
  },
  {
   "cell_type": "code",
   "execution_count": 23,
   "metadata": {},
   "outputs": [],
   "source": [
    "import scipy.stats as stats"
   ]
  },
  {
   "cell_type": "code",
   "execution_count": 24,
   "metadata": {},
   "outputs": [
    {
     "data": {
      "text/plain": [
       "2.3263478740408408"
      ]
     },
     "execution_count": 24,
     "metadata": {},
     "output_type": "execute_result"
    }
   ],
   "source": [
    "stats.norm.ppf(q=0.99)      #pdf is given name with ppf in scipy library"
   ]
  },
  {
   "cell_type": "code",
   "execution_count": 25,
   "metadata": {},
   "outputs": [
    {
     "data": {
      "text/plain": [
       "[14.35, 15.45, 14.6, 13.15]"
      ]
     },
     "execution_count": 25,
     "metadata": {},
     "output_type": "execute_result"
    }
   ],
   "source": [
    "# confidence interval and margin of error\n",
    "population = np.random.randint(10,20,50)\n",
    "sample1 = np.random.choice(population, 20)\n",
    "sample2 = np.random.choice(population, 20)\n",
    "sample3 = np.random.choice(population, 20)\n",
    "sample4 = np.random.choice(population, 20)\n",
    "mean_of_samples = []\n",
    "all_sample = [sample1, sample2, sample3, sample4]\n",
    "for sample in all_sample:\n",
    "    mean_of_samples.append(np.mean(sample))\n",
    "\n",
    "mean_of_samples"
   ]
  },
  {
   "cell_type": "code",
   "execution_count": 26,
   "metadata": {},
   "outputs": [],
   "source": [
    "z_critical = stats.norm.ppf(q=0.975)\n",
    "t_critical = stats.t.ppf(q=0.975, df=24) #df = degree of freedom"
   ]
  },
  {
   "cell_type": "code",
   "execution_count": 27,
   "metadata": {},
   "outputs": [],
   "source": [
    "margin_of_error = z_critical * (np.std(mean_of_samples) / np.sqrt(20))\n",
    "minus_error = np.mean(mean_of_samples) - margin_of_error\n",
    "plus_error = np.mean(mean_of_samples) + margin_of_error"
   ]
  },
  {
   "cell_type": "code",
   "execution_count": 28,
   "metadata": {},
   "outputs": [
    {
     "name": "stdout",
     "output_type": "stream",
     "text": [
      "14.3875 0.36052650466481656 14.026973495335183 14.748026504664816\n"
     ]
    }
   ],
   "source": [
    "print(np.mean(mean_of_samples), margin_of_error, minus_error, plus_error)"
   ]
  },
  {
   "attachments": {},
   "cell_type": "markdown",
   "metadata": {},
   "source": [
    "## **z-test**"
   ]
  },
  {
   "cell_type": "code",
   "execution_count": 29,
   "metadata": {},
   "outputs": [],
   "source": [
    "from numpy.random import randn"
   ]
  },
  {
   "cell_type": "code",
   "execution_count": 30,
   "metadata": {},
   "outputs": [
    {
     "name": "stderr",
     "output_type": "stream",
     "text": [
      "C:\\Users\\Pallavi Prajapati\\AppData\\Local\\Temp\\ipykernel_4556\\3620390313.py:2: UserWarning: \n",
      "\n",
      "`distplot` is a deprecated function and will be removed in seaborn v0.14.0.\n",
      "\n",
      "Please adapt your code to use either `displot` (a figure-level function with\n",
      "similar flexibility) or `histplot` (an axes-level function for histograms).\n",
      "\n",
      "For a guide to updating your code to use the new functions, please see\n",
      "https://gist.github.com/mwaskom/de44147ed2974457ad6372750bbe5751\n",
      "\n",
      "  sns.distplot(population)\n"
     ]
    },
    {
     "data": {
      "text/plain": [
       "<Axes: ylabel='Density'>"
      ]
     },
     "execution_count": 30,
     "metadata": {},
     "output_type": "execute_result"
    },
    {
     "data": {
      "image/png": "[encoded data removed]",
      "text/plain": [
       "<Figure size 640x480 with 1 Axes>"
      ]
     },
     "metadata": {},
     "output_type": "display_data"
    }
   ],
   "source": [
    "population = randn(100)\n",
    "sns.distplot(population)"
   ]
  },
  {
   "cell_type": "code",
   "execution_count": 31,
   "metadata": {},
   "outputs": [
    {
     "name": "stdout",
     "output_type": "stream",
     "text": [
      "[-1.02519511 -2.80142631  0.37267088 -1.14421657  1.18334552 -0.0801958\n",
      " -1.1138588  -1.4832052   0.39976428  0.11286231  0.35921025  0.27717852\n",
      "  0.02146678  0.40906327  0.41392913 -0.18328001  0.11182735 -1.00709144\n",
      "  0.93512408  0.63543287  0.26374918  0.90199094 -0.53428173 -0.28454232\n",
      " -0.06207182  0.07349678  1.96010473  0.69503334 -0.9478964  -0.04484921\n",
      " -0.96114049  0.35711467 -1.55559963  0.06010854  1.23764296  1.58576455\n",
      " -1.17155989  0.85275843  0.8882927  -1.59556237 -0.21049415 -1.00625935\n",
      " -0.7656873   0.46050344  2.3886397   0.37580605  0.64074585 -1.71556149\n",
      "  0.69023744 -0.99461036 -0.04852194  1.17830383  0.91959563  0.17653104\n",
      "  1.23779164  0.16212214 -0.00486198 -0.5907765  -2.17728977  0.36743497\n",
      "  1.56512949  0.09563181  0.32563184 -0.14260839  0.14808383 -0.03032488\n",
      "  0.21847971 -0.49527975  0.02493252 -0.89874366 -1.01338678  0.23735408\n",
      " -0.35997023  0.69059901  0.68113206  1.20746212  0.83363386  2.21653253\n",
      " -0.88905646 -0.41286384 -0.04584012  0.17107678  0.44710739  0.88631313\n",
      " -0.38176242 -0.58824344 -0.63185088  0.58955147  1.33979599  0.33762289\n",
      "  1.77445325  0.94109772 -0.66444211  1.06111166 -0.9150869   1.44978621\n",
      " -0.40363279  0.36803278 -0.054648    1.07580394] 0.09954223251531451 0.9291187658465718\n"
     ]
    }
   ],
   "source": [
    "mean = np.mean(population)\n",
    "std = np.std(population)\n",
    "print(population,mean,std)"
   ]
  },
  {
   "cell_type": "code",
   "execution_count": 32,
   "metadata": {},
   "outputs": [],
   "source": [
    "# C.I = 95%\n",
    "# ALPHA = 0.05(5%)\n",
    "# P <= 0.05 # REJECT NULL HYPOTHESIS\n",
    "# P > 0.05 #ACCEPT NULL HYPOTHESIS\n",
    "# null_mean = "
   ]
  },
  {
   "cell_type": "code",
   "execution_count": 33,
   "metadata": {},
   "outputs": [],
   "source": [
    "#pip install statsmodels"
   ]
  },
  {
   "cell_type": "code",
   "execution_count": 34,
   "metadata": {},
   "outputs": [
    {
     "name": "stdout",
     "output_type": "stream",
     "text": [
      "accept null hypothesis\n"
     ]
    }
   ],
   "source": [
    "from statsmodels.stats.weightstats import ztest\n",
    "ALPHA = 0.05\n",
    "null_mean = 0.017\n",
    "z_score, p_value = ztest(population, value = null_mean, alternative=\"larger\") #alternative larger means both side or two sided\n",
    "if p_value < ALPHA:\n",
    "    print(\"reject the null hypothesis\")\n",
    "else:\n",
    "    print(\"accept null hypothesis\")"
   ]
  },
  {
   "cell_type": "code",
   "execution_count": 35,
   "metadata": {},
   "outputs": [
    {
     "data": {
      "text/plain": [
       "0.18836441708981605"
      ]
     },
     "execution_count": 35,
     "metadata": {},
     "output_type": "execute_result"
    }
   ],
   "source": [
    "p_value"
   ]
  },
  {
   "attachments": {},
   "cell_type": "markdown",
   "metadata": {},
   "source": [
    "### another example for z test"
   ]
  },
  {
   "cell_type": "code",
   "execution_count": null,
   "metadata": {},
   "outputs": [],
   "source": [
    "mean_population = 100\n",
    "sample = 50\n",
    "sample_mean = 100\n",
    "std_dev = 15\n",
    "alpha = 0.05\n",
    "ci = 0.95\n"
   ]
  },
  {
   "cell_type": "code",
   "execution_count": null,
   "metadata": {},
   "outputs": [],
   "source": []
  },
  {
   "cell_type": "code",
   "execution_count": null,
   "metadata": {},
   "outputs": [],
   "source": []
  },
  {
   "attachments": {},
   "cell_type": "markdown",
   "metadata": {},
   "source": [
    "## **how to check the data is normally distributed**"
   ]
  },
  {
   "cell_type": "code",
   "execution_count": 36,
   "metadata": {},
   "outputs": [],
   "source": [
    "df = pd.read_csv(\"https://raw.githubusercontent.com/shrikant-temburwar/Wine-Quality-Dataset/master/winequality-red.csv\",sep=\";\")"
   ]
  },
  {
   "cell_type": "code",
   "execution_count": 37,
   "metadata": {},
   "outputs": [
    {
     "data": {
      "text/html": [
       "<div>\n",
       "<style scoped>\n",
       "    .dataframe tbody tr th:only-of-type {\n",
       "        vertical-align: middle;\n",
       "    }\n",
       "\n",
       "    .dataframe tbody tr th {\n",
       "        vertical-align: top;\n",
       "    }\n",
       "\n",
       "    .dataframe thead th {\n",
       "        text-align: right;\n",
       "    }\n",
       "</style>\n",
       "<table border=\"1\" class=\"dataframe\">\n",
       "  <thead>\n",
       "    <tr style=\"text-align: right;\">\n",
       "      <th></th>\n",
       "      <th>fixed acidity</th>\n",
       "      <th>volatile acidity</th>\n",
       "      <th>citric acid</th>\n",
       "      <th>residual sugar</th>\n",
       "      <th>chlorides</th>\n",
       "      <th>free sulfur dioxide</th>\n",
       "      <th>total sulfur dioxide</th>\n",
       "      <th>density</th>\n",
       "      <th>pH</th>\n",
       "      <th>sulphates</th>\n",
       "      <th>alcohol</th>\n",
       "      <th>quality</th>\n",
       "    </tr>\n",
       "  </thead>\n",
       "  <tbody>\n",
       "    <tr>\n",
       "      <th>0</th>\n",
       "      <td>7.4</td>\n",
       "      <td>0.70</td>\n",
       "      <td>0.00</td>\n",
       "      <td>1.9</td>\n",
       "      <td>0.076</td>\n",
       "      <td>11.0</td>\n",
       "      <td>34.0</td>\n",
       "      <td>0.9978</td>\n",
       "      <td>3.51</td>\n",
       "      <td>0.56</td>\n",
       "      <td>9.4</td>\n",
       "      <td>5</td>\n",
       "    </tr>\n",
       "    <tr>\n",
       "      <th>1</th>\n",
       "      <td>7.8</td>\n",
       "      <td>0.88</td>\n",
       "      <td>0.00</td>\n",
       "      <td>2.6</td>\n",
       "      <td>0.098</td>\n",
       "      <td>25.0</td>\n",
       "      <td>67.0</td>\n",
       "      <td>0.9968</td>\n",
       "      <td>3.20</td>\n",
       "      <td>0.68</td>\n",
       "      <td>9.8</td>\n",
       "      <td>5</td>\n",
       "    </tr>\n",
       "    <tr>\n",
       "      <th>2</th>\n",
       "      <td>7.8</td>\n",
       "      <td>0.76</td>\n",
       "      <td>0.04</td>\n",
       "      <td>2.3</td>\n",
       "      <td>0.092</td>\n",
       "      <td>15.0</td>\n",
       "      <td>54.0</td>\n",
       "      <td>0.9970</td>\n",
       "      <td>3.26</td>\n",
       "      <td>0.65</td>\n",
       "      <td>9.8</td>\n",
       "      <td>5</td>\n",
       "    </tr>\n",
       "    <tr>\n",
       "      <th>3</th>\n",
       "      <td>11.2</td>\n",
       "      <td>0.28</td>\n",
       "      <td>0.56</td>\n",
       "      <td>1.9</td>\n",
       "      <td>0.075</td>\n",
       "      <td>17.0</td>\n",
       "      <td>60.0</td>\n",
       "      <td>0.9980</td>\n",
       "      <td>3.16</td>\n",
       "      <td>0.58</td>\n",
       "      <td>9.8</td>\n",
       "      <td>6</td>\n",
       "    </tr>\n",
       "    <tr>\n",
       "      <th>4</th>\n",
       "      <td>7.4</td>\n",
       "      <td>0.70</td>\n",
       "      <td>0.00</td>\n",
       "      <td>1.9</td>\n",
       "      <td>0.076</td>\n",
       "      <td>11.0</td>\n",
       "      <td>34.0</td>\n",
       "      <td>0.9978</td>\n",
       "      <td>3.51</td>\n",
       "      <td>0.56</td>\n",
       "      <td>9.4</td>\n",
       "      <td>5</td>\n",
       "    </tr>\n",
       "  </tbody>\n",
       "</table>\n",
       "</div>"
      ],
      "text/plain": [
       "   fixed acidity  volatile acidity  citric acid  residual sugar  chlorides  \\\n",
       "0            7.4              0.70         0.00             1.9      0.076   \n",
       "1            7.8              0.88         0.00             2.6      0.098   \n",
       "2            7.8              0.76         0.04             2.3      0.092   \n",
       "3           11.2              0.28         0.56             1.9      0.075   \n",
       "4            7.4              0.70         0.00             1.9      0.076   \n",
       "\n",
       "   free sulfur dioxide  total sulfur dioxide  density    pH  sulphates  \\\n",
       "0                 11.0                  34.0   0.9978  3.51       0.56   \n",
       "1                 25.0                  67.0   0.9968  3.20       0.68   \n",
       "2                 15.0                  54.0   0.9970  3.26       0.65   \n",
       "3                 17.0                  60.0   0.9980  3.16       0.58   \n",
       "4                 11.0                  34.0   0.9978  3.51       0.56   \n",
       "\n",
       "   alcohol  quality  \n",
       "0      9.4        5  \n",
       "1      9.8        5  \n",
       "2      9.8        5  \n",
       "3      9.8        6  \n",
       "4      9.4        5  "
      ]
     },
     "execution_count": 37,
     "metadata": {},
     "output_type": "execute_result"
    }
   ],
   "source": [
    "df.head()"
   ]
  },
  {
   "cell_type": "code",
   "execution_count": 39,
   "metadata": {},
   "outputs": [
    {
     "name": "stderr",
     "output_type": "stream",
     "text": [
      "C:\\Users\\Pallavi Prajapati\\AppData\\Local\\Temp\\ipykernel_4556\\1380684039.py:1: UserWarning: \n",
      "\n",
      "`distplot` is a deprecated function and will be removed in seaborn v0.14.0.\n",
      "\n",
      "Please adapt your code to use either `displot` (a figure-level function with\n",
      "similar flexibility) or `histplot` (an axes-level function for histograms).\n",
      "\n",
      "For a guide to updating your code to use the new functions, please see\n",
      "https://gist.github.com/mwaskom/de44147ed2974457ad6372750bbe5751\n",
      "\n",
      "  sns.distplot(df[\"volatile acidity\"],kde=True)\n"
     ]
    },
    {
     "data": {
      "text/plain": [
       "<Axes: xlabel='volatile acidity', ylabel='Density'>"
      ]
     },
     "execution_count": 39,
     "metadata": {},
     "output_type": "execute_result"
    },
    {
     "data": {
      "image/png": "[encoded data removed]",
      "text/plain": [
       "<Figure size 640x480 with 1 Axes>"
      ]
     },
     "metadata": {},
     "output_type": "display_data"
    }
   ],
   "source": [
    "sns.distplot(df[\"volatile acidity\"],kde=True)   #by seeing graph it is non normal distribution"
   ]
  },
  {
   "cell_type": "code",
   "execution_count": 40,
   "metadata": {},
   "outputs": [
    {
     "name": "stderr",
     "output_type": "stream",
     "text": [
      "C:\\Users\\Pallavi Prajapati\\AppData\\Local\\Temp\\ipykernel_4556\\3270923377.py:1: UserWarning: \n",
      "\n",
      "`distplot` is a deprecated function and will be removed in seaborn v0.14.0.\n",
      "\n",
      "Please adapt your code to use either `displot` (a figure-level function with\n",
      "similar flexibility) or `histplot` (an axes-level function for histograms).\n",
      "\n",
      "For a guide to updating your code to use the new functions, please see\n",
      "https://gist.github.com/mwaskom/de44147ed2974457ad6372750bbe5751\n",
      "\n",
      "  sns.distplot(df[\"citric acid\"],kde=True)\n"
     ]
    },
    {
     "data": {
      "text/plain": [
       "<Axes: xlabel='citric acid', ylabel='Density'>"
      ]
     },
     "execution_count": 40,
     "metadata": {},
     "output_type": "execute_result"
    },
    {
     "data": {
      "image/png": "[encoded data removed]",
      "text/plain": [
       "<Figure size 640x480 with 1 Axes>"
      ]
     },
     "metadata": {},
     "output_type": "display_data"
    }
   ],
   "source": [
    "sns.distplot(df[\"citric acid\"],kde=True)"
   ]
  },
  {
   "cell_type": "code",
   "execution_count": 41,
   "metadata": {},
   "outputs": [
    {
     "data": {
      "text/plain": [
       "ShapiroResult(statistic=0.9743338823318481, pvalue=2.686385373947307e-16)"
      ]
     },
     "execution_count": 41,
     "metadata": {},
     "output_type": "execute_result"
    }
   ],
   "source": [
    "#shapiro test is used to check normal distribution \n",
    "from scipy import stats\n",
    "stats.shapiro(df['volatile acidity'])       # as p-value < 5% then reject null hypothesis"
   ]
  },
  {
   "cell_type": "code",
   "execution_count": 46,
   "metadata": {},
   "outputs": [],
   "source": [
    "random_data = randn(100)"
   ]
  },
  {
   "cell_type": "code",
   "execution_count": 44,
   "metadata": {},
   "outputs": [
    {
     "data": {
      "text/plain": [
       "<seaborn.axisgrid.FacetGrid at 0x2292135bc70>"
      ]
     },
     "execution_count": 44,
     "metadata": {},
     "output_type": "execute_result"
    },
    {
     "data": {
      "image/png": "[encoded data removed]",
      "text/plain": [
       "<Figure size 500x500 with 1 Axes>"
      ]
     },
     "metadata": {},
     "output_type": "display_data"
    }
   ],
   "source": [
    "sns.displot(randn(100),kde=True)             "
   ]
  },
  {
   "cell_type": "code",
   "execution_count": 45,
   "metadata": {},
   "outputs": [
    {
     "data": {
      "text/plain": [
       "ShapiroResult(statistic=0.9880189299583435, pvalue=0.5096059441566467)"
      ]
     },
     "execution_count": 45,
     "metadata": {},
     "output_type": "execute_result"
    }
   ],
   "source": [
    "stats.shapiro(randn(100))               # as p-value > 5% then accept null hypothesis"
   ]
  },
  {
   "cell_type": "code",
   "execution_count": 47,
   "metadata": {},
   "outputs": [
    {
     "data": {
      "text/plain": [
       "NormaltestResult(statistic=152.039214793795, pvalue=9.662822259281016e-34)"
      ]
     },
     "execution_count": 47,
     "metadata": {},
     "output_type": "execute_result"
    }
   ],
   "source": [
    "# 2nd way to check the data is normally distributed or not\n",
    "stats.normaltest(df['citric acid'])"
   ]
  },
  {
   "attachments": {},
   "cell_type": "markdown",
   "metadata": {},
   "source": [
    "## **t-test**\n",
    "**type of t_test**              \n",
    "one sample t test (wrt to 1 independent sample)             \n",
    "two sample t test (wrt to 2 independent sample)             \n",
    "paired t test (2 sample from the same population in different time interval)"
   ]
  },
  {
   "attachments": {},
   "cell_type": "markdown",
   "metadata": {},
   "source": [
    "**- sample size must less than 30\n",
    "- population mean / **"
   ]
  },
  {
   "cell_type": "code",
   "execution_count": 60,
   "metadata": {},
   "outputs": [],
   "source": [
    "population = np.random.randint(10,50,50)"
   ]
  },
  {
   "cell_type": "code",
   "execution_count": 61,
   "metadata": {},
   "outputs": [],
   "source": [
    "sample1 = np.random.choice(population, 20)\n",
    "sample2 = np.random.choice(population, 20)"
   ]
  },
  {
   "cell_type": "code",
   "execution_count": 62,
   "metadata": {},
   "outputs": [],
   "source": [
    "mean_sample1 = np.mean(sample1)\n",
    "mean_sample2 = np.mean(sample2)"
   ]
  },
  {
   "cell_type": "code",
   "execution_count": 63,
   "metadata": {},
   "outputs": [
    {
     "name": "stdout",
     "output_type": "stream",
     "text": [
      "30.65 27.25\n"
     ]
    }
   ],
   "source": [
    "print(mean_sample1,mean_sample2)"
   ]
  },
  {
   "cell_type": "code",
   "execution_count": 64,
   "metadata": {},
   "outputs": [
    {
     "data": {
      "text/plain": [
       "TtestResult(statistic=10.269625528514593, pvalue=3.422692022178771e-09, df=19)"
      ]
     },
     "execution_count": 64,
     "metadata": {},
     "output_type": "execute_result"
    }
   ],
   "source": [
    "# function for 1 sample ttest --\n",
    "stats.ttest_1samp(sample1,5)"
   ]
  },
  {
   "cell_type": "code",
   "execution_count": null,
   "metadata": {},
   "outputs": [],
   "source": []
  },
  {
   "cell_type": "code",
   "execution_count": null,
   "metadata": {},
   "outputs": [],
   "source": []
  },
  {
   "cell_type": "code",
   "execution_count": null,
   "metadata": {},
   "outputs": [],
   "source": []
  }
 ],
 "metadata": {
  "kernelspec": {
   "display_name": "Python 3",
   "language": "python",
   "name": "python3"
  },
  "language_info": {
   "codemirror_mode": {
    "name": "ipython",
    "version": 3
   },
   "file_extension": ".py",
   "mimetype": "text/x-python",
   "name": "python",
   "nbconvert_exporter": "python",
   "pygments_lexer": "ipython3",
   "version": "3.10.9"
  },
  "orig_nbformat": 4
 },
 "nbformat": 4,
 "nbformat_minor": 2
}
