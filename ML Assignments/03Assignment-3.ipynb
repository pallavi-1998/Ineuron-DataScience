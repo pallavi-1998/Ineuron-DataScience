{
 "cells": [
  {
   "attachments": {},
   "cell_type": "markdown",
   "metadata": {},
   "source": [
    "# Assignment - 3\n",
    "--------------------------------------------------------------------------------------------------------------------------------------------------------------------------------------\n"
   ]
  },
  {
   "attachments": {},
   "cell_type": "markdown",
   "metadata": {},
   "source": [
    "#### 1. Explain the term machine learning, and how does it work? Explain two machine learning applications in the business world. What are some of the ethical concerns that machine learning applications could raise?"
   ]
  },
  {
   "attachments": {},
   "cell_type": "markdown",
   "metadata": {},
   "source": [
    "**Ans** Machine Learning is a form of artificial intelligence (AI) that teaches computers to think in a similar way to how humans do: Learning and improving upon past experiences. It works by exploring data and identifying patterns, and involves minimal human intervention.\n",
    "\n",
    "There are various applications in Business World :\n",
    "\n",
    "1. Real-time chatbot agents.\n",
    "2. Decision support.\n",
    "3. Customer recommendation engines.\n",
    "4. Customer churn modeling.\n",
    "5. Dynamic pricing tactics.\n",
    "6. Market research and customer segmentation.\n",
    "7. Fraud detection.\n",
    "\n",
    "Also there are some of the **ethical concerns that ML applications** could raise : AI presents three major areas of ethical concern for society: Privacy and surveillance, bias and discrimination, and perhaps the deepest, most difficult philosophical question of the era, the role of human judgment."
   ]
  },
  {
   "attachments": {},
   "cell_type": "markdown",
   "metadata": {},
   "source": [
    "#### 2. Describe the process of human learning:\n",
    "- i. Under the supervision of experts\n",
    "- ii. With the assistance of experts in an indirect manner\n",
    "- iii. Self-education"
   ]
  },
  {
   "attachments": {},
   "cell_type": "markdown",
   "metadata": {},
   "source": [
    "**Ans** The processes of Human learning are described below:\n",
    "\n",
    "**Under the supervision of experts:** Human-guided machine learning is a process whereby subject matter experts accelerate the learning process by teaching the technology in real-time. For example, if the machine learning model comes across a piece of data it is uncertain about, a human can be asked to weigh in and give feedback. The model then learns from this input, and uses it to make a more accurate prediction the next time. Human-guided machine learning works from the bottom up by first using algorithms to conduct the heavy lifting of identifying relationships within the data, and engaging humans when necessary for training or validation **Concept Learning**.\n",
    "\n",
    "**With the assistance of experts in an indirect manner:** Well The process of an algorithm learning from the training dataset can be thought of as a teacher supervising the learning process. We know the correct answers, the algorithm iteratively makes predictions on the training data and is corrected by the teacher. Learning stops when the algorithm achieves an acceptable level of performance **Operant Conditioning**.\n",
    "\n",
    "**Self education:** Ability to recognize patterns, learn from data, and become more intelligent over time (can be AI or programmatically based).Machine Learning: AI systems with ability to automatically learn and improve from experience without being explicitly programmed via training **Hebbian Learning**."
   ]
  },
  {
   "attachments": {},
   "cell_type": "markdown",
   "metadata": {},
   "source": [
    "#### 3. Provide a few examples of various types of machine learning."
   ]
  },
  {
   "attachments": {},
   "cell_type": "markdown",
   "metadata": {},
   "source": [
    "**Ans** Examples of Various types of Machine Learning techniques are:\n",
    "\n",
    "Example of **Supervised Learning** is text classification problems. In this set of problems, the goal is to predict the class label of a given piece of text. One particularly popular topic in text classification is to predict the sentiment of a piece of text, like a tweet or a product review,Image segmentation, Medical Diagnosis\n",
    "\n",
    "Example of **Unsupervised Learning** : Fraud detection, Malware detection, Anomaly detection, Clustering Analysis, Identification of human errors during data entry Conducting accurate basket analysis, etc.\n",
    "\n",
    "Example of **Reinforcement Learning** : Applications in self-driving cars, Industry automation : learning-based robots are used to perform various tasks."
   ]
  },
  {
   "attachments": {},
   "cell_type": "markdown",
   "metadata": {},
   "source": [
    "#### 4. Examine the various forms of machine learning."
   ]
  },
  {
   "attachments": {},
   "cell_type": "markdown",
   "metadata": {},
   "source": [
    "**Ans** These are three types of Machine Learning Techniques:\n",
    "\n",
    "1. Supervised Learning\n",
    "2. Unsupervised Learning\n",
    "3. Reinforcement Learning."
   ]
  },
  {
   "attachments": {},
   "cell_type": "markdown",
   "metadata": {},
   "source": [
    "#### 5. Can you explain what a well-posed learning problem is? Explain the main characteristics that must be present to identify a learning problem properly."
   ]
  },
  {
   "attachments": {},
   "cell_type": "markdown",
   "metadata": {},
   "source": [
    "**Ans** **Well Posed Learning Problem** – A computer program is said to learn from experience **E** in context to some task **T** and some performance measure **P**, if its performance on **T**, as was measured by **P**, upgrades with experience **E**. Any problem can be segregated as well-posed learning problem if it has three traits – **Task**, **Performance** and **Experience**.                                \n",
    "Examples - \n",
    "1. To better filter emails as spam or not \n",
    "2. Handwriting Recognition Problem \n",
    "3. Fruit Prediction Problem\n",
    "4. Face Recognition Problem\n",
    "5. Automatic Translation of documents"
   ]
  },
  {
   "attachments": {},
   "cell_type": "markdown",
   "metadata": {},
   "source": [
    "#### 6. Is machine learning capable of solving all problems? Give a detailed explanation of your answer."
   ]
  },
  {
   "attachments": {},
   "cell_type": "markdown",
   "metadata": {},
   "source": [
    "**Ans** Machine Learning probably can run into all problems for solving but lays down with some concerns which are:\n",
    "\n",
    "**Ethics:** The idea of trusting data and algorithms more than our own judgment has its pros and cons. Obviously, we benefit from these algorithms, otherwise, we wouldn’t be using them in the first place. These algorithms allow us to automate processes by making informed judgments using available data. Sometimes, however, this means replacing someone’s job with an algorithm, which comes with ethical ramifications.\n",
    "\n",
    "**Deterministic Problem:** Machine learning is stochastic, not deterministic. A neural network does not understand Newton’s second law, or that density cannot be negative — there are no physical constraints.\n",
    "\n",
    "**Lack of Data:** Many machine learning algorithms require large amounts of data before they begin to give useful results. Having a lack of good features can cause your algorithm to perform poorly, having a lack of good ground truth data can also limit the capabilities of your model."
   ]
  },
  {
   "attachments": {},
   "cell_type": "markdown",
   "metadata": {},
   "source": [
    "#### 7. What are the various methods and technologies for solving machine learning problems? Any two of them should be defined in detail."
   ]
  },
  {
   "attachments": {},
   "cell_type": "markdown",
   "metadata": {},
   "source": [
    "**Ans** The Various **Technologies** Used in Machine Learning Problems are: **Scikit Learn**, **Pytorch**, **Tensorflow**, **Keras**, **Python**.\n",
    "\n",
    "**Scikit Learn**: Scikit-learn (Sklearn) is the most useful and robust library for machine learning in Python. It provides a selection of efficient tools for machine learning and statistical modeling including classification, Regression, clustering and dimensionality reduction via a consistence interface in Python.\n",
    "**Tensorflow**: It is a open source artificial intelligence library, Using data flow graphs to build models. It allows developers to create large-scale neural networks with many layers. TensorFlow is mainly used for: Classification, Perception, Understanding, Discovering, Prediction and Creation.\n",
    "\n",
    "The Various **Methods** used in Machine Learning Problems are: **Regression**, **Classification**, **Clustering**, **Dimensionality Reductio**, **Ensemble Methods**, **Neural Network**, **Deep Learning**, **Transfer Learning**, **Reinforcement Learning**, **Natural Language Processing**, **Word Embeddings**.\n",
    "\n",
    "**Regression** methods fall within the category of supervised ML. They help to predict or explain a particular numerical value based on a set of prior data, for example predicting the price of a property based on previous pricing data for similar properties.\n",
    "\n",
    "Another class of supervised ML, **classification** methods predict or explain a class value. For example, they can help predict whether or not an online customer will buy a product. The output can be yes or no, buyer or not buyer. But classification methods aren’t limited to two classes.            \n",
    "For example, a classification method could help to assess whether a given image contains a car or a truck. In this case, the output will be 3 different values:\n",
    "\n",
    "1. The image contains a car\n",
    "2. The image contains a truck\n",
    "3. The image contains neither a car nor a truck."
   ]
  },
  {
   "attachments": {},
   "cell_type": "markdown",
   "metadata": {},
   "source": [
    "#### 8. Can you explain the various forms of supervised learning? Explain each one with an example application."
   ]
  },
  {
   "attachments": {},
   "cell_type": "markdown",
   "metadata": {},
   "source": [
    "**Ans** The various forms of supervised learning are explained in detail below:\n",
    "\n",
    "**Regression**: In regression, a single output value is produced using training data.For example, regression can help predict the price of a house based on its locality, size, etc.\n",
    "\n",
    "**Classification**: It involves grouping the data into classes.eg. If you are thinking of extending credit to a person, you can use classification to determine whether or not a person would be a loan defaulter.\n",
    "\n",
    "**Naive Bayesian Model**: The Bayesian model of classification is used for large finite datasets. It is a method of assigning class labels using a direct acyclic graph.\n",
    "\n",
    "**Decision Trees**: A decision tree is a flowchart-like model that contains conditional control statements, comprising decisions and their probable consequences. The output relates to the labelling of unforeseen data."
   ]
  },
  {
   "attachments": {},
   "cell_type": "markdown",
   "metadata": {},
   "source": [
    "#### 9. What is the difference between supervised and unsupervised learning? With a sample application in each region, explain the differences."
   ]
  },
  {
   "attachments": {},
   "cell_type": "markdown",
   "metadata": {},
   "source": [
    "**Ans** Examples:                       \n",
    "**Supervised Learning** :  Regression, Support Vector Machine, Classification, Decision tree, Bayesian Logic etc.                   \n",
    "**Unsuperised Learning** : Clustering, KNN, and Apriori algorithm.\n",
    "\n",
    "Differences are :"
   ]
  },
  {
   "attachments": {},
   "cell_type": "markdown",
   "metadata": {},
   "source": [
    "S.No | Supervised Learning   | Unsupervised Learning\n",
    "--|:---------:|:-----------:\n",
    "1|trained using labeled data      | trained using unlabeled data      \n",
    "2|input data is provided to the model along with the output  | only input data is provided to the model\n",
    "3|model predicts the output |model finds the hidden patterns in data\n",
    "4|model takes direct feedback to check if it is predicting correct output or not | model does not take any feedback"
   ]
  },
  {
   "attachments": {},
   "cell_type": "markdown",
   "metadata": {},
   "source": [
    "#### 10. Describe the machine learning process in depth.\n",
    "- i. Make brief notes on any two of the following: MATLAB is one of the most widely used programming languages.\n",
    "- ii. Deep learning applications in healthcare\n",
    "- iii. Study of the market basket\n",
    "- iv. Linear regression (simple)"
   ]
  },
  {
   "attachments": {},
   "cell_type": "markdown",
   "metadata": {},
   "source": [
    "**Ans** Machine Learning **Process** or **Steps**: \n",
    "1. **Collecting Data** : The quality of the data that you feed to the machine will determine how accurate your model is and how correct the pattern followed by the model.\n",
    "2. **Preparing Data** : Cleaning the data to remove unwanted data, missing values, rows, and columns, duplicate values, data type conversion, etc. You might even have to restructure the dataset and change the rows and columns or index of rows and columns. Also, visualize the data.               \n",
    "Splitting the cleaned data into two sets - a training set and a testing set.\n",
    "3. **Choosing a model**: model determines the output you get after running a machine learning algorithm on the collected data. It is important to choose a model which is relevant to the task at hand. \n",
    "4. **Training the model** :  pass the prepared data to your machine learning model to find patterns and make predictions. It results in the model learning from the data so that it can accomplish the task set. Over time, with training, the model gets better at predicting. \n",
    "5. **Evaluating the model** :  testing the performance of the model on previously unseen data. The unseen data used is the testing set that you split our data into earlier. If testing was done on the same data which is used for training, you will not get an accurate measure, as the model is already used to the data, and finds the same patterns in it, as it previously did. This will give you disproportionately high accuracy.                         \n",
    "When used on testing data, you get an accurate measure of how your model will perform and its speed.\n",
    "6. **Parameter Tuning** : After evaluation of model, checking if its accuracy can be improved in any way. This is done by tuning the parameters present in your model. Parameters are the variables in the model that the programmer generally decides. At a particular value of your parameter, the accuracy will be the maximum. Parameter tuning refers to finding these values.\n",
    "7. **Making Predictions** : In the end, you can use your model on unseen data to make predictions accurately."
   ]
  },
  {
   "attachments": {},
   "cell_type": "markdown",
   "metadata": {},
   "source": [
    "**Deep learning applications in healthcare**: Deep learning provides the healthcare industry with the ability to analyze data at exceptional speeds without compromising on accuracy. It’s not machine learning, nor is it AI, it’s an elegant blend of both that uses a layered algorithmic architecture to sift through data at an astonishing rate. The benefits of deep learning in healthcare are plentiful – fast, efficient, accurate – but they don’t stop there. Even more benefits lie within the neural networks formed by multiple layers of AI and ML and their ability to learn. Yes, the secret to deep learning’s success is in the name – learning.\n",
    "\n",
    "**Linear regression (simple)**: Linear Regression models describe the relationship between variables by fitting a line to the observed data. Linear regression models use a straight line, while logistic and nonlinear regression models use a curved line. Regression allows you to estimate how a dependent variable changes as the independent variable(s) change"
   ]
  },
  {
   "attachments": {},
   "cell_type": "markdown",
   "metadata": {},
   "source": [
    "#### 11. Make a comparison between:-\n",
    "1. Generalization and abstraction\n",
    "2. Learning that is guided and unsupervised\n",
    "3. Regression and classification"
   ]
  },
  {
   "attachments": {},
   "cell_type": "markdown",
   "metadata": {},
   "source": [
    "**Ans** The differences between among the given concepts is:\n",
    "\n",
    "**Generalization and abstraction**: Abstraction is the process of removing details of objects. And Generalization, then, is the formulation of general concepts from specific instances by abstracting common properties. A concrete object can be looked at as a “subset” of a more generalized object.\n",
    "\n",
    "**Learning that is guided and Unsupervised**: Supervised learning is the method that trains machines to use data that is well classified and labeled. Whereas Unsupervised learning, on the other hand, is the method that trains machines to use data that is neither classified nor labeled.\n",
    "\n",
    "**Regression and classification**:\n",
    "\n",
    "**Classification Models** – Classification models are used for problems where the output variable can be categorized, such as Yes or No, or Pass or Fail. Classification Models are used to predict the category of the data. Real-life examples include spam detection, sentiment analysis, scorecard prediction of exams, etc.\n",
    "\n",
    "**Regression Models** – Regression models are used for problems where the output variable is a real value such as a unique number, dollars, salary, weight or pressure, for example. It is most often used to predict numerical values based on previous data observations. Some of the more familiar regression algorithms include linear regression, logistic regression, polynomial regression, and ridge regression."
   ]
  }
 ],
 "metadata": {
  "language_info": {
   "name": "python"
  },
  "orig_nbformat": 4
 },
 "nbformat": 4,
 "nbformat_minor": 2
}
