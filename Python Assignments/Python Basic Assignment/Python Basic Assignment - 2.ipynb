{
 "cells": [
  {
   "attachments": {},
   "cell_type": "markdown",
   "metadata": {},
   "source": [
    "# Python Basic Assignment - 2"
   ]
  },
  {
   "attachments": {},
   "cell_type": "markdown",
   "metadata": {},
   "source": [
    "-----------------------------------------------------------------------------------------------------------------------------------------------------"
   ]
  },
  {
   "attachments": {},
   "cell_type": "markdown",
   "metadata": {},
   "source": [
    "#### 1.What are the two values of the Boolean data type? How do you write them?"
   ]
  },
  {
   "attachments": {},
   "cell_type": "markdown",
   "metadata": {},
   "source": [
    "- The two values for Boolean data type are True or False. \n",
    "- Syntax = True/False "
   ]
  },
  {
   "cell_type": "code",
   "execution_count": 1,
   "metadata": {},
   "outputs": [
    {
     "name": "stdout",
     "output_type": "stream",
     "text": [
      "x = False and y = True\n"
     ]
    }
   ],
   "source": [
    "x = False\n",
    "y = True\n",
    "print(f\"x = {x} and y = {y}\")"
   ]
  },
  {
   "attachments": {},
   "cell_type": "markdown",
   "metadata": {},
   "source": [
    "#### 2. What are the three different types of Boolean operators?"
   ]
  },
  {
   "attachments": {},
   "cell_type": "markdown",
   "metadata": {},
   "source": [
    "1.\tAND --> sets 1 if both bits are 1 else 0 \n",
    "2.\tOR --> sets 1 if either of bits are 1 else \n",
    "3.\tNOT --> sets the opposite bit or each of then "
   ]
  },
  {
   "cell_type": "code",
   "execution_count": 4,
   "metadata": {},
   "outputs": [
    {
     "name": "stdout",
     "output_type": "stream",
     "text": [
      "0\n",
      "3\n",
      "-13\n"
     ]
    }
   ],
   "source": [
    "print(1&2)\n",
    "print(1|2)\n",
    "print(~12) "
   ]
  },
  {
   "attachments": {},
   "cell_type": "markdown",
   "metadata": {},
   "source": [
    "#### 3. Make a list of each Boolean operator's truth tables (i.e. every possible combination of Boolean values for the operator and what it evaluate)."
   ]
  },
  {
   "cell_type": "code",
   "execution_count": 7,
   "metadata": {},
   "outputs": [
    {
     "name": "stdout",
     "output_type": "stream",
     "text": [
      "AND --> [False, False, False, True]\n",
      "OR --> [False, True, True, True]\n",
      "NOT --> [False, True]\n"
     ]
    }
   ],
   "source": [
    "list_of_and = [False and False,True and False,False and True, True and True ]\n",
    "print(f\"AND --> {list_of_and}\")\n",
    "list_of_or = [False or False,True or False,False or True, True or True ]\n",
    "print(f\"OR --> {list_of_or}\")\n",
    "list_of_not = [not True, not False]\n",
    "print(f\"NOT --> {list_of_not}\")"
   ]
  },
  {
   "attachments": {},
   "cell_type": "markdown",
   "metadata": {},
   "source": [
    "#### 4. What are the values of the following expressions?"
   ]
  },
  {
   "attachments": {},
   "cell_type": "markdown",
   "metadata": {},
   "source": [
    "(5 > 4) and (3 == 5)                    : False     \n",
    "not (5 > 4)                             : False     \n",
    "(5 > 4) or (3 == 5)                     : True       \n",
    "not ((5 > 4) or (3 == 5))               : False            \n",
    "(True and True) and (True == False)     : False                  \n",
    "(not False) or (not True)               : True      "
   ]
  },
  {
   "cell_type": "code",
   "execution_count": 9,
   "metadata": {},
   "outputs": [
    {
     "name": "stdout",
     "output_type": "stream",
     "text": [
      "[False, False, True, False, False, True]\n"
     ]
    }
   ],
   "source": [
    "print([(5 > 4) and (3 == 5),            \n",
    "not (5 > 4),             \n",
    "(5 > 4) or (3 == 5),             \n",
    "not ((5 > 4) or (3 == 5)),           \n",
    "(True and True) and (True == False),            \n",
    "(not False) or (not True)])"
   ]
  },
  {
   "attachments": {},
   "cell_type": "markdown",
   "metadata": {},
   "source": [
    "#### 5. What are the six comparison operators?"
   ]
  },
  {
   "attachments": {},
   "cell_type": "markdown",
   "metadata": {},
   "source": [
    "1. == : is equal to\n",
    "2. != : is not equal to\n",
    "3. \\> : is greater than\n",
    "4. \\>= : is greater than or equal to\n",
    "5. < : is less than\n",
    "6. <= : is less than or equal to"
   ]
  },
  {
   "cell_type": "code",
   "execution_count": 10,
   "metadata": {},
   "outputs": [
    {
     "name": "stdout",
     "output_type": "stream",
     "text": [
      "False\n",
      "True\n",
      "False\n",
      "True\n",
      "False\n",
      "True\n"
     ]
    }
   ],
   "source": [
    "a = 10 \n",
    "b =20\n",
    "print(a == b)  \n",
    "print(a != b) \n",
    "print(a > b)\n",
    "print(a < b)\n",
    "print(a >= b) \n",
    "print(a <= b) "
   ]
  },
  {
   "attachments": {},
   "cell_type": "markdown",
   "metadata": {},
   "source": [
    "#### 6. How do you tell the difference between the equal to and assignment operators? Describe a condition and when you would use one."
   ]
  },
  {
   "attachments": {},
   "cell_type": "markdown",
   "metadata": {},
   "source": [
    "- = : single equal is an assignment operator used to assign values to variables or constants. (eg: a = 10)\n",
    "- == : double equal to is a comparison operator used to compare in between two values. (eg: 20 == 30 )"
   ]
  },
  {
   "attachments": {},
   "cell_type": "markdown",
   "metadata": {},
   "source": [
    "#### 7. Identify the three blocks in this code:"
   ]
  },
  {
   "attachments": {},
   "cell_type": "markdown",
   "metadata": {},
   "source": [
    "spam = 0        \n",
    "if spam == 10:      \n",
    "print('eggs')       \n",
    "if spam > 5:        \n",
    "print('bacon')      \n",
    "else:       \n",
    "print('ham')        \n",
    "print('spam')       \n",
    "print('spam')       "
   ]
  },
  {
   "cell_type": "code",
   "execution_count": 11,
   "metadata": {},
   "outputs": [
    {
     "name": "stdout",
     "output_type": "stream",
     "text": [
      "ham\n",
      "spam\n",
      "spam\n"
     ]
    }
   ],
   "source": [
    "spam = 0                #driver block = block 0\n",
    "if spam == 10:          #if block = block 1\n",
    "    print('eggs')\n",
    "if spam > 5:            #if block = block 2\n",
    "    print('bacon')\n",
    "else:                   #else block = block 3\n",
    "    print('ham')\n",
    "print('spam')           #driver block = block 0\n",
    "print('spam')"
   ]
  },
  {
   "attachments": {},
   "cell_type": "markdown",
   "metadata": {},
   "source": [
    "#### 8. Write code that prints Hello if 1 is stored in spam, prints Howdy if 2 is stored in spam, and prints Greetings! if anything else is stored in spam."
   ]
  },
  {
   "cell_type": "code",
   "execution_count": 12,
   "metadata": {},
   "outputs": [
    {
     "name": "stdout",
     "output_type": "stream",
     "text": [
      "Good Night\n"
     ]
    }
   ],
   "source": [
    "spam = 0\n",
    "if spam == 1:\n",
    "\tprint(\"Hello\")\n",
    "elif spam == 2:\n",
    "\tprint(\"Howdy\")\n",
    "else: \n",
    "\tprint(\"Good Night\")\n"
   ]
  },
  {
   "attachments": {},
   "cell_type": "markdown",
   "metadata": {},
   "source": [
    "#### 9.If your programme is stuck in an endless loop, what keys you’ll press?"
   ]
  },
  {
   "attachments": {},
   "cell_type": "markdown",
   "metadata": {},
   "source": [
    "- Press Ctrl + C on the command line"
   ]
  },
  {
   "attachments": {},
   "cell_type": "markdown",
   "metadata": {},
   "source": [
    "#### 10. How can you tell the difference between break and continue?"
   ]
  },
  {
   "attachments": {},
   "cell_type": "markdown",
   "metadata": {},
   "source": [
    "- Break : break on any condition if it is true comes out of the loop (exits the loop) and executes the rest of code. \n",
    "- Continue : while continue skip that current iteration and starts again for next iteration in a loop.\n",
    "- For eg: "
   ]
  },
  {
   "cell_type": "code",
   "execution_count": 18,
   "metadata": {},
   "outputs": [
    {
     "name": "stdout",
     "output_type": "stream",
     "text": [
      "0\n",
      "1\n",
      "rest of code for break\n",
      "0\n",
      "1\n",
      "3\n",
      "4\n",
      "5\n",
      "rest of code for continue\n"
     ]
    }
   ],
   "source": [
    "#------------Break----------------------\n",
    "for x in range(3):\n",
    "    if x == 2:\n",
    "        break  # it will come out of loop and run rest of code\n",
    "    print(x)\n",
    "print(\"rest of code for break\") \n",
    "#------------Continue----------------------\n",
    "for x in range(6):\n",
    "    if x == 2:\n",
    "        continue  # it will skip the code in loop for x == 2 and go for next iteration x = 3\n",
    "    print(x)\n",
    "print(\"rest of code for continue\") "
   ]
  },
  {
   "attachments": {},
   "cell_type": "markdown",
   "metadata": {},
   "source": [
    "#### 11. In a for loop, what is the difference between range(10), range(0, 10), and range(0, 10, 1)?"
   ]
  },
  {
   "attachments": {},
   "cell_type": "markdown",
   "metadata": {},
   "source": [
    "- Syntax for range is ---- range(start, end, step)              \n",
    "start (optional by default start = 0)       \n",
    "end (mandatory but excludes the end value only iterate till end-1)          \n",
    "step (optional jump required within range)      "
   ]
  },
  {
   "cell_type": "code",
   "execution_count": 20,
   "metadata": {},
   "outputs": [
    {
     "name": "stdout",
     "output_type": "stream",
     "text": [
      "0 1 2 3 4 5 6 7 8 9 "
     ]
    }
   ],
   "source": [
    "for i in range(10):\n",
    "    print(i,end= ' ')"
   ]
  },
  {
   "cell_type": "code",
   "execution_count": 21,
   "metadata": {},
   "outputs": [
    {
     "name": "stdout",
     "output_type": "stream",
     "text": [
      "0 1 2 3 4 5 6 7 8 9 "
     ]
    }
   ],
   "source": [
    "for i in range(0,10):\n",
    "    print(i,end= ' ')"
   ]
  },
  {
   "cell_type": "code",
   "execution_count": 22,
   "metadata": {},
   "outputs": [
    {
     "name": "stdout",
     "output_type": "stream",
     "text": [
      "0 1 2 3 4 5 6 7 8 9 "
     ]
    }
   ],
   "source": [
    "for i in range(0,10,1):\n",
    "    print(i,end= ' ')"
   ]
  },
  {
   "attachments": {},
   "cell_type": "markdown",
   "metadata": {},
   "source": [
    "#### 12. Write a short program that prints the numbers 1 to 10 using a for loop. Then write an equivalent program that prints the numbers 1 to 10 using a while loop."
   ]
  },
  {
   "cell_type": "code",
   "execution_count": 24,
   "metadata": {},
   "outputs": [
    {
     "name": "stdout",
     "output_type": "stream",
     "text": [
      "1 2 3 4 5 6 7 8 9 10 "
     ]
    }
   ],
   "source": [
    "for x in range(1,11):\n",
    "    print(x,end=' ')\n"
   ]
  },
  {
   "cell_type": "code",
   "execution_count": 25,
   "metadata": {},
   "outputs": [
    {
     "name": "stdout",
     "output_type": "stream",
     "text": [
      "1 2 3 4 5 6 7 8 9 10 "
     ]
    }
   ],
   "source": [
    "x = 1\n",
    "while x <= 10:\n",
    "    print(x, end=' ')\n",
    "    x += 1\n"
   ]
  },
  {
   "attachments": {},
   "cell_type": "markdown",
   "metadata": {},
   "source": [
    "#### 13. If you had a function named bacon() inside a module named spam, how would you call it after importing spam?"
   ]
  },
  {
   "attachments": {},
   "cell_type": "markdown",
   "metadata": {},
   "source": [
    "import spam         \n",
    "spam.bacon()"
   ]
  }
 ],
 "metadata": {
  "kernelspec": {
   "display_name": "Python 3",
   "language": "python",
   "name": "python3"
  },
  "language_info": {
   "codemirror_mode": {
    "name": "ipython",
    "version": 3
   },
   "file_extension": ".py",
   "mimetype": "text/x-python",
   "name": "python",
   "nbconvert_exporter": "python",
   "pygments_lexer": "ipython3",
   "version": "3.8.5 (tags/v3.8.5:580fbb0, Jul 20 2020, 15:43:08) [MSC v.1926 32 bit (Intel)]"
  },
  "orig_nbformat": 4,
  "vscode": {
   "interpreter": {
    "hash": "e8d101deb4f15aa80d1df610b470683654faf42c029e236d67b2441b6e2180d8"
   }
  }
 },
 "nbformat": 4,
 "nbformat_minor": 2
}
