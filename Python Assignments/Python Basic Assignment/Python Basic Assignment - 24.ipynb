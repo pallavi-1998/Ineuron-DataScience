{
 "cells": [
  {
   "attachments": {},
   "cell_type": "markdown",
   "metadata": {},
   "source": [
    "# Python Basic Assignment - 24.ipynb"
   ]
  },
  {
   "attachments": {},
   "cell_type": "markdown",
   "metadata": {},
   "source": [
    "------------------------------------------------------------------------------------------------------------------------------------------"
   ]
  },
  {
   "attachments": {},
   "cell_type": "markdown",
   "metadata": {},
   "source": [
    "#### 1. What is the relationship between def statements and lambda expressions ?"
   ]
  },
  {
   "attachments": {},
   "cell_type": "markdown",
   "metadata": {},
   "source": [
    "- def keyword is used to create named function in python, Function naming follows the same rules of writing identifiers in Python\n",
    "- Lambdas are one-line functions without a name, in other words using lambdas we can create anonymous functions in python. Lambda functions work practically the same as any other method in Python. \n",
    "- Lambdas differ from normal Python methods because they can have only one expression, and they can't contain any statements and their return type is a function object"
   ]
  },
  {
   "attachments": {},
   "cell_type": "markdown",
   "metadata": {},
   "source": [
    "#### 2. What is the benefit of lambda?"
   ]
  },
  {
   "attachments": {},
   "cell_type": "markdown",
   "metadata": {},
   "source": [
    "- Fewer Lines of Code \n",
    "- Lambda functions are inline functions and thus execute comparatively faster \n",
    "- Many times lambda functions make code much more readable by avoiding the logical jumps caused by function calls\n",
    "- Using lambda function, you can define a function and call it immediately at the end of definition."
   ]
  },
  {
   "attachments": {},
   "cell_type": "markdown",
   "metadata": {},
   "source": [
    "#### 3. Compare and contrast map, filter, and reduce."
   ]
  },
  {
   "attachments": {},
   "cell_type": "markdown",
   "metadata": {},
   "source": [
    "- map() applies as a transformation to an element. it iterates through all items in the given iterable and executes the function we passed as an argument on each of them. Syntax : map(function, iterable(s))\n",
    "\n",
    "- filter() accumulates only elements matching a condition. filter() forms a new list that contains only elements that satisfy a certain condition, i.e. the function we passed returns True Syntax : filter(function, iterable(s))\n",
    "\n",
    "- reduce() accumulates all elements to a single value, by using immutable values reduce() works by calling the function we passed for the first two items in the sequence. The result returned by the function is used in another call to function alongside with the next (third in this case), element             \n",
    "Syntax : reduce(function, sequence[, initial])          \n",
    "- For using the reduce() function, you need to import reduce from functools librray."
   ]
  },
  {
   "attachments": {},
   "cell_type": "markdown",
   "metadata": {},
   "source": [
    "#### 4. What are function annotations, and how are they used?"
   ]
  },
  {
   "attachments": {},
   "cell_type": "markdown",
   "metadata": {},
   "source": [
    "- Function annotation is the standard way to access the metadata with the arguments and the return value of the function. These are optional Python expressions that get allied to different parts of the function. \n",
    "- They get evaluated only during the compile-time and have no significance during the run-time of the code. They do not have any significance or meaning associated with them until accessed by some third-party libraries. \n",
    "- They are used to type check the functions by declaring the type of the parameters and the return value for the functions. The string-based annotations help us to improve the help messages.\n",
    "\n",
    "- yntax : def func(a: 'int') -> 'int': pass\n",
    "\n",
    "- Annotations for simple parameters: def func(x: 'float'=15.6, y: 'argument2'):                 \n",
    "In the above code the argument, ‘x’ of the function func, has been annotated to float data type and the argument ‘y’ has a string-based annotation. The argument can also be assigned to a default value using a ‘=’ symbol followed by the default value. These default values are optional to the code.\n",
    "\n",
    "- Annotations for return values: def func(a: expression) -> 'int': The annotations for the return value is written after the ‘->’ symbol."
   ]
  },
  {
   "attachments": {},
   "cell_type": "markdown",
   "metadata": {},
   "source": [
    "#### 5. What are recursive functions, and how are they used?"
   ]
  },
  {
   "attachments": {},
   "cell_type": "markdown",
   "metadata": {},
   "source": [
    "- A recursive function is a function that calls itself during its execution. This means that the function will continue to call itself and repeat its behavior until some condition is met to return final result or to stop calling itself."
   ]
  },
  {
   "cell_type": "code",
   "execution_count": 3,
   "metadata": {},
   "outputs": [
    {
     "data": {
      "text/plain": [
       "15"
      ]
     },
     "execution_count": 3,
     "metadata": {},
     "output_type": "execute_result"
    }
   ],
   "source": [
    "def sum(n):\n",
    "    if n == 0:\n",
    "        return 0\n",
    "    else:\n",
    "        return n + sum(n-1)\n",
    "\n",
    "sum(5)"
   ]
  },
  {
   "attachments": {},
   "cell_type": "markdown",
   "metadata": {},
   "source": [
    "#### 6. What are some general design guidelines for coding functions?"
   ]
  },
  {
   "attachments": {},
   "cell_type": "markdown",
   "metadata": {},
   "source": [
    "- Use 4-space indentation and no tabs.\n",
    "- Use docstrings\n",
    "- Use of regular and updated comments are valuable to both the coders and users\n",
    "- Use Python’s default UTF-8 or ASCII encodings and not any fancy encodings\n",
    "- Naming Conventions 8.Characters that should not be used for identifiers: ‘l’ (lowercase letter el), ‘O’ (uppercase letter oh), ‘I’ (uppercase letter eye) as single character variable names as these are similar to the numerals one and zero.\n",
    "- Don’t use non-ASCII characters in identifiers\n",
    "- While naming of function of methods in classes always use self for the first argument"
   ]
  },
  {
   "attachments": {},
   "cell_type": "markdown",
   "metadata": {},
   "source": [
    "#### 7. Name three or more ways that functions can communicate results to a caller."
   ]
  },
  {
   "attachments": {},
   "cell_type": "markdown",
   "metadata": {},
   "source": [
    "- can update an output variable\n",
    "- Function can return single value\n",
    "- Can return multiple values, tuple\n",
    "- can return list,dictionary\n",
    "- can return function object\n",
    "- can return class object (ex: SQL Connection object)\n",
    "- can update a global variable\n",
    "- can update/create a file"
   ]
  }
 ],
 "metadata": {
  "kernelspec": {
   "display_name": "Python 3",
   "language": "python",
   "name": "python3"
  },
  "language_info": {
   "codemirror_mode": {
    "name": "ipython",
    "version": 3
   },
   "file_extension": ".py",
   "mimetype": "text/x-python",
   "name": "python",
   "nbconvert_exporter": "python",
   "pygments_lexer": "ipython3",
   "version": "3.8.5 (tags/v3.8.5:580fbb0, Jul 20 2020, 15:43:08) [MSC v.1926 32 bit (Intel)]"
  },
  "orig_nbformat": 4,
  "vscode": {
   "interpreter": {
    "hash": "e8d101deb4f15aa80d1df610b470683654faf42c029e236d67b2441b6e2180d8"
   }
  }
 },
 "nbformat": 4,
 "nbformat_minor": 2
}
