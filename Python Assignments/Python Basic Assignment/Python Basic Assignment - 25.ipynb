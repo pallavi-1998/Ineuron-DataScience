{
 "cells": [
  {
   "attachments": {},
   "cell_type": "markdown",
   "metadata": {},
   "source": [
    "# Python Basic Assignment - 25.ipynb"
   ]
  },
  {
   "attachments": {},
   "cell_type": "markdown",
   "metadata": {},
   "source": [
    "------------------------------------------------------------------------------------------------------------------------------------------"
   ]
  },
  {
   "attachments": {},
   "cell_type": "markdown",
   "metadata": {},
   "source": [
    "#### 1) What is the difference between enclosing a list comprehension in square brackets and parentheses?"
   ]
  },
  {
   "attachments": {},
   "cell_type": "markdown",
   "metadata": {},
   "source": [
    "- List comprehension in square brackets produces a list object as output \n",
    "- List comprehension in parenthesis () produces a generator object \n",
    "- List comprehension in braces {} produces a set object"
   ]
  },
  {
   "cell_type": "code",
   "execution_count": 2,
   "metadata": {},
   "outputs": [
    {
     "name": "stdout",
     "output_type": "stream",
     "text": [
      "<class 'list'>\n",
      "<class 'generator'>\n",
      "<class 'set'>\n"
     ]
    }
   ],
   "source": [
    "temp1 = [i for i in range(10)] \n",
    "print(type(temp1)) \n",
    "temp2 = (i for i in range(10)) \n",
    "print(type(temp2)) \n",
    "temp3 = {i for i in range(10)} \n",
    "print(type(temp3))"
   ]
  },
  {
   "attachments": {},
   "cell_type": "markdown",
   "metadata": {},
   "source": [
    "#### 2) What is the relationship between generators and iterators?"
   ]
  },
  {
   "attachments": {},
   "cell_type": "markdown",
   "metadata": {},
   "source": [
    "- An iterator is an object which contains a countable number of values and it is used to iterate over iterable objects like list, tuples etc\n",
    "- Using an iterator- iter() keyword is used to create an iterator containing an iterable object. next() keyword is used to call the next element in the iterable object.\n",
    "- Generator It is another way of creating iterators in a simple way where it uses the keyword “yield” instead of returning it in a defined function Generators are implemented using a function containing yield return statement.\n",
    "- the yield function returns the data without affecting or exiting the function. It will return a sequence of data in an iterable format where we need to iterate over the sequence to use the data as they won’t store the entire sequence in the memory instead by using next() function we can iterate the output of generator function"
   ]
  },
  {
   "attachments": {},
   "cell_type": "markdown",
   "metadata": {},
   "source": [
    "#### 3) What are the signs that a function is a generator function?"
   ]
  },
  {
   "attachments": {},
   "cell_type": "markdown",
   "metadata": {},
   "source": [
    "- If a function contains at least one yield statement (it may contain other yield or return statements), it becomes a generator function. \n",
    "- Both yield and return will return some value from a function."
   ]
  },
  {
   "attachments": {},
   "cell_type": "markdown",
   "metadata": {},
   "source": [
    "#### 4) What is the purpose of a yield statement?"
   ]
  },
  {
   "attachments": {},
   "cell_type": "markdown",
   "metadata": {},
   "source": [
    "- instead of stopping execution of the function and returning, yield instead provides a value to the code looping over the generator and pauses execution of the generator function."
   ]
  },
  {
   "attachments": {},
   "cell_type": "markdown",
   "metadata": {},
   "source": [
    "#### 5) What is the relationship between map calls and list comprehensions? Make a comparison and contrast between the two."
   ]
  },
  {
   "attachments": {},
   "cell_type": "markdown",
   "metadata": {},
   "source": [
    "- List comprehension returns a list, whereas the map function returns an object of Iterable.\n",
    "- List comprehension execution is faster than that of map function when the formula expression is huge and complex.\n",
    "- Map function is faster than list comprehension when the formula is already defined as a function earlier (as no lambda is required).\n",
    "- List comprehension is more concise and easier to read as compared to map.\n",
    "- List comprehension allows filtering. In map, we have no such facility. "
   ]
  }
 ],
 "metadata": {
  "kernelspec": {
   "display_name": "Python 3",
   "language": "python",
   "name": "python3"
  },
  "language_info": {
   "codemirror_mode": {
    "name": "ipython",
    "version": 3
   },
   "file_extension": ".py",
   "mimetype": "text/x-python",
   "name": "python",
   "nbconvert_exporter": "python",
   "pygments_lexer": "ipython3",
   "version": "3.8.5 (tags/v3.8.5:580fbb0, Jul 20 2020, 15:43:08) [MSC v.1926 32 bit (Intel)]"
  },
  "orig_nbformat": 4,
  "vscode": {
   "interpreter": {
    "hash": "e8d101deb4f15aa80d1df610b470683654faf42c029e236d67b2441b6e2180d8"
   }
  }
 },
 "nbformat": 4,
 "nbformat_minor": 2
}
