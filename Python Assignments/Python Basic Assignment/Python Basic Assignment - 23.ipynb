{
 "cells": [
  {
   "attachments": {},
   "cell_type": "markdown",
   "metadata": {},
   "source": [
    "# Python Basic Assignment - 23.ipynb"
   ]
  },
  {
   "attachments": {},
   "cell_type": "markdown",
   "metadata": {},
   "source": [
    "------------------------------------------------------------------------------------------------------------------------------------------"
   ]
  },
  {
   "attachments": {},
   "cell_type": "markdown",
   "metadata": {},
   "source": [
    "#### 1. What is the result of the code, and why?\n",
    ">>>> def func(a, b=6, c=8):\n",
    "print(a, b, c)\n",
    ">>>> func(1, 2)"
   ]
  },
  {
   "attachments": {},
   "cell_type": "markdown",
   "metadata": {},
   "source": [
    "- func(1, 2) will print 1 2 8 on the console because as per the function func definition, the value of parameter b & c is by default 6 and 8 if not passed explicitly, so c will be 8 and b will be overwritten to 2."
   ]
  },
  {
   "attachments": {},
   "cell_type": "markdown",
   "metadata": {},
   "source": [
    "#### 2. What is the result of this code, and why?\n",
    ">>>> def func(a, b, c=5):\n",
    "print(a, b, c)\n",
    ">>>> func(1, c=3, b=2)"
   ]
  },
  {
   "attachments": {},
   "cell_type": "markdown",
   "metadata": {},
   "source": [
    "- the value passed to a is 1, b is 2, c is 3 irrespective of the order of values c and b passed, as long as it is keyword argument."
   ]
  },
  {
   "attachments": {},
   "cell_type": "markdown",
   "metadata": {},
   "source": [
    "#### 3. How about this code: what is its result, and why?\n",
    ">>>> def func(a, *pargs):\n",
    "print(a, pargs)\n",
    ">>>> func(1, 2, 3)"
   ]
  },
  {
   "attachments": {},
   "cell_type": "markdown",
   "metadata": {},
   "source": [
    "- func(1, 2, 3) will prit 1 (2, 3) to the console, because the first parameter passed to the func function will be assigned to parameter a. Any other following arguments will be assigned to arbitary argument pargs which will be an iterable object of type tuple"
   ]
  },
  {
   "attachments": {},
   "cell_type": "markdown",
   "metadata": {},
   "source": [
    "#### 4. What does this code print, and why?\n",
    ">>>> def func(a, **kargs):\n",
    "print(a, kargs)\n",
    ">>>> func(a=1, c=3, b=2)"
   ]
  },
  {
   "attachments": {},
   "cell_type": "markdown",
   "metadata": {},
   "source": [
    "- func(a=1, c=3, b=2) will print 1 {'c': 3, 'b': 2} because the return type of kargs is a dictionary object"
   ]
  },
  {
   "attachments": {},
   "cell_type": "markdown",
   "metadata": {},
   "source": [
    "#### 5. What gets printed by this, and explain?\n",
    ">>>> def func(a, b, c=8, d=5): print(a, b, c, d)\n",
    ">>>> func(1, *(5, 6))"
   ]
  },
  {
   "attachments": {},
   "cell_type": "markdown",
   "metadata": {},
   "source": [
    "- func(1, (5, 6)) will print 1 5 6 5 to the console. a will take the value of 1, d will default to 5 as it is not passed. (5, 6) will be read as comma seperated values and assigned to b, c respectively"
   ]
  },
  {
   "attachments": {},
   "cell_type": "markdown",
   "metadata": {},
   "source": [
    "#### 6. what is the result of this, and explain?\n",
    ">>>> def func(a, b, c): a = 2; b[0] = 'x'; c['a'] = 'y'\n",
    ">>>> l=1; m=[1]; n={'a':0}\n",
    ">>>> func(l, m, n)\n",
    ">>>> l, m, n"
   ]
  },
  {
   "attachments": {},
   "cell_type": "markdown",
   "metadata": {},
   "source": [
    "- The values of l, m, n will be unchanged as the func updates the copies of these values but not the original values. So console output will be: (1, [1], {'a': 0})"
   ]
  }
 ],
 "metadata": {
  "kernelspec": {
   "display_name": "Python 3",
   "language": "python",
   "name": "python3"
  },
  "language_info": {
   "codemirror_mode": {
    "name": "ipython",
    "version": 3
   },
   "file_extension": ".py",
   "mimetype": "text/x-python",
   "name": "python",
   "nbconvert_exporter": "python",
   "pygments_lexer": "ipython3",
   "version": "3.8.5 (tags/v3.8.5:580fbb0, Jul 20 2020, 15:43:08) [MSC v.1926 32 bit (Intel)]"
  },
  "orig_nbformat": 4,
  "vscode": {
   "interpreter": {
    "hash": "e8d101deb4f15aa80d1df610b470683654faf42c029e236d67b2441b6e2180d8"
   }
  }
 },
 "nbformat": 4,
 "nbformat_minor": 2
}
