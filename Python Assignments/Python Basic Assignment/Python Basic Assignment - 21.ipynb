{
 "cells": [
  {
   "attachments": {},
   "cell_type": "markdown",
   "metadata": {},
   "source": [
    "# Python Basic Assignment - 21.ipynb"
   ]
  },
  {
   "attachments": {},
   "cell_type": "markdown",
   "metadata": {},
   "source": [
    "------------------------------------------------------------------------------------------------------------------------------------------"
   ]
  },
  {
   "attachments": {},
   "cell_type": "markdown",
   "metadata": {},
   "source": [
    "#### 1. Add the current date to the text file today.txt as a string."
   ]
  },
  {
   "cell_type": "code",
   "execution_count": 8,
   "metadata": {},
   "outputs": [
    {
     "name": "stdout",
     "output_type": "stream",
     "text": [
      "2023-01-25\n"
     ]
    }
   ],
   "source": [
    "from datetime import date\n",
    "\n",
    "with open('today.txt','w') as f:\n",
    "    f.write(date.today().isoformat())\n",
    "print(date.today().isoformat())"
   ]
  },
  {
   "attachments": {},
   "cell_type": "markdown",
   "metadata": {},
   "source": [
    "#### 2. Read the text file today.txt into the string today_string"
   ]
  },
  {
   "cell_type": "code",
   "execution_count": 9,
   "metadata": {},
   "outputs": [
    {
     "name": "stdout",
     "output_type": "stream",
     "text": [
      "2023-01-25\n"
     ]
    }
   ],
   "source": [
    "with open('today.txt','r') as f:\n",
    "    today_string = f.readline()\n",
    "print(today_string)"
   ]
  },
  {
   "attachments": {},
   "cell_type": "markdown",
   "metadata": {},
   "source": [
    "#### 3. Parse the date from today_string."
   ]
  },
  {
   "cell_type": "code",
   "execution_count": 12,
   "metadata": {},
   "outputs": [
    {
     "name": "stdout",
     "output_type": "stream",
     "text": [
      "2023-01-25 00:00:00\n"
     ]
    }
   ],
   "source": [
    "from datetime import datetime\n",
    "print(datetime.strptime(today_string, '%Y-%m-%d'))"
   ]
  },
  {
   "attachments": {},
   "cell_type": "markdown",
   "metadata": {},
   "source": [
    "#### 4. List the files in your current directory"
   ]
  },
  {
   "cell_type": "code",
   "execution_count": 20,
   "metadata": {},
   "outputs": [
    {
     "data": {
      "text/plain": [
       "['Holiday_Task-1.ipynb',\n",
       " 'Programming_Assingment19.ipynb',\n",
       " 'Programming_Assingment20.ipynb',\n",
       " 'Programming_Assingment21.ipynb',\n",
       " 'Programming_Assingment22.ipynb',\n",
       " 'Programming_Assingment23.ipynb',\n",
       " 'Programming_Assingment24.ipynb',\n",
       " 'Programming_Assingment25.ipynb',\n",
       " 'Python Basic Assignment - 21.ipynb',\n",
       " 'Python Basic Assignment - 22.ipynb',\n",
       " 'Python Basic Assignment - 23.ipynb',\n",
       " 'Python Basic Assignment - 24.ipynb',\n",
       " 'Python Basic Assignment - 25.ipynb',\n",
       " 'Python Basic Assignment - 7.ipynb',\n",
       " 'SQLlite_task.ipynb',\n",
       " 'test.docx',\n",
       " 'today.txt',\n",
       " 'verbal.pdf',\n",
       " 'vocab.enron.txt',\n",
       " 'vocab.kos.txt',\n",
       " 'vocab.nips.txt',\n",
       " 'vocab.nytimes.txt',\n",
       " 'vocab.pubmed.txt']"
      ]
     },
     "execution_count": 20,
     "metadata": {},
     "output_type": "execute_result"
    }
   ],
   "source": [
    "import os\n",
    "os.listdir('.')"
   ]
  },
  {
   "attachments": {},
   "cell_type": "markdown",
   "metadata": {},
   "source": [
    "#### 5. Create a list of all of the files in your parent directory (minimum five files should be available)."
   ]
  },
  {
   "cell_type": "code",
   "execution_count": 25,
   "metadata": {},
   "outputs": [
    {
     "name": "stdout",
     "output_type": "stream",
     "text": [
      "['Assignment_1.ipynb', 'Assignment_2.ipynb', 'Assignment_3.ipynb', 'completed assignment', 'data Science', 'fsds_material', 'practice_files', 'questions.ipynb', 'solutions.ipynb', 'test1.ipynb']\n",
      "Number of files = 10\n"
     ]
    }
   ],
   "source": [
    "print(os.listdir('..'))\n",
    "print(f\"Number of files = {len(os.listdir('..'))}\")"
   ]
  },
  {
   "attachments": {},
   "cell_type": "markdown",
   "metadata": {},
   "source": [
    "#### 6. Use multiprocessing to create three separate processes. Make each one wait a random number of seconds between one and five, print the current time, and then exit."
   ]
  },
  {
   "cell_type": "code",
   "execution_count": 30,
   "metadata": {},
   "outputs": [
    {
     "name": "stdout",
     "output_type": "stream",
     "text": [
      "starting processes\n",
      "Process 1 will sleep for 3\n",
      "starting processes\n",
      "Process 2 will sleep for 5\n",
      "starting processes\n",
      "Process 3 will sleep for 5\n"
     ]
    }
   ],
   "source": [
    "import multiprocessing\n",
    "from datetime import datetime\n",
    "from time import sleep\n",
    "import random\n",
    "\n",
    "def sleep_mode(sec):\n",
    "    print(f\"wait {sec} sec, current time is {datetime.utcnow()}\")\n",
    "    sleep(sec)\n",
    "    print(\"Finish process..\")\n",
    "\n",
    "if __name__ == '__main__':\n",
    "    for n in range(3): \n",
    "        print(\"starting processes\")\n",
    "        seconds = random.randint(1, 10) \n",
    "        print(f\"Process {n+1} will sleep for {seconds}\")\n",
    "        proc = multiprocessing.Process(target=sleep_mode, args=(seconds,)) \n",
    "        proc.start()"
   ]
  },
  {
   "attachments": {},
   "cell_type": "markdown",
   "metadata": {},
   "source": [
    "#### 7. Create a date object of your day of birth."
   ]
  },
  {
   "cell_type": "code",
   "execution_count": 26,
   "metadata": {},
   "outputs": [
    {
     "name": "stdout",
     "output_type": "stream",
     "text": [
      "2002-08-27\n"
     ]
    }
   ],
   "source": [
    "my_birthday = date(2002, 8, 27)\n",
    "print(my_birthday)"
   ]
  },
  {
   "attachments": {},
   "cell_type": "markdown",
   "metadata": {},
   "source": [
    "#### 8. What day of the week was your day of birth?"
   ]
  },
  {
   "cell_type": "code",
   "execution_count": 28,
   "metadata": {},
   "outputs": [
    {
     "name": "stdout",
     "output_type": "stream",
     "text": [
      "My birthday was on 2th day of the week\n"
     ]
    }
   ],
   "source": [
    "print(f\"My birthday was on {my_birthday.isoweekday()}th day of the week\")"
   ]
  },
  {
   "attachments": {},
   "cell_type": "markdown",
   "metadata": {},
   "source": [
    "#### 9. When will you be (or when were you) 10,000 days old?"
   ]
  },
  {
   "cell_type": "code",
   "execution_count": 29,
   "metadata": {},
   "outputs": [
    {
     "name": "stdout",
     "output_type": "stream",
     "text": [
      "2030-01-12\n"
     ]
    }
   ],
   "source": [
    "from datetime import timedelta\n",
    "days = my_birthday + timedelta(days=10000)\n",
    "print(days)"
   ]
  }
 ],
 "metadata": {
  "kernelspec": {
   "display_name": "Python 3",
   "language": "python",
   "name": "python3"
  },
  "language_info": {
   "codemirror_mode": {
    "name": "ipython",
    "version": 3
   },
   "file_extension": ".py",
   "mimetype": "text/x-python",
   "name": "python",
   "nbconvert_exporter": "python",
   "pygments_lexer": "ipython3",
   "version": "3.8.5 (tags/v3.8.5:580fbb0, Jul 20 2020, 15:43:08) [MSC v.1926 32 bit (Intel)]"
  },
  "orig_nbformat": 4,
  "vscode": {
   "interpreter": {
    "hash": "e8d101deb4f15aa80d1df610b470683654faf42c029e236d67b2441b6e2180d8"
   }
  }
 },
 "nbformat": 4,
 "nbformat_minor": 2
}
