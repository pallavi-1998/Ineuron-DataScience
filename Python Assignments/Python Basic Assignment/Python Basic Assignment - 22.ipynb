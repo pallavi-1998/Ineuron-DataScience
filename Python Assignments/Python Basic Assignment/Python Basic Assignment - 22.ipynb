{
 "cells": [
  {
   "attachments": {},
   "cell_type": "markdown",
   "metadata": {},
   "source": [
    "# Python Basic Assignment - 22.ipynb"
   ]
  },
  {
   "attachments": {},
   "cell_type": "markdown",
   "metadata": {},
   "source": [
    "------------------------------------------------------------------------------------------------------------------------------------------"
   ]
  },
  {
   "attachments": {},
   "cell_type": "markdown",
   "metadata": {},
   "source": [
    "#### 1. What is the result of the code, and explain?\n",
    ">>>> X = 'iNeuron'\n",
    ">>>> def func():\n",
    "print(X)\n",
    "\n",
    ">>>> func()"
   ]
  },
  {
   "attachments": {},
   "cell_type": "markdown",
   "metadata": {},
   "source": [
    "- As there is no local variable X within function so global variable X that is iNeuron will be an output on console."
   ]
  },
  {
   "attachments": {},
   "cell_type": "markdown",
   "metadata": {},
   "source": [
    "#### 2. What is the result of the code, and explain?\n",
    "\n",
    ">>>> X = 'iNeuron'\n",
    ">>>> def func():\n",
    "X = 'NI!'\n",
    "\n",
    ">>>> func()\n",
    ">>>> print(X)"
   ]
  },
  {
   "attachments": {},
   "cell_type": "markdown",
   "metadata": {},
   "source": [
    "- The program will print iNeuron to the console\n",
    "- the statement X='NI!' will be updating the local value X, but the global variable X will be unchanged"
   ]
  },
  {
   "attachments": {},
   "cell_type": "markdown",
   "metadata": {},
   "source": [
    "#### 3. What does this code print, and why?\n",
    "\n",
    ">>>> X = 'iNeuron'\n",
    ">>>> def func():\n",
    "X = 'NI'\n",
    "print(X)\n",
    "\n",
    ">>>> func()\n",
    ">>>> print(X)"
   ]
  },
  {
   "attachments": {},
   "cell_type": "markdown",
   "metadata": {},
   "source": [
    "- first print will output NI as called within function so scope of local variable X is higher.\n",
    "- second print() will output iNeuron accessing global variable "
   ]
  },
  {
   "attachments": {},
   "cell_type": "markdown",
   "metadata": {},
   "source": [
    "#### 4. What output does this code produce? Why?\n",
    "\n",
    ">>>> X = 'iNeuron'\n",
    ">>>> def func():\n",
    "global X\n",
    "X = 'NI'\n",
    "\n",
    ">>>> func()\n",
    ">>>> print(X)"
   ]
  },
  {
   "attachments": {},
   "cell_type": "markdown",
   "metadata": {},
   "source": [
    "- by using global keyword gloabl variable X can be accessed within a block so it has been modified from iNeuron to NI\n",
    "- therefore output will be NI"
   ]
  },
  {
   "attachments": {},
   "cell_type": "markdown",
   "metadata": {},
   "source": [
    "#### 5. What about this code—what’s the output, and why?\n",
    "\n",
    ">>>> X = 'iNeuron'\n",
    ">>>> def func():\n",
    "X = 'NI'\n",
    "def nested():\n",
    "print(X)\n",
    "nested()\n",
    "\n",
    ">>>> func()\n",
    ">>>> X"
   ]
  },
  {
   "attachments": {},
   "cell_type": "markdown",
   "metadata": {},
   "source": [
    "- The above code will print NI followed by iNeuron, this is because the global varaible X is unchanged and the method nested has access to the X declared in its enclosing function func"
   ]
  },
  {
   "attachments": {},
   "cell_type": "markdown",
   "metadata": {},
   "source": [
    "#### 6. How about this code: what is its output in Python 3, and explain?\n",
    "\n",
    ">>>> def func():\n",
    "X = 'NI'\n",
    "def nested():\n",
    "nonlocal X\n",
    "X = 'Spam'\n",
    "nested()\n",
    "print(X)\n",
    "\n",
    ">>>> func()"
   ]
  },
  {
   "attachments": {},
   "cell_type": "markdown",
   "metadata": {},
   "source": [
    "- The above code will print Spam to the console, as they keyword nonlocal helps the function nested() to access the variable X from the function func"
   ]
  }
 ],
 "metadata": {
  "kernelspec": {
   "display_name": "Python 3",
   "language": "python",
   "name": "python3"
  },
  "language_info": {
   "codemirror_mode": {
    "name": "ipython",
    "version": 3
   },
   "file_extension": ".py",
   "mimetype": "text/x-python",
   "name": "python",
   "nbconvert_exporter": "python",
   "pygments_lexer": "ipython3",
   "version": "3.8.5 (tags/v3.8.5:580fbb0, Jul 20 2020, 15:43:08) [MSC v.1926 32 bit (Intel)]"
  },
  "orig_nbformat": 4,
  "vscode": {
   "interpreter": {
    "hash": "e8d101deb4f15aa80d1df610b470683654faf42c029e236d67b2441b6e2180d8"
   }
  }
 },
 "nbformat": 4,
 "nbformat_minor": 2
}
