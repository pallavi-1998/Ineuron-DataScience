{
 "cells": [
  {
   "attachments": {},
   "cell_type": "markdown",
   "metadata": {},
   "source": [
    "# Assignment-3\n",
    "-----------------------------------------------------------------------------------------------------------------------------------"
   ]
  },
  {
   "attachments": {},
   "cell_type": "markdown",
   "metadata": {},
   "source": [
    "#### 1. What is the concept of an abstract superclass?"
   ]
  },
  {
   "attachments": {},
   "cell_type": "markdown",
   "metadata": {},
   "source": [
    "__Ans__ - An abstract class is a class, but not one you can create objects from directly. \n",
    "- Its purpose is to define how other classes should look like, i.e. what methods and properties they are expected to have.\n",
    "- By default, Python does not provide abstract classes. Python comes with a module that provides the base for defining Abstract Base classes(ABC) and that module name is ABC.\n",
    "- it is important for subclass to define every abstract methods present in abstract class."
   ]
  },
  {
   "cell_type": "code",
   "execution_count": 1,
   "metadata": {},
   "outputs": [
    {
     "name": "stdout",
     "output_type": "stream",
     "text": [
      "Triangle have 3 sides\n",
      "Quadrilateral has 4 sides\n"
     ]
    }
   ],
   "source": [
    "from abc import ABC, abstractmethod\n",
    "class Polygon(ABC):\n",
    "\n",
    "    @abstractmethod\n",
    "    def sides(self):\n",
    "        pass\n",
    "\n",
    "class Triangle(Polygon):\n",
    "    #overriding abstract method\n",
    "    def sides(self):\n",
    "        print(\"Triangle have 3 sides\")\n",
    "\n",
    "class Quadrilateral(Polygon):\n",
    "\n",
    "    def sides(self):\n",
    "        print(\"Quadrilateral has 4 sides\")\n",
    "\n",
    "\n",
    "tri = Triangle()\n",
    "quad = Quadrilateral()\n",
    "tri.sides()\n",
    "quad.sides()"
   ]
  },
  {
   "attachments": {},
   "cell_type": "markdown",
   "metadata": {},
   "source": [
    "#### 2. What happens when a class statement's top level contains a basic assignment statement?"
   ]
  },
  {
   "attachments": {},
   "cell_type": "markdown",
   "metadata": {},
   "source": [
    "__Ans__ - class statement's top level contain basic assignment.\n",
    "- these assignmnets will be termed as class variable or statoc variable asssignments.\n",
    "- In other words if the value of a variable is not varied from object to object, such types of variables are called class variables or static variables."
   ]
  },
  {
   "cell_type": "code",
   "execution_count": 2,
   "metadata": {},
   "outputs": [
    {
     "name": "stdout",
     "output_type": "stream",
     "text": [
      "PQR 101 ABC School\n",
      "XYZ 102 ABC School\n"
     ]
    }
   ],
   "source": [
    "class Student:\n",
    "    school_name = \"ABC School\"\n",
    "\n",
    "    def __init__(self, name, roll):\n",
    "        self.name = name\n",
    "        self.roll = roll\n",
    "\n",
    "stu1 = Student(\"PQR\", 101)\n",
    "stu2 = Student(\"XYZ\", 102)\n",
    "\n",
    "print(stu1.name, stu1.roll, Student.school_name)\n",
    "print(stu2.name, stu2.roll, Student.school_name)"
   ]
  },
  {
   "attachments": {},
   "cell_type": "markdown",
   "metadata": {},
   "source": [
    "#### 3. Why does a class need to manually call a superclass's __init__ method?"
   ]
  },
  {
   "attachments": {},
   "cell_type": "markdown",
   "metadata": {},
   "source": [
    "__Ans__ - if a child class has __init__ method, then it will not inherit the __init__ method of the parent class. in other words the __init__ method of the child class overrides the __init__ method of the parent class. so we have to manually call a parent superclass's __init__ using super() method"
   ]
  },
  {
   "cell_type": "code",
   "execution_count": 1,
   "metadata": {},
   "outputs": [
    {
     "name": "stdout",
     "output_type": "stream",
     "text": [
      "{'name': 'Vivek', 'age': 28, 'salary': 20000}\n"
     ]
    }
   ],
   "source": [
    "class Person:\n",
    "    def __init__(self,name,age):\n",
    "        self.name = name\n",
    "        self.age = age       \n",
    "class Employee(Person):\n",
    "    def __init__(self,name,age,salary):\n",
    "        super().__init__(name,age)\n",
    "        self.salary = salary\n",
    "emp_1 = Employee('Vivek',28,20000)\n",
    "print(emp_1.__dict__)"
   ]
  },
  {
   "attachments": {},
   "cell_type": "markdown",
   "metadata": {},
   "source": [
    "#### 4. How can you augment, instead of completely replacing, an inherited method?"
   ]
  },
  {
   "attachments": {},
   "cell_type": "markdown",
   "metadata": {},
   "source": [
    "__Ans__ - using super() allows you to augment an inherited method in such a way that it can perform its inherited action and some new action."
   ]
  },
  {
   "cell_type": "code",
   "execution_count": 10,
   "metadata": {},
   "outputs": [
    {
     "name": "stdout",
     "output_type": "stream",
     "text": [
      "id : 103\n",
      "name : Suraj \n",
      "address : Noida\n",
      "email : KKK@gmails\n"
     ]
    }
   ],
   "source": [
    "class Emp():\n",
    "    def __init__(self, id, name, address):\n",
    "        self.id = id\n",
    "        self.name = name\n",
    "        self.address = address\n",
    " \n",
    "class Freelance(Emp):\n",
    "    def __init__(self, id, name, address, email):\n",
    "        super().__init__(id, name, address)\n",
    "        self.email = email\n",
    " \n",
    "Emp_1 = Freelance(103, \"Suraj \", \"Noida\" , \"KKK@gmails\")\n",
    "print('id :', Emp_1.id)\n",
    "print('name :', Emp_1.name)\n",
    "print('address :', Emp_1.address)\n",
    "print('email :', Emp_1.email)"
   ]
  },
  {
   "attachments": {},
   "cell_type": "markdown",
   "metadata": {},
   "source": [
    "#### 5. How is the local scope of a class different from that of a function?"
   ]
  },
  {
   "attachments": {},
   "cell_type": "markdown",
   "metadata": {},
   "source": [
    "__Ans__- Declaring a variable in a class (outside of a function): all class functions can access it (basically a public variable within class for all methods defines inside the class)\n",
    "\n",
    "- Declaring a variable inside a function inside a class: only that function can access it (it's in that function's scope)"
   ]
  },
  {
   "cell_type": "code",
   "execution_count": 13,
   "metadata": {},
   "outputs": [
    {
     "name": "stdout",
     "output_type": "stream",
     "text": [
      "roll:  101\n",
      "name:  PQR\n",
      "school name:  ABC School\n"
     ]
    },
    {
     "ename": "AttributeError",
     "evalue": "'Student' object has no attribute 'phone_no'",
     "output_type": "error",
     "traceback": [
      "\u001b[1;31m---------------------------------------------------------------------------\u001b[0m",
      "\u001b[1;31mAttributeError\u001b[0m                            Traceback (most recent call last)",
      "Cell \u001b[1;32mIn [13], line 17\u001b[0m\n\u001b[0;32m     15\u001b[0m stu1 \u001b[39m=\u001b[39m Student(\u001b[39m\"\u001b[39m\u001b[39mPQR\u001b[39m\u001b[39m\"\u001b[39m, \u001b[39m101\u001b[39m)\n\u001b[0;32m     16\u001b[0m stu1\u001b[39m.\u001b[39mdisplay()\n\u001b[1;32m---> 17\u001b[0m stu1\u001b[39m.\u001b[39;49mphone_no\n",
      "\u001b[1;31mAttributeError\u001b[0m: 'Student' object has no attribute 'phone_no'"
     ]
    }
   ],
   "source": [
    "class Student:\n",
    "    school_name = \"ABC School\"\n",
    "\n",
    "    def __init__(self, name, roll):\n",
    "        self.name = name\n",
    "        self.roll = roll\n",
    "\n",
    "    def display(self):\n",
    "        phone_no = \"999999999999\"\n",
    "        print(\"roll: \",self.roll)\n",
    "        print(\"name: \",self.name)\n",
    "        print(\"school name: \", Student.school_name)#class variable can be accssed in method\n",
    "\n",
    "\n",
    "stu1 = Student(\"PQR\", 101)\n",
    "stu1.display()\n",
    "stu1.phone_no   #error as it has no scope outside method\n",
    "    "
   ]
  }
 ],
 "metadata": {
  "kernelspec": {
   "display_name": "Python 3",
   "language": "python",
   "name": "python3"
  },
  "language_info": {
   "codemirror_mode": {
    "name": "ipython",
    "version": 3
   },
   "file_extension": ".py",
   "mimetype": "text/x-python",
   "name": "python",
   "nbconvert_exporter": "python",
   "pygments_lexer": "ipython3",
   "version": "3.8.5"
  },
  "orig_nbformat": 4,
  "vscode": {
   "interpreter": {
    "hash": "e8d101deb4f15aa80d1df610b470683654faf42c029e236d67b2441b6e2180d8"
   }
  }
 },
 "nbformat": 4,
 "nbformat_minor": 2
}
