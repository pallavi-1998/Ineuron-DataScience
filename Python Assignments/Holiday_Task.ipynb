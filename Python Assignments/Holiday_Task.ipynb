{
 "cells": [
  {
   "cell_type": "code",
   "execution_count": 8,
   "metadata": {},
   "outputs": [],
   "source": [
    "# function which will take dict as input and give list of all values in case of nested 2-level dict also\n",
    "def value(d):\n",
    "    if type(d) == dict:\n",
    "        l = []\n",
    "        for k, v in d.items():\n",
    "            if type(v) == dict:\n",
    "                for k1, v1 in v.items():\n",
    "                    l.append(v1)\n",
    "            else:\n",
    "                l.append(v)\n",
    "    else:\n",
    "        return \"given input is not a dictionary\"\n",
    "    return l\n"
   ]
  },
  {
   "cell_type": "code",
   "execution_count": 10,
   "metadata": {},
   "outputs": [],
   "source": [
    "menu = {\n",
    "    \"espresso\": {\n",
    "        \"ingredients\": {\n",
    "            \"water\": 50,\n",
    "            \"coffee\": 18,\n",
    "        },\n",
    "        \"cost\": 1.5,\n",
    "    },\n",
    "    \"latte\": {\n",
    "        \"ingredients\": {\n",
    "            \"water\": 200,\n",
    "            \"milk\": 150,\n",
    "            \"coffee\": 24,\n",
    "        },\n",
    "        \"cost\": 2.5,\n",
    "    },\n",
    "    \"cappuccino\": {\n",
    "        \"ingredients\": {\n",
    "            \"water\": 250,\n",
    "            \"milk\": 100,\n",
    "            \"coffee\": 24,\n",
    "        },\n",
    "        \"cost\": 3.0,\n",
    "    }\n",
    "}"
   ]
  },
  {
   "cell_type": "code",
   "execution_count": 18,
   "metadata": {},
   "outputs": [
    {
     "name": "stdout",
     "output_type": "stream",
     "text": [
      "espresso {'ingredients': {'water': 50, 'coffee': 18}, 'cost': 1.5}\n",
      "ingredients {'water': 50, 'coffee': 18}\n",
      "cost 1.5\n",
      "latte {'ingredients': {'water': 200, 'milk': 150, 'coffee': 24}, 'cost': 2.5}\n",
      "ingredients {'water': 200, 'milk': 150, 'coffee': 24}\n",
      "cost 2.5\n",
      "cappuccino {'ingredients': {'water': 250, 'milk': 100, 'coffee': 24}, 'cost': 3.0}\n",
      "ingredients {'water': 250, 'milk': 100, 'coffee': 24}\n",
      "cost 3.0\n"
     ]
    }
   ],
   "source": [
    "for drink, info in menu.items():\n",
    "    print(drink, info)\n",
    "    for x,y in info.items():\n",
    "        print(x,y)\n",
    "    "
   ]
  },
  {
   "cell_type": "code",
   "execution_count": 6,
   "metadata": {},
   "outputs": [],
   "source": [
    "a = {\"a\" :123, \"b\":432 ,\"e\": {\"c\": 234, \"d\": 456}}"
   ]
  },
  {
   "cell_type": "code",
   "execution_count": 9,
   "metadata": {},
   "outputs": [
    {
     "name": "stdout",
     "output_type": "stream",
     "text": [
      "[123, 432, 234, 456]\n"
     ]
    }
   ],
   "source": [
    "print(value(a))"
   ]
  },
  {
   "cell_type": "code",
   "execution_count": 19,
   "metadata": {},
   "outputs": [
    {
     "name": "stdout",
     "output_type": "stream",
     "text": [
      "[{'water': 50, 'coffee': 18}, 1.5, {'water': 200, 'milk': 150, 'coffee': 24}, 2.5, {'water': 250, 'milk': 100, 'coffee': 24}, 3.0]\n"
     ]
    }
   ],
   "source": [
    "print(value(menu))"
   ]
  },
  {
   "cell_type": "code",
   "execution_count": 33,
   "metadata": {},
   "outputs": [
    {
     "name": "stdout",
     "output_type": "stream",
     "text": [
      "102030abc50 102030abc50 102030a34.25c50 102030a34.25c50hello34.65\n"
     ]
    }
   ],
   "source": [
    "# function will take list a input and output as concatenation of all elements\n",
    "def concat_list(l):\n",
    "    if type(l) == list:\n",
    "        st = \"\"\n",
    "        for x in l:\n",
    "            if type(x) == list:\n",
    "                for y in x:\n",
    "                    if type(y) == str:\n",
    "                        st += y\n",
    "                    else:\n",
    "                        y = str(y)\n",
    "                        st += y\n",
    "            else:\n",
    "                if type(x) == str:\n",
    "                    st += x\n",
    "                else:\n",
    "                    x = str(x)\n",
    "                    st += x \n",
    "    else:\n",
    "        return \"given input is not a list\"\n",
    "    return st\n",
    "s1 = concat_list([10, 20, 30,'a', 'b', 'c', 50])\n",
    "s2 = concat_list([10, 20, 30,['a', 'b', 'c'], 50])\n",
    "s3 = concat_list([10, 20, 30,['a', 34.25, 'c'], 50])\n",
    "s4 = concat_list([10, 20, 30,['a', 34.25, 'c'], 50,[\"hello\",34.65]])\n",
    "\n",
    "print(s1,s2,s3,s4)"
   ]
  },
  {
   "cell_type": "code",
   "execution_count": 2,
   "metadata": {},
   "outputs": [
    {
     "name": "stdout",
     "output_type": "stream",
     "text": [
      "[0, 2]\n",
      "[[5, 6], 7]\n"
     ]
    }
   ],
   "source": [
    "# returning index of list even after repetition of elements\n",
    "a = ['A', 'B', 'A', 'C', 'E']\n",
    "def indice(l, e):\n",
    "    if type(l) == list:\n",
    "        if e in l:\n",
    "            d = dict()\n",
    "            # count = 0\n",
    "            count = -1\n",
    "            for x in l:\n",
    "                count += 1\n",
    "                if x in d:\n",
    "                    d[x] = [d[x]]\n",
    "                    d[x].append(count)\n",
    "                else:\n",
    "                    d[x] = count\n",
    "                    # d.update(x = count)\n",
    "            return d.get(e)\n",
    "        else:\n",
    "            return f\"{e} is not presnt is dictionary\"\n",
    "    else:\n",
    "        return \"given input is not a list\"\n",
    "b = [1,2,2,3,3,4,4,4,6,0]\n",
    "print(indice(a, 'A'))\n",
    "print(indice(b, 4))"
   ]
  },
  {
   "cell_type": "code",
   "execution_count": 60,
   "metadata": {},
   "outputs": [
    {
     "name": "stdout",
     "output_type": "stream",
     "text": [
      "['Assignment_1.ipynb', 'Assignment_2.ipynb', 'Assignment_3.ipynb', 'recorded_assignment', 'test.docx']\n",
      "['Assignment_1.ipynb', 'Assignment_2.ipynb', 'Assignment_3.ipynb', 'test.docx']\n"
     ]
    }
   ],
   "source": [
    "# funtion to return a list of all file name from a directory\n",
    "import os\n",
    "path = \"D:\\python_files\"\n",
    "file_list = os.listdir(path)\n",
    "print(file_list) # all files along with directories\n",
    "\n",
    "# filter directories listing only files\n",
    "l = []\n",
    "for f in file_list:\n",
    "    if os.path.isfile(path+'/'+f):\n",
    "        l.append(f)\n",
    "\n",
    "print(l)"
   ]
  },
  {
   "cell_type": "code",
   "execution_count": null,
   "metadata": {},
   "outputs": [],
   "source": [
    "# funtion will be able to show system config\n",
    "import platform\n",
    "def sys():\n",
    "    s = platform.uname()\n",
    "    print(s)\n",
    "sys()"
   ]
  },
  {
   "cell_type": "code",
   "execution_count": 1,
   "metadata": {},
   "outputs": [
    {
     "name": "stdout",
     "output_type": "stream",
     "text": [
      "2022\n",
      "11\n",
      "1\n",
      "17\n",
      "45\n",
      "19\n",
      "706934\n"
     ]
    }
   ],
   "source": [
    "# function able to show date and time\n",
    "import datetime\n",
    "def show():\n",
    "    time = datetime.datetime.now()\n",
    "    # print(time)\n",
    "    print(time.year)\n",
    "    print(time.month)\n",
    "    print(time.day)\n",
    "    print(time.hour)\n",
    "    print(time.minute)\n",
    "    print(time.second)\n",
    "    print(time.microsecond)\n",
    "\n",
    "show()"
   ]
  },
  {
   "cell_type": "code",
   "execution_count": null,
   "metadata": {},
   "outputs": [],
   "source": [
    "# function wil show image file and read it\n",
    "import imageio as i\n",
    "def show():\n",
    "    img = i.imread(\"book_icon.png\")\n",
    "    i.imwrite(\"book_icon.jpg\",img)\n",
    "\n",
    "show()"
   ]
  },
  {
   "cell_type": "code",
   "execution_count": 1,
   "metadata": {},
   "outputs": [
    {
     "name": "stdout",
     "output_type": "stream",
     "text": [
      "['Assign_1.ipynb', 'book_icon.jpg', 'book_icon.png']\n"
     ]
    }
   ],
   "source": [
    "# function which can move file from one directory to another directory\n",
    "import os\n",
    "def move():\n",
    "    dest = 'D:\\python_files/recorded_assignment'\n",
    "    src = 'D:\\python_files/test'\n",
    "    files = os.listdir(src)\n",
    "    print(files)\n",
    "    for f in files:\n",
    "        src_1 = os.path.join(src, f)\n",
    "        dest_1 = os.path.join(dest, f)\n",
    "        os.rename(src_1, dest_1)\n",
    "move()"
   ]
  },
  {
   "cell_type": "code",
   "execution_count": 1,
   "metadata": {},
   "outputs": [
    {
     "name": "stdout",
     "output_type": "stream",
     "text": [
      "53\n",
      "{'/Producer': 'iLovePDF', '/ModDate': 'D:20211122110826Z'}\n",
      " \n",
      "Verbal   \n",
      " \n",
      "1. “We need to call this _______ ” , Monika demanded.  \n",
      "a) out \n",
      "b) at  \n",
      "c) off \n",
      "d) away   \n",
      "  \n",
      " Correct Answer: c  \n",
      "  \n",
      "2. Heritage languages which form a part of India’s rich culture are becoming _______.  \n",
      "a) extinctive  \n",
      "b) extinguish  \n",
      "c) extinction  \n",
      "d) extinct  \n",
      "  \n",
      "Correct Answer: d  \n",
      "  \n",
      "3. A) Jeet is very nice boy (B) add he always listen carefully (C) to what his parents \n",
      "have to say.  \n",
      "a)   (A) \n",
      "a) (B)  \n",
      "b) (C)  \n",
      "c) (D)  \n",
      "  \n",
      "Correct Answer: b \n",
      "  \n",
      "4. Astronauts have completed a major mission in space. It was _____ a replacement of \n",
      "the fuel tank in one of the space stations.  \n",
      "a) concerns  \n",
      "b) concern  \n",
      "c) concerning  \n",
      "d) concerned  \n",
      "  \n",
      "Correct Answer: c  \n",
      "  \n"
     ]
    }
   ],
   "source": [
    "# function which will read a complete pdf\n",
    "\n",
    "import PyPDF2 as pd\n",
    "def read_pdf(path):\n",
    "    with open (path, 'rb') as f:\n",
    "        r = pd.PdfFileReader(f)\n",
    "        # print(r)\n",
    "        # page = r.getNumPages()\n",
    "        # print(page)\n",
    "        print(r.getNumPages())\n",
    "        print(r.getDocumentInfo())\n",
    "        p = r.getPage(0)\n",
    "        print(p.extract_text())\n",
    "        f.close()\n",
    "\n",
    "read_pdf('verbal.pdf')"
   ]
  },
  {
   "cell_type": "code",
   "execution_count": 5,
   "metadata": {},
   "outputs": [
    {
     "name": "stdout",
     "output_type": "stream",
     "text": [
      "test.docx\n"
     ]
    }
   ],
   "source": [
    "# function which will filter only word file\n",
    "import os\n",
    "def only_word():\n",
    "    f = os.listdir('D:\\python_files')\n",
    "    # print(f)\n",
    "    for x in f:\n",
    "        if '.docx' in x:\n",
    "            print(x)\n",
    "only_word()"
   ]
  },
  {
   "cell_type": "code",
   "execution_count": 2,
   "metadata": {},
   "outputs": [],
   "source": [
    "# function which will append two pdf files \n",
    "import PyPDF2 as pd\n",
    "def app_end():\n",
    "    mg = pd.PdfFileMerger()\n",
    "    pdf = ['verbal.pdf']\n",
    "    for x in pdf:\n",
    "        mg.append(x)\n",
    "    mg.write('test.pdf')\n",
    "    mg.close()\n",
    "app_end()\n"
   ]
  }
 ],
 "metadata": {
  "kernelspec": {
   "display_name": "Python 3.8.5 32-bit",
   "language": "python",
   "name": "python3"
  },
  "language_info": {
   "codemirror_mode": {
    "name": "ipython",
    "version": 3
   },
   "file_extension": ".py",
   "mimetype": "text/x-python",
   "name": "python",
   "nbconvert_exporter": "python",
   "pygments_lexer": "ipython3",
   "version": "3.8.5"
  },
  "orig_nbformat": 4,
  "vscode": {
   "interpreter": {
    "hash": "e8d101deb4f15aa80d1df610b470683654faf42c029e236d67b2441b6e2180d8"
   }
  }
 },
 "nbformat": 4,
 "nbformat_minor": 2
}
