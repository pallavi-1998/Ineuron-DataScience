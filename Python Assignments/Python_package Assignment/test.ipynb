{
 "cells": [
  {
   "cell_type": "code",
   "execution_count": 1,
   "metadata": {},
   "outputs": [
    {
     "data": {
      "text/plain": [
       "{'a': 1233, 'b': 4567, 'c': 7890, 'h': 1245, 'e': 1245, 'l': 1245, 'o': 1245}"
      ]
     },
     "execution_count": 1,
     "metadata": {},
     "output_type": "execute_result"
    }
   ],
   "source": [
    "d = {\"a\":1233, \"b\": 4567, \"c\": 7890}\n",
    "d1 = d.fromkeys(\"hello\",1245)\n",
    "d.update(d1)\n",
    "d"
   ]
  },
  {
   "cell_type": "code",
   "execution_count": 2,
   "metadata": {},
   "outputs": [],
   "source": [
    "import Dictionary as dd"
   ]
  },
  {
   "cell_type": "code",
   "execution_count": 3,
   "metadata": {},
   "outputs": [],
   "source": [
    "obj = dd.Custom_dictionary(d)"
   ]
  },
  {
   "cell_type": "code",
   "execution_count": 4,
   "metadata": {},
   "outputs": [
    {
     "name": "stdout",
     "output_type": "stream",
     "text": [
      "dict is cleared\n"
     ]
    },
    {
     "data": {
      "text/plain": [
       "{}"
      ]
     },
     "execution_count": 4,
     "metadata": {},
     "output_type": "execute_result"
    }
   ],
   "source": [
    "obj.CLEAR()"
   ]
  },
  {
   "cell_type": "code",
   "execution_count": 5,
   "metadata": {},
   "outputs": [
    {
     "name": "stdout",
     "output_type": "stream",
     "text": [
      "dict updated\n"
     ]
    },
    {
     "data": {
      "text/plain": [
       "{'a': 1233, 'b': 4567, 'c': 7890, 'h': 1245, 'e': 1245, 'l': 1245, 'o': 1245}"
      ]
     },
     "execution_count": 5,
     "metadata": {},
     "output_type": "execute_result"
    }
   ],
   "source": [
    "obj.UPDATE(a = 1233, b= 4567, c= 7890, h= 1245, e= 1245, l= 1245, o= 1245)"
   ]
  },
  {
   "cell_type": "code",
   "execution_count": 6,
   "metadata": {},
   "outputs": [
    {
     "name": "stdout",
     "output_type": "stream",
     "text": [
      "poped item \n"
     ]
    },
    {
     "data": {
      "text/plain": [
       "{'a': 1233, 'b': 4567, 'c': 7890, 'h': 1245, 'e': 1245, 'l': 1245}"
      ]
     },
     "execution_count": 6,
     "metadata": {},
     "output_type": "execute_result"
    }
   ],
   "source": [
    "x = obj.POPITEM()\n",
    "x"
   ]
  },
  {
   "cell_type": "code",
   "execution_count": 7,
   "metadata": {},
   "outputs": [
    {
     "name": "stdout",
     "output_type": "stream",
     "text": [
      "poped item of specified key = a\n"
     ]
    },
    {
     "data": {
      "text/plain": [
       "{'b': 4567, 'c': 7890, 'h': 1245, 'e': 1245, 'l': 1245}"
      ]
     },
     "execution_count": 7,
     "metadata": {},
     "output_type": "execute_result"
    }
   ],
   "source": [
    "x = obj.POP(\"a\")\n",
    "x"
   ]
  },
  {
   "cell_type": "code",
   "execution_count": 8,
   "metadata": {},
   "outputs": [
    {
     "name": "stdout",
     "output_type": "stream",
     "text": [
      "fetched items dict_items([('b', 4567), ('c', 7890), ('h', 1245), ('e', 1245), ('l', 1245)])\n"
     ]
    },
    {
     "data": {
      "text/plain": [
       "dict_items([('b', 4567), ('c', 7890), ('h', 1245), ('e', 1245), ('l', 1245)])"
      ]
     },
     "execution_count": 8,
     "metadata": {},
     "output_type": "execute_result"
    }
   ],
   "source": [
    "obj.ITEMS()"
   ]
  },
  {
   "cell_type": "code",
   "execution_count": 9,
   "metadata": {},
   "outputs": [
    {
     "name": "stdout",
     "output_type": "stream",
     "text": [
      "fetched keys dict_keys(['b', 'c', 'h', 'e', 'l'])\n"
     ]
    },
    {
     "data": {
      "text/plain": [
       "dict_keys(['b', 'c', 'h', 'e', 'l'])"
      ]
     },
     "execution_count": 9,
     "metadata": {},
     "output_type": "execute_result"
    }
   ],
   "source": [
    "obj.KEYS()"
   ]
  },
  {
   "cell_type": "code",
   "execution_count": 10,
   "metadata": {},
   "outputs": [
    {
     "name": "stdout",
     "output_type": "stream",
     "text": [
      "fetched values dict_values([4567, 7890, 1245, 1245, 1245])\n"
     ]
    },
    {
     "data": {
      "text/plain": [
       "dict_values([4567, 7890, 1245, 1245, 1245])"
      ]
     },
     "execution_count": 10,
     "metadata": {},
     "output_type": "execute_result"
    }
   ],
   "source": [
    "obj.VALUES()"
   ]
  },
  {
   "cell_type": "code",
   "execution_count": 11,
   "metadata": {},
   "outputs": [
    {
     "name": "stdout",
     "output_type": "stream",
     "text": [
      "values for b is 4567\n"
     ]
    },
    {
     "data": {
      "text/plain": [
       "4567"
      ]
     },
     "execution_count": 11,
     "metadata": {},
     "output_type": "execute_result"
    }
   ],
   "source": [
    "obj.GET(\"b\")"
   ]
  },
  {
   "cell_type": "code",
   "execution_count": 12,
   "metadata": {},
   "outputs": [
    {
     "data": {
      "text/plain": [
       "{'h': 12, 'e': 12, 'l': 12, 'o': 12}"
      ]
     },
     "execution_count": 12,
     "metadata": {},
     "output_type": "execute_result"
    }
   ],
   "source": [
    "obj.FROMKEYS(\"hello\", 12)"
   ]
  },
  {
   "cell_type": "code",
   "execution_count": 13,
   "metadata": {},
   "outputs": [
    {
     "name": "stdout",
     "output_type": "stream",
     "text": [
      "{'b': 4567, 'c': 7890, 'h': 1245, 'e': 1245, 'l': 1245} is copied to another variable d_copied = {'b': 4567, 'c': 7890, 'h': 1245, 'e': 1245, 'l': 1245}\n"
     ]
    },
    {
     "data": {
      "text/plain": [
       "{'b': 4567, 'c': 7890, 'h': 1245, 'e': 1245, 'l': 1245}"
      ]
     },
     "execution_count": 13,
     "metadata": {},
     "output_type": "execute_result"
    }
   ],
   "source": [
    "obj.COPY()"
   ]
  },
  {
   "cell_type": "code",
   "execution_count": 1,
   "metadata": {},
   "outputs": [
    {
     "data": {
      "text/plain": [
       "['abc', 'xyz', 123, 456, 'pqr', 28.56, 'sdf', 'fgh', 789, 479, 'jkl', 46.98]"
      ]
     },
     "execution_count": 1,
     "metadata": {},
     "output_type": "execute_result"
    }
   ],
   "source": [
    "lst1 = [\"abc\",\"xyz\", 123, 456,\"pqr\",28.56]\n",
    "lst2 = [\"sdf\",\"fgh\", 789, 479,\"jkl\",46.98]\n",
    "lst1+lst2"
   ]
  }
 ],
 "metadata": {
  "kernelspec": {
   "display_name": "Python 3",
   "language": "python",
   "name": "python3"
  },
  "language_info": {
   "codemirror_mode": {
    "name": "ipython",
    "version": 3
   },
   "file_extension": ".py",
   "mimetype": "text/x-python",
   "name": "python",
   "nbconvert_exporter": "python",
   "pygments_lexer": "ipython3",
   "version": "3.10.9"
  },
  "orig_nbformat": 4
 },
 "nbformat": 4,
 "nbformat_minor": 2
}
