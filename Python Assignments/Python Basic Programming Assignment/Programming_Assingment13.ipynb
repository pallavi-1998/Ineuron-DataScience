{
 "cells": [
  {
   "attachments": {},
   "cell_type": "markdown",
   "metadata": {},
   "source": [
    "# Programming Assignment -13"
   ]
  },
  {
   "attachments": {},
   "cell_type": "markdown",
   "metadata": {},
   "source": [
    "-------------------------------------------------------------------------------------------------------------------------------------------------------"
   ]
  },
  {
   "attachments": {},
   "cell_type": "markdown",
   "metadata": {},
   "source": [
    "#### Question 1: Write a program that calculates and prints the value according to the given formula:               \n",
    "Q = Square root of [(2 * C * D)/H]              \n",
    "Following are the fixed values of C and H: C is 50. H is 30.                \n",
    "D is the variable whose values should be input to your program in a comma-separated sequence.\n",
    "- Example               \n",
    "Let us assume the following comma separated input sequence is given to the program: 100,150,180             \n",
    "The output of the program should be: 18,22,24"
   ]
  },
  {
   "cell_type": "code",
   "execution_count": 3,
   "metadata": {},
   "outputs": [
    {
     "name": "stdout",
     "output_type": "stream",
     "text": [
      "[18, 22, 24]\n"
     ]
    }
   ],
   "source": [
    "import math\n",
    "def task1(d):\n",
    "    C, H = 50, 30\n",
    "    D = list(d.split(\",\"))\n",
    "    Q = []\n",
    "    for i in D:\n",
    "        Q.append(round(math.sqrt((2 * C * int(i))/H))) \n",
    "    return Q\n",
    "    \n",
    "D = input(\"enter values as sequence: \")\n",
    "print(task1(D))"
   ]
  },
  {
   "attachments": {},
   "cell_type": "markdown",
   "metadata": {},
   "source": [
    "#### Question 2: Write a program which takes 2 digits, X,Y as input and generates a 2-dimensional array. The element value in the i-th row and j-th column of the array should be i*j. Note: i=0,1.., X-1; j=0,1,¡Y-1.\n",
    "- Example               \n",
    "Suppose the following inputs are given to the program:                  \n",
    "3,5             \n",
    "Then, the output of the program should be:              \n",
    "[[0, 0, 0, 0, 0], [0, 1, 2, 3, 4], [0, 2, 4, 6, 8]]         "
   ]
  },
  {
   "cell_type": "code",
   "execution_count": 6,
   "metadata": {},
   "outputs": [
    {
     "name": "stdout",
     "output_type": "stream",
     "text": [
      "[[0, 0, 0, 0, 0], [0, 1, 2, 3, 4], [0, 2, 4, 6, 8]]\n"
     ]
    }
   ],
   "source": [
    "X = int(input(\"enter number of rows: \"))\n",
    "Y = int(input(\"enter number of col: \"))\n",
    "result = [[row*col for col in range(Y)] for row in range(X)] \n",
    "print(result)"
   ]
  },
  {
   "cell_type": "code",
   "execution_count": 16,
   "metadata": {},
   "outputs": [
    {
     "name": "stdout",
     "output_type": "stream",
     "text": [
      "[[0, 0, 0, 0, 0], [0, 1, 2, 3, 4], [0, 2, 4, 6, 8]]\n"
     ]
    }
   ],
   "source": [
    "#alternate ways\n",
    "X = int(input(\"enter number of rows: \"))\n",
    "Y = int(input(\"enter number of col: \"))\n",
    "res = []\n",
    "for row in range(X):\n",
    "    r = []\n",
    "    for col in range(Y):\n",
    "        r.append(row*col)\n",
    "    res.append(r)\n",
    "\n",
    "print(res)"
   ]
  },
  {
   "attachments": {},
   "cell_type": "markdown",
   "metadata": {},
   "source": [
    "#### Question 3: Write a program that accepts a comma separated sequence of words as input and prints the words in a comma-separated sequence after sorting them alphabetically.\n",
    "- Suppose the following input is supplied to the program:\n",
    "without,hello,bag,world\n",
    "Then, the output should be:\n",
    "bag,hello,without,world"
   ]
  },
  {
   "cell_type": "code",
   "execution_count": 22,
   "metadata": {},
   "outputs": [
    {
     "name": "stdout",
     "output_type": "stream",
     "text": [
      "bag,hello,without,world\n"
     ]
    }
   ],
   "source": [
    "words = list(input(\"Enter comma seperated words: \").split(','))\n",
    "words.sort() \n",
    "print(','.join(words))"
   ]
  },
  {
   "attachments": {},
   "cell_type": "markdown",
   "metadata": {},
   "source": [
    "#### Question 4: Write a program that accepts a sequence of whitespace separated words as input and prints the words after removing all duplicate words and sorting them alphanumerically.\n",
    "Suppose the following input is supplied to the program:\n",
    "hello world and practice makes perfect and hello world again\n",
    "Then, the output should be:\n",
    "again and hello makes perfect practice world"
   ]
  },
  {
   "cell_type": "code",
   "execution_count": 23,
   "metadata": {},
   "outputs": [
    {
     "name": "stdout",
     "output_type": "stream",
     "text": [
      "again and hello makes perfect practice world\n"
     ]
    }
   ],
   "source": [
    "words = list(set(input(\"Enter comma seperated words: \").split(' ')))\n",
    "words.sort() \n",
    "print(' '.join(words))"
   ]
  },
  {
   "attachments": {},
   "cell_type": "markdown",
   "metadata": {},
   "source": [
    "#### Question 5: Write a program that accepts a sentence and calculate the number of letters and digits.\n",
    "Suppose the following input is supplied to the program:\n",
    "hello world! 123\n",
    "Then, the output should be:\n",
    "LETTERS 10\n",
    "DIGITS 3"
   ]
  },
  {
   "cell_type": "code",
   "execution_count": 24,
   "metadata": {},
   "outputs": [
    {
     "name": "stdout",
     "output_type": "stream",
     "text": [
      "LETTERS 10\n",
      "DIGITS 3\n"
     ]
    }
   ],
   "source": [
    "words = input(\"Enter a sentence: \")\n",
    "letters = 0\n",
    "digits = 0\n",
    "for c in words:\n",
    "    if (ord(c) >= ord('a') and ord(c) <= ord('z')) or (ord(c) >= ord('A') and ord(c) <= ord('Z')):\n",
    "        letters += 1\n",
    "    elif ord(c) >= ord('0') and ord(c) <= ord('9'):\n",
    "        digits += 1\n",
    "print(\"LETTERS {}\".format(letters))\n",
    "print(\"DIGITS {}\".format(digits))"
   ]
  },
  {
   "attachments": {},
   "cell_type": "markdown",
   "metadata": {},
   "source": [
    "#### Question 6: A website requires the users to input username and password to register. Write a program to check the validity of password input by users.\n",
    "Following are the criteria for checking the password:\n",
    "1. At least 1 letter between [a-z]\n",
    "2. At least 1 number between [0-9]\n",
    "1. At least 1 letter between [A-Z]\n",
    "3. At least 1 character from [$#@]\n",
    "4. Minimum length of transaction password: 6\n",
    "5. Maximum length of transaction password: 12                   \n",
    "Your program should accept a sequence of comma separated passwords and will check them\n",
    "according to the above criteria. Passwords that match the criteria are to be printed, each\n",
    "separated by a comma.\n",
    "Example\n",
    "If the following passwords are given as input to the program:\n",
    "ABd1234@1,a F1#,2w3E*,2We3345\n",
    "Then, the output of the program should be:\n",
    "ABd1234@1"
   ]
  },
  {
   "cell_type": "code",
   "execution_count": 29,
   "metadata": {},
   "outputs": [
    {
     "name": "stdout",
     "output_type": "stream",
     "text": [
      "ABd1234@1, EKd9876@1\n"
     ]
    }
   ],
   "source": [
    "def check_pass(pwd):\n",
    "    def small_case(pwd):\n",
    "        flag = False\n",
    "        for p in password:\n",
    "            if ord(p) >= ord('a') and ord(p) <= ord('z'):\n",
    "                flag = True\n",
    "                break\n",
    "        return flag\n",
    "    def upper_case(pwd):\n",
    "        flag = False\n",
    "        for p in password:\n",
    "            if ord(p) >= ord('A') and ord(p) <= ord('Z'):\n",
    "                flag = True\n",
    "                break\n",
    "        return flag\n",
    "    def digit(pwd):\n",
    "        flag = False\n",
    "        for p in password:\n",
    "            if ord(p) >= ord('0') and ord(p) <= ord('9'):\n",
    "                flag = True\n",
    "                break\n",
    "        return flag\n",
    "    def specialchar_check(pwd):\n",
    "        flag = False\n",
    "        sp = \"!@#$%^&*()_+=->;,:/?`\"\n",
    "        for p in pwd:\n",
    "            if p in sp:\n",
    "                flag = True\n",
    "                break\n",
    "        return flag\n",
    "    def check_minlength(password):\n",
    "        return len(password) >= 6\n",
    "\n",
    "    def check_maxlength(password):\n",
    "        return len(password) <= 12\n",
    "\n",
    "    valid_passwords = []\n",
    "    for password in pwd:\n",
    "        if small_case(password) and upper_case(password) and digit(password) and specialchar_check(password) and check_minlength(password) and check_maxlength(password):\n",
    "            valid_passwords.append(password)\n",
    "    print(','.join(valid_passwords))\n",
    "\n",
    "passwords = list(set(input(\"Enter comma seperated passwords: \").split(',')))\n",
    "check_pass(passwords)\n"
   ]
  }
 ],
 "metadata": {
  "kernelspec": {
   "display_name": "Python 3",
   "language": "python",
   "name": "python3"
  },
  "language_info": {
   "codemirror_mode": {
    "name": "ipython",
    "version": 3
   },
   "file_extension": ".py",
   "mimetype": "text/x-python",
   "name": "python",
   "nbconvert_exporter": "python",
   "pygments_lexer": "ipython3",
   "version": "3.8.5"
  },
  "orig_nbformat": 4,
  "vscode": {
   "interpreter": {
    "hash": "e8d101deb4f15aa80d1df610b470683654faf42c029e236d67b2441b6e2180d8"
   }
  }
 },
 "nbformat": 4,
 "nbformat_minor": 2
}
