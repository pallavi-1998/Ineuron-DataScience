{
 "cells": [
  {
   "attachments": {},
   "cell_type": "markdown",
   "metadata": {},
   "source": [
    "# Programming Assignment -9"
   ]
  },
  {
   "attachments": {},
   "cell_type": "markdown",
   "metadata": {},
   "source": [
    "#### 1.\tWrite a Python program to check if the given number is a Disarium Number?"
   ]
  },
  {
   "cell_type": "code",
   "execution_count": 6,
   "metadata": {},
   "outputs": [
    {
     "name": "stdout",
     "output_type": "stream",
     "text": [
      "135 is Disarium Number\n"
     ]
    }
   ],
   "source": [
    "def is_disarium(n):\n",
    "    pos, res = 1, 0\n",
    "    for i in str(n):\n",
    "        if pos <= len(str(n)):\n",
    "            res += int(i) ** pos\n",
    "            pos += 1\n",
    "    if n == res:\n",
    "        return True       \n",
    "    else:\n",
    "        return False\n",
    "         \n",
    "\n",
    "num = int(input(\"enter the number: \"))\n",
    "if is_disarium(num):\n",
    "    print(f\"{num} is Disarium Number\")\n",
    "else: \n",
    "    print(f\"{num} is not Disarium Number\")"
   ]
  },
  {
   "attachments": {},
   "cell_type": "markdown",
   "metadata": {},
   "source": [
    "#### 2.\tWrite a Python program to print all disarium numbers between 1 to 100?"
   ]
  },
  {
   "cell_type": "code",
   "execution_count": 7,
   "metadata": {},
   "outputs": [
    {
     "name": "stdout",
     "output_type": "stream",
     "text": [
      "All Disarium Number between 1 to 100 are : \n",
      "0 1 2 3 4 5 6 7 8 9 89 "
     ]
    }
   ],
   "source": [
    "print(\"All Disarium Number between 1 to 100 are : \")\n",
    "for i in range(101):\n",
    "    if is_disarium(i) == True :\n",
    "        print(i, end=\" \")"
   ]
  },
  {
   "attachments": {},
   "cell_type": "markdown",
   "metadata": {},
   "source": [
    "#### 3.\tWrite a Python program to check if the given number is Happy Number?"
   ]
  },
  {
   "cell_type": "code",
   "execution_count": 10,
   "metadata": {},
   "outputs": [
    {
     "name": "stdout",
     "output_type": "stream",
     "text": [
      "932 is Happy Number\n"
     ]
    }
   ],
   "source": [
    "def is_happy(n):\n",
    "    check = set()\n",
    "    while n != 1:\n",
    "        n = sum(int(i) ** 2 for i in str(n))\n",
    "        if n in check:\n",
    "            return False\n",
    "        check.add(n)\n",
    "    return True\n",
    "\n",
    "num = int(input(\"enter the number: \"))\n",
    "if is_happy(num):\n",
    "    print(f\"{num} is Happy Number\")\n",
    "else: \n",
    "    print(f\"{num} is not Happy Number\")"
   ]
  },
  {
   "attachments": {},
   "cell_type": "markdown",
   "metadata": {},
   "source": [
    "#### 4.\tWrite a Python program to print all happy numbers between 1 and 100?"
   ]
  },
  {
   "cell_type": "code",
   "execution_count": 11,
   "metadata": {},
   "outputs": [
    {
     "name": "stdout",
     "output_type": "stream",
     "text": [
      "All Happy Number between 1 to 100 are : \n",
      "1 7 10 13 19 23 28 31 32 44 49 68 70 79 82 86 91 94 97 100 "
     ]
    }
   ],
   "source": [
    "print(\"All Happy Number between 1 to 100 are : \")\n",
    "for i in range(101):\n",
    "    if is_happy(i) == True :\n",
    "        print(i, end=\" \")"
   ]
  },
  {
   "attachments": {},
   "cell_type": "markdown",
   "metadata": {},
   "source": [
    "#### 5.\tWrite a Python program to determine whether the given number is a Harshad Number?"
   ]
  },
  {
   "cell_type": "code",
   "execution_count": 15,
   "metadata": {},
   "outputs": [
    {
     "name": "stdout",
     "output_type": "stream",
     "text": [
      "82 is not harshad Number\n"
     ]
    }
   ],
   "source": [
    "def is_harshad(n):\n",
    "    x = sum(int(i) for i in str(n))\n",
    "    if n % x == 0:\n",
    "        return True\n",
    "    else:\n",
    "        return False\n",
    "\n",
    "num = int(input(\"enter the number: \"))\n",
    "if is_harshad(num):\n",
    "    print(f\"{num} is harshad Number\")\n",
    "else: \n",
    "    print(f\"{num} is not harshad Number\")"
   ]
  },
  {
   "cell_type": "code",
   "execution_count": 19,
   "metadata": {},
   "outputs": [
    {
     "name": "stdout",
     "output_type": "stream",
     "text": [
      "All Harshad Number between 1 to 100 are : \n",
      "1 2 3 4 5 6 7 8 9 10 12 18 20 21 24 27 30 36 40 42 45 48 50 54 60 63 70 72 80 81 84 90 100 "
     ]
    }
   ],
   "source": [
    "print(\"All Harshad Number between 1 to 100 are : \")\n",
    "for i in range(1,101):\n",
    "    if is_harshad(i) == True :\n",
    "        print(i, end=\" \")"
   ]
  },
  {
   "attachments": {},
   "cell_type": "markdown",
   "metadata": {},
   "source": [
    "#### 6.\tWrite a Python program to print all pronic numbers between 1 and 100?"
   ]
  },
  {
   "cell_type": "code",
   "execution_count": 22,
   "metadata": {},
   "outputs": [
    {
     "name": "stdout",
     "output_type": "stream",
     "text": [
      "0 2 6 12 20 30 42 56 72 90 "
     ]
    }
   ],
   "source": [
    "i = 0\n",
    "while True:\n",
    "    pronicNum = i*(i+1)\n",
    "    i = i + 1\n",
    "    if pronicNum > 100:\n",
    "        break\n",
    "    print(pronicNum, end = ' ')"
   ]
  }
 ],
 "metadata": {
  "kernelspec": {
   "display_name": "Python 3",
   "language": "python",
   "name": "python3"
  },
  "language_info": {
   "codemirror_mode": {
    "name": "ipython",
    "version": 3
   },
   "file_extension": ".py",
   "mimetype": "text/x-python",
   "name": "python",
   "nbconvert_exporter": "python",
   "pygments_lexer": "ipython3",
   "version": "3.8.5"
  },
  "orig_nbformat": 4,
  "vscode": {
   "interpreter": {
    "hash": "e8d101deb4f15aa80d1df610b470683654faf42c029e236d67b2441b6e2180d8"
   }
  }
 },
 "nbformat": 4,
 "nbformat_minor": 2
}
