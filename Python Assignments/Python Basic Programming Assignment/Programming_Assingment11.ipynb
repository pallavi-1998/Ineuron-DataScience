{
 "cells": [
  {
   "attachments": {},
   "cell_type": "markdown",
   "metadata": {},
   "source": [
    "# Programming Assignment -11"
   ]
  },
  {
   "attachments": {},
   "cell_type": "markdown",
   "metadata": {},
   "source": [
    "-------------------------------------------------------------------------------------------------------------------------------------------------------"
   ]
  },
  {
   "attachments": {},
   "cell_type": "markdown",
   "metadata": {},
   "source": [
    "#### 1. Write a Python program to find words which are greater than given length k?"
   ]
  },
  {
   "cell_type": "code",
   "execution_count": 2,
   "metadata": {},
   "outputs": [
    {
     "name": "stdout",
     "output_type": "stream",
     "text": [
      "['sharpner']\n"
     ]
    }
   ],
   "source": [
    "def find_word(length, list_words):\n",
    "    result = []\n",
    "    for i in list_words:\n",
    "        if len(i) > length:\n",
    "            result.append(i)\n",
    "    return result\n",
    "\n",
    "res = find_word(6,['pen','pencil','rubber','eraser','sharpner'])\n",
    "print(res)"
   ]
  },
  {
   "attachments": {},
   "cell_type": "markdown",
   "metadata": {},
   "source": [
    "#### 2. Write a Python program for removing i-th character from a string?"
   ]
  },
  {
   "cell_type": "code",
   "execution_count": 3,
   "metadata": {},
   "outputs": [
    {
     "name": "stdout",
     "output_type": "stream",
     "text": [
      "shapne\n"
     ]
    }
   ],
   "source": [
    "def remove(string, ch):\n",
    "    res = \"\"\n",
    "    for i in string:\n",
    "        if i != ch:\n",
    "            res += i\n",
    "    return res\n",
    "print(remove('sharpner','r'))"
   ]
  },
  {
   "attachments": {},
   "cell_type": "markdown",
   "metadata": {},
   "source": [
    "#### 3. Write a Python program to split and join a string?"
   ]
  },
  {
   "cell_type": "code",
   "execution_count": 4,
   "metadata": {},
   "outputs": [
    {
     "name": "stdout",
     "output_type": "stream",
     "text": [
      "['this', 'is', 'program', 'for', 'split', 'and', 'join', 'a', 'string']\n",
      "this is program for split and join a string\n"
     ]
    }
   ],
   "source": [
    "string = \"this is program for split and join a string\"\n",
    "\n",
    "sp = string.split(\" \")\n",
    "print(sp)\n",
    "\n",
    "join = \" \".join(sp)\n",
    "print(join)"
   ]
  },
  {
   "attachments": {},
   "cell_type": "markdown",
   "metadata": {},
   "source": [
    "#### 4. Write a Python Program to check if a given string is binary string or not?"
   ]
  },
  {
   "cell_type": "code",
   "execution_count": 6,
   "metadata": {},
   "outputs": [
    {
     "name": "stdout",
     "output_type": "stream",
     "text": [
      "74101254\n",
      "Not Binary\n"
     ]
    }
   ],
   "source": [
    "inp = input(\"enter input string\")\n",
    "binary = ['0', '1']\n",
    "flag = True\n",
    "for i in inp:\n",
    "    if i not in binary:\n",
    "        flag =  False\n",
    "\n",
    "if flag:\n",
    "    print(inp)\n",
    "    print(\"Binary\")\n",
    "else:\n",
    "    print(inp)\n",
    "    print(\"Not Binary\")"
   ]
  },
  {
   "attachments": {},
   "cell_type": "markdown",
   "metadata": {},
   "source": [
    "#### 5. Write a Python program to find uncommon words from two Strings?"
   ]
  },
  {
   "cell_type": "code",
   "execution_count": 8,
   "metadata": {},
   "outputs": [],
   "source": [
    "def uncommon(s1, s2):\n",
    "    s1 = s1.split(' ')\n",
    "    s2 = s2.split(' ')\n",
    "    uncommon = []\n",
    "\n",
    "    for i in set(s1):\n",
    "        if i not in s2:\n",
    "            uncommon.append(i)\n",
    "    for i in set(s2):\n",
    "        if i not in s1:\n",
    "            uncommon.append(i)   \n",
    "    return uncommon     "
   ]
  },
  {
   "cell_type": "code",
   "execution_count": 9,
   "metadata": {},
   "outputs": [
    {
     "data": {
      "text/plain": [
       "['words',\n",
       " 'from',\n",
       " 'program',\n",
       " 'uncommon',\n",
       " 'Strings?',\n",
       " 'two',\n",
       " 'characters',\n",
       " 'in',\n",
       " 'duplicate',\n",
       " 'all',\n",
       " 'string?']"
      ]
     },
     "execution_count": 9,
     "metadata": {},
     "output_type": "execute_result"
    }
   ],
   "source": [
    "s1 = \"Write a Python program to find uncommon words from two Strings?\"\n",
    "s2 = \"Write a Python to find all duplicate characters in string?\"\n",
    "uncommon(s1, s2)"
   ]
  },
  {
   "attachments": {},
   "cell_type": "markdown",
   "metadata": {},
   "source": [
    "#### 6. Write a Python to find all duplicate characters in string?"
   ]
  },
  {
   "cell_type": "code",
   "execution_count": 10,
   "metadata": {},
   "outputs": [],
   "source": [
    "def duplicate(string: str):\n",
    "    duplicate = []\n",
    "    for i in string:\n",
    "        if string.count(i) > 1:\n",
    "            duplicate.append(i)\n",
    "            \n",
    "    return set(duplicate)"
   ]
  },
  {
   "cell_type": "code",
   "execution_count": 11,
   "metadata": {},
   "outputs": [
    {
     "data": {
      "text/plain": [
       "{' ', 'a', 'c', 'd', 'e', 'i', 'l', 'n', 'r', 's', 't'}"
      ]
     },
     "execution_count": 11,
     "metadata": {},
     "output_type": "execute_result"
    }
   ],
   "source": [
    "duplicate(\"find all duplicate characters in string\")"
   ]
  },
  {
   "attachments": {},
   "cell_type": "markdown",
   "metadata": {},
   "source": [
    "#### 7. Write a Python Program to check if a string contains any special character?"
   ]
  },
  {
   "cell_type": "code",
   "execution_count": 13,
   "metadata": {},
   "outputs": [
    {
     "name": "stdout",
     "output_type": "stream",
     "text": [
      "hello !!!!!!!!!!!!!!!!\n",
      "Given string contains special character.\n"
     ]
    }
   ],
   "source": [
    "inp = input(\"enter string: \")\n",
    "special_char = \"[@_!#$%^&*()<>?/\\|}{~:]\"\n",
    "flag = False\n",
    "for i in inp:\n",
    "    if i in special_char:\n",
    "        flag = True\n",
    "\n",
    "if flag:\n",
    "    print(inp)\n",
    "    print(\"Given string contains special character.\")\n",
    "else:\n",
    "    print(inp)\n",
    "    print(\"Given string does not contains special character.\")"
   ]
  }
 ],
 "metadata": {
  "kernelspec": {
   "display_name": "Python 3",
   "language": "python",
   "name": "python3"
  },
  "language_info": {
   "codemirror_mode": {
    "name": "ipython",
    "version": 3
   },
   "file_extension": ".py",
   "mimetype": "text/x-python",
   "name": "python",
   "nbconvert_exporter": "python",
   "pygments_lexer": "ipython3",
   "version": "3.8.5 (tags/v3.8.5:580fbb0, Jul 20 2020, 15:43:08) [MSC v.1926 32 bit (Intel)]"
  },
  "orig_nbformat": 4,
  "vscode": {
   "interpreter": {
    "hash": "e8d101deb4f15aa80d1df610b470683654faf42c029e236d67b2441b6e2180d8"
   }
  }
 },
 "nbformat": 4,
 "nbformat_minor": 2
}
