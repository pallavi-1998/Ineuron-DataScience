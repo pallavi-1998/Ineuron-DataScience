{
 "cells": [
  {
   "attachments": {},
   "cell_type": "markdown",
   "metadata": {},
   "source": [
    "# Programming Assignment -12"
   ]
  },
  {
   "attachments": {},
   "cell_type": "markdown",
   "metadata": {},
   "source": [
    "-------------------------------------------------------------------------------------------------------------------------------------------------------"
   ]
  },
  {
   "attachments": {},
   "cell_type": "markdown",
   "metadata": {},
   "source": [
    "#### 1. Write a Python program to Extract Unique values dictionary values?"
   ]
  },
  {
   "cell_type": "code",
   "execution_count": 2,
   "metadata": {},
   "outputs": [
    {
     "name": "stdout",
     "output_type": "stream",
     "text": [
      "{56, 123, 23}\n"
     ]
    }
   ],
   "source": [
    "d = {\"a1\": 123,\"a2\": 23, \"a3\":123, \"a4\":23, \"a5\": 56, \"a6\": 56 }\n",
    "unique = set(d.values())\n",
    "print(unique)"
   ]
  },
  {
   "attachments": {},
   "cell_type": "markdown",
   "metadata": {},
   "source": [
    "#### 2. Write a Python program to find the sum of all items in a dictionary?"
   ]
  },
  {
   "cell_type": "code",
   "execution_count": 4,
   "metadata": {},
   "outputs": [
    {
     "name": "stdout",
     "output_type": "stream",
     "text": [
      "Sum of all values in dictionary is 404\n"
     ]
    }
   ],
   "source": [
    "d = {\"a1\": 123,\"a2\": 23, \"a3\":123, \"a4\":23, \"a5\": 56, \"a6\": 56 }\n",
    "sum = 0\n",
    "for i in d.values():\n",
    "    sum += i\n",
    "\n",
    "print(\"Sum of all values in dictionary is {}\".format(sum))"
   ]
  },
  {
   "attachments": {},
   "cell_type": "markdown",
   "metadata": {},
   "source": [
    "#### 3. Write a Python program to Merging two Dictionaries? "
   ]
  },
  {
   "cell_type": "code",
   "execution_count": 5,
   "metadata": {},
   "outputs": [
    {
     "name": "stdout",
     "output_type": "stream",
     "text": [
      "{'a1': 123, 'a2': 23, 'a3': 123, 'a4': 23, 'a5': 56, 'a6': 56, 'k1': 'pallavi', 'k2': 'prajapati'}\n"
     ]
    }
   ],
   "source": [
    "d1 = {\"a1\": 123,\"a2\": 23, \"a3\":123, \"a4\":23, \"a5\": 56, \"a6\": 56 }\n",
    "d2 = {\"k1\": \"pallavi\", \"k2\":\"prajapati\"}\n",
    "\n",
    "for item in d2.items():\n",
    "    d1.setdefault(item[0], item[1])\n",
    "print(d1)\n"
   ]
  },
  {
   "attachments": {},
   "cell_type": "markdown",
   "metadata": {},
   "source": [
    "#### 4. Write a Python program to convert key-values list to flat dictionary?"
   ]
  },
  {
   "cell_type": "code",
   "execution_count": 11,
   "metadata": {},
   "outputs": [
    {
     "name": "stdout",
     "output_type": "stream",
     "text": [
      "original dictionary: {'month': [1, 2, 3], 'name': ['Jan', 'Feb', 'March']}\n",
      "Flattened dictionary : {1: 'Jan', 2: 'Feb', 3: 'March'}\n"
     ]
    }
   ],
   "source": [
    "dict1 = {'month' : [1, 2, 3],\n",
    "        'name' : ['Jan', 'Feb', 'March']}\n",
    "print(\"original dictionary:\",dict1)\n",
    "x = list(dict1.values())\n",
    "d = dict()\n",
    "j=0\n",
    "for i in range(len(x[0])):\n",
    "    d[x[j][i]] = x[j+1][i]\n",
    "\n",
    "print(\"Flattened dictionary :\",d)"
   ]
  },
  {
   "cell_type": "code",
   "execution_count": 12,
   "metadata": {},
   "outputs": [
    {
     "name": "stdout",
     "output_type": "stream",
     "text": [
      "original dictionary: {'month': [1, 2, 3], 'name': ['Jan', 'Feb', 'March']}\n",
      "Flattened dictionary : {1: 'Jan', 2: 'Feb', 3: 'March'}\n"
     ]
    }
   ],
   "source": [
    "#alterate method by using dict() + zip()\n",
    "dict1 = {'month' : [1, 2, 3],\n",
    "        'name' : ['Jan', 'Feb', 'March']}\n",
    "print(\"original dictionary:\",dict1)\n",
    "flat_dict = dict(zip(dict1['month'], dict1['name']))\n",
    "print(\"Flattened dictionary :\",flat_dict)"
   ]
  },
  {
   "attachments": {},
   "cell_type": "markdown",
   "metadata": {},
   "source": [
    "#### 5. Write a Python program to insertion at the beginning in OrderedDict?"
   ]
  },
  {
   "cell_type": "code",
   "execution_count": 15,
   "metadata": {},
   "outputs": [
    {
     "name": "stdout",
     "output_type": "stream",
     "text": [
      "OrderedDict([('A', '100'), ('B', '200'), ('C', '300')])\n",
      "after update OrderedDict([('A', '100'), ('B', '200'), ('C', '300'), ('D', '400')])\n",
      "Insertion at beginning:  OrderedDict([('D', '400'), ('A', '100'), ('B', '200'), ('C', '300')])\n"
     ]
    }
   ],
   "source": [
    "from collections import OrderedDict\n",
    "d1 = OrderedDict([('A', '100'), ('B', '200'), ('C', '300')])\n",
    "print(d1)\n",
    "d1.update({'D': '400'})\n",
    "print(\"after update\",d1)\n",
    "d1.move_to_end('D',last=False)\n",
    "print(\"Insertion at beginning: \",d1)"
   ]
  },
  {
   "attachments": {},
   "cell_type": "markdown",
   "metadata": {},
   "source": [
    "#### 6. Write a Python program to check order of character in string using OrderedDict()? "
   ]
  },
  {
   "cell_type": "code",
   "execution_count": 30,
   "metadata": {},
   "outputs": [
    {
     "name": "stdout",
     "output_type": "stream",
     "text": [
      "OrderedDict([('G', None), ('e', None), ('o', None), ('g', None), ('r', None), ('a', None), ('p', None), ('h', None), ('i', None), ('c', None)])\n",
      "Pattern is not in correct order\n"
     ]
    }
   ],
   "source": [
    "from collections import OrderedDict\n",
    "def check_order(string, patt):\n",
    "    if len(patt) > len(string):\n",
    "        return False\n",
    "    else:\n",
    "        dict1 = OrderedDict.fromkeys(string)\n",
    "        print(dict1)\n",
    "        pl = 0\n",
    "        for k in dict1:\n",
    "            if k == patt[pl]:\n",
    "                pl += 1\n",
    "            if pl == len(patt):\n",
    "                return \"Pattern is in correct order\"\n",
    "        return \"Pattern is not in correct order\"\n",
    "res = check_order(\"Geographic\",\"arg\")\n",
    "print(res)"
   ]
  },
  {
   "attachments": {},
   "cell_type": "markdown",
   "metadata": {},
   "source": [
    "#### 7. Write a Python program to sort Python Dictionaries by Key or Value?"
   ]
  },
  {
   "cell_type": "code",
   "execution_count": 33,
   "metadata": {},
   "outputs": [
    {
     "name": "stdout",
     "output_type": "stream",
     "text": [
      "[1, 2, 3, 4, 6, 7]\n",
      "['4', '6', 'k1', 'k2', 'k3', 'key7']\n",
      "[('4', 4), ('6', 6), ('k1', 2), ('k2', 1), ('k3', 3), ('key7', 7)]\n"
     ]
    }
   ],
   "source": [
    "def sort_dict(dict1, x):\n",
    "    if x == 'key':\n",
    "        print(sorted(dict1.keys()))\n",
    "    elif x == 'value' or x == 'values':\n",
    "        print(sorted(dict1.values()))\n",
    "    else:\n",
    "        print(sorted(dict1.items()))\n",
    "\n",
    "d = {'k1':2, 'k2':1, 'k3':3, '4':4 ,'6':6, 'key7':7}\n",
    "sort_dict(d, 'value')\n",
    "sort_dict(d, 'key')\n",
    "sort_dict(d, 'item')"
   ]
  }
 ],
 "metadata": {
  "kernelspec": {
   "display_name": "Python 3",
   "language": "python",
   "name": "python3"
  },
  "language_info": {
   "codemirror_mode": {
    "name": "ipython",
    "version": 3
   },
   "file_extension": ".py",
   "mimetype": "text/x-python",
   "name": "python",
   "nbconvert_exporter": "python",
   "pygments_lexer": "ipython3",
   "version": "3.8.5 (tags/v3.8.5:580fbb0, Jul 20 2020, 15:43:08) [MSC v.1926 32 bit (Intel)]"
  },
  "orig_nbformat": 4,
  "vscode": {
   "interpreter": {
    "hash": "e8d101deb4f15aa80d1df610b470683654faf42c029e236d67b2441b6e2180d8"
   }
  }
 },
 "nbformat": 4,
 "nbformat_minor": 2
}
