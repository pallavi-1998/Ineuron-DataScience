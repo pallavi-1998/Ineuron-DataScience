{
 "cells": [
  {
   "attachments": {},
   "cell_type": "markdown",
   "metadata": {},
   "source": [
    "# Programming Assignment -6"
   ]
  },
  {
   "attachments": {},
   "cell_type": "markdown",
   "metadata": {},
   "source": [
    "----------------------------------------------------------------------------------------------------------------------------------------"
   ]
  },
  {
   "attachments": {},
   "cell_type": "markdown",
   "metadata": {},
   "source": [
    "#### 1.\tWrite a Python Program to Display Fibonacci Sequence Using Recursion?"
   ]
  },
  {
   "cell_type": "code",
   "execution_count": 3,
   "metadata": {},
   "outputs": [
    {
     "name": "stdout",
     "output_type": "stream",
     "text": [
      "0 1 1 2 3 5 "
     ]
    }
   ],
   "source": [
    "def fibonacci(n):\n",
    "    if n <= 1:\n",
    "        return n\n",
    "    else:\n",
    "        return fibonacci(n-1) + fibonacci(n-2)\n",
    "\n",
    "inp = int(input(\"enter term upto which fibonacci series you want: \"))\n",
    "if inp < 0:\n",
    "    print(\"please enter positive number !!!\")\n",
    "else:\n",
    "    for i in range(0, inp):\n",
    "        print(fibonacci(i),end=\" \")"
   ]
  },
  {
   "attachments": {},
   "cell_type": "markdown",
   "metadata": {},
   "source": [
    "#### 2.\tWrite a Python Program to Find Factorial of Number Using Recursion?"
   ]
  },
  {
   "cell_type": "code",
   "execution_count": 4,
   "metadata": {},
   "outputs": [
    {
     "name": "stdout",
     "output_type": "stream",
     "text": [
      "720\n"
     ]
    }
   ],
   "source": [
    "def factorial(n):\n",
    "    if n == 0 or n == 1:\n",
    "        return 1\n",
    "    else:\n",
    "        return n * factorial(n-1)\n",
    "inp = int(input(\"enter number\"))  \n",
    "if inp < 0:\n",
    "    print(\"please enter positive number !!!\")\n",
    "else:\n",
    "    print(factorial(inp))      "
   ]
  },
  {
   "attachments": {},
   "cell_type": "markdown",
   "metadata": {},
   "source": [
    "#### 3.\tWrite a Python Program to calculate your Body Mass Index?"
   ]
  },
  {
   "cell_type": "code",
   "execution_count": 6,
   "metadata": {},
   "outputs": [
    {
     "name": "stdout",
     "output_type": "stream",
     "text": [
      "BMI for 55.0(in kg) and 1.5(in meters) is 24.44kg/sq m (Normal)\n"
     ]
    }
   ],
   "source": [
    "def bmi(mass, height):\n",
    "    return (mass/(height ** 2))\n",
    "\n",
    "mass = float(input(\"enter weight(in kg): \"))\n",
    "height = float(input(\"enter height(in meters): \"))\n",
    "bmi = round(bmi(mass,height), 2)\n",
    "if bmi < 18.5:\n",
    "    print(f\"BMI for {mass}(in kg) and {height}(in meters) is {bmi}kg/sq meter (Underweight)\")\n",
    "elif bmi >= 18.5 or bmi < 25:\n",
    "    print(f\"BMI for {mass}(in kg) and {height}(in meters) is {bmi}kg/sq meter (Normal)\")\n",
    "elif bmi >= 25 or bmi < 30: \n",
    "    print(f\"BMI for {mass}(in kg) and {height}(in meters) is {bmi}kg/sq meter (Overweight)\")\n",
    "else:\n",
    "    print(f\"BMI for {mass}(in kg) and {height}(in meters) is {bmi}kg/sq meter (Obesity)\")"
   ]
  },
  {
   "attachments": {},
   "cell_type": "markdown",
   "metadata": {},
   "source": [
    "#### 4.\tWrite a Python Program to calculate the natural logarithm of any number?"
   ]
  },
  {
   "cell_type": "code",
   "execution_count": 9,
   "metadata": {},
   "outputs": [
    {
     "name": "stdout",
     "output_type": "stream",
     "text": [
      "natural log(5) is 1.609\n"
     ]
    }
   ],
   "source": [
    "import math\n",
    "inp = int(input(\"log value for: \"))\n",
    "res = round(math.log(inp), 3)\n",
    "print(f\"natural log({inp}) is {res}\")"
   ]
  },
  {
   "attachments": {},
   "cell_type": "markdown",
   "metadata": {},
   "source": [
    "#### 5.\tWrite a Python Program for cube sum of first n natural numbers?"
   ]
  },
  {
   "cell_type": "code",
   "execution_count": 1,
   "metadata": {},
   "outputs": [
    {
     "name": "stdout",
     "output_type": "stream",
     "text": [
      "sum of cubes of first 5 natural numbers is 225\n"
     ]
    }
   ],
   "source": [
    "def sum_of_cubes(n):\n",
    "    sum = 0\n",
    "    for i in range(1, n+1):\n",
    "        sum += i ** 3\n",
    "    return sum\n",
    "inp = int(input(\"enter a natural number to calculate sum of cubes upto: \"))\n",
    "if inp <= 0:\n",
    "    print(\"Not a natural number !!!!!!!!!\")\n",
    "else:\n",
    "    print(f\"sum of cubes of first {inp} natural numbers is {sum_of_cubes(inp)}\")"
   ]
  }
 ],
 "metadata": {
  "kernelspec": {
   "display_name": "Python 3",
   "language": "python",
   "name": "python3"
  },
  "language_info": {
   "codemirror_mode": {
    "name": "ipython",
    "version": 3
   },
   "file_extension": ".py",
   "mimetype": "text/x-python",
   "name": "python",
   "nbconvert_exporter": "python",
   "pygments_lexer": "ipython3",
   "version": "3.8.5"
  },
  "orig_nbformat": 4,
  "vscode": {
   "interpreter": {
    "hash": "e8d101deb4f15aa80d1df610b470683654faf42c029e236d67b2441b6e2180d8"
   }
  }
 },
 "nbformat": 4,
 "nbformat_minor": 2
}
