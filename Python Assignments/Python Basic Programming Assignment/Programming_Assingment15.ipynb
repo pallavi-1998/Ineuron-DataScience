{
 "cells": [
  {
   "attachments": {},
   "cell_type": "markdown",
   "metadata": {},
   "source": [
    "# Programming Assignment -15"
   ]
  },
  {
   "attachments": {},
   "cell_type": "markdown",
   "metadata": {},
   "source": [
    "-------------------------------------------------------------------------------------------------------------------------------------------------------"
   ]
  },
  {
   "attachments": {},
   "cell_type": "markdown",
   "metadata": {},
   "source": [
    "#### Question 1: Please write a program using generator to print the numbers which can be divisible by 5 and 7 between 0 and n in comma separated form while n is input by console."
   ]
  },
  {
   "cell_type": "code",
   "execution_count": 2,
   "metadata": {},
   "outputs": [
    {
     "name": "stdout",
     "output_type": "stream",
     "text": [
      "0 35 70 "
     ]
    }
   ],
   "source": [
    "class task1:\n",
    "    def gen(self, n):\n",
    "        for i in range(n+1):\n",
    "            if i%5 == 0 and i%7 == 0:\n",
    "                yield i\n",
    "\n",
    "num = int(input(\"enter number:\"))\n",
    "obj = task1()\n",
    "res = obj.gen(num)\n",
    "for i in res:\n",
    "    print(i,end=\" \")"
   ]
  },
  {
   "attachments": {},
   "cell_type": "markdown",
   "metadata": {},
   "source": [
    "#### Question 2: Please write a program using generator to print the even numbers between 0 and n in comma separated form while n is input by console."
   ]
  },
  {
   "cell_type": "code",
   "execution_count": 11,
   "metadata": {},
   "outputs": [
    {
     "name": "stdout",
     "output_type": "stream",
     "text": [
      "0,2,4,6,8,10\n"
     ]
    }
   ],
   "source": [
    "class task2:\n",
    "    def gen(self, n):\n",
    "        for i in range(n+1):\n",
    "            if i%2 == 0:\n",
    "                yield str(i)\n",
    "\n",
    "num = int(input(\"enter number:\"))\n",
    "obj = task2()\n",
    "res = obj.gen(num)\n",
    "print(\",\".join([i for i in res]))"
   ]
  },
  {
   "attachments": {},
   "cell_type": "markdown",
   "metadata": {},
   "source": [
    "#### Question 3: The Fibonacci Sequence is computed based on the following formula:\n",
    "f(n)=0 if n=0           \n",
    "f(n)=1 if n=1               \n",
    "f(n)=f(n-1)+f(n-2) if n > 1             \n",
    "#### Please write a program using list comprehension to print the Fibonacci Sequence in comma separated form with a given n input by console"
   ]
  },
  {
   "cell_type": "code",
   "execution_count": 18,
   "metadata": {},
   "outputs": [
    {
     "name": "stdout",
     "output_type": "stream",
     "text": [
      "0,1,1,2,3,5,8,13\n"
     ]
    }
   ],
   "source": [
    "class task3:\n",
    "    def fib(self, num):\n",
    "        if num == 0:\n",
    "            print(0)\n",
    "        elif num == 1:\n",
    "            print(1)\n",
    "        elif num > 1:\n",
    "            i, j = 0, 1\n",
    "            for k in range(num+1):\n",
    "                yield i\n",
    "                i, j = j, i+j\n",
    "n = int(input(\"enter number:\"))\n",
    "obj = task3()\n",
    "res = obj.fib(n)\n",
    "print(\",\".join([str(i) for i in res]))"
   ]
  },
  {
   "attachments": {},
   "cell_type": "markdown",
   "metadata": {},
   "source": [
    "#### Question 4: Assuming that we have some email addresses in the \"username@companyname.com\" format, please write program to print the user name of a given email address. Both user names and company names are composed of letters only."
   ]
  },
  {
   "cell_type": "code",
   "execution_count": 19,
   "metadata": {},
   "outputs": [
    {
     "name": "stdout",
     "output_type": "stream",
     "text": [
      "john\n"
     ]
    }
   ],
   "source": [
    "def user_name(email):\n",
    "    return email.split('@')[0]\n",
    "\n",
    "res = user_name(\"john@google.com\")\n",
    "print(res)"
   ]
  },
  {
   "attachments": {},
   "cell_type": "markdown",
   "metadata": {},
   "source": [
    "#### Question 5: Define a class named Shape and its subclass Square. The Square class has an init function which takes a length as argument. Both classes have a area function which can print the area of the shape where Shape&#39;s area is 0 by default."
   ]
  },
  {
   "cell_type": "code",
   "execution_count": 22,
   "metadata": {},
   "outputs": [
    {
     "name": "stdout",
     "output_type": "stream",
     "text": [
      "0\n"
     ]
    },
    {
     "data": {
      "text/plain": [
       "100"
      ]
     },
     "execution_count": 22,
     "metadata": {},
     "output_type": "execute_result"
    }
   ],
   "source": [
    "class Shape:\n",
    "    def __init__(self, length):\n",
    "        self.length = length\n",
    "\n",
    "    def area(self):\n",
    "        return 0\n",
    "\n",
    "class Square(Shape):\n",
    "    def area(self):\n",
    "        return (self.length * self.length)\n",
    "\n",
    "shape_obj = Shape(5)\n",
    "print(shape_obj.area())\n",
    "\n",
    "sq_obj = Square(10)\n",
    "sq_obj.area()"
   ]
  }
 ],
 "metadata": {
  "kernelspec": {
   "display_name": "Python 3",
   "language": "python",
   "name": "python3"
  },
  "language_info": {
   "codemirror_mode": {
    "name": "ipython",
    "version": 3
   },
   "file_extension": ".py",
   "mimetype": "text/x-python",
   "name": "python",
   "nbconvert_exporter": "python",
   "pygments_lexer": "ipython3",
   "version": "3.8.5"
  },
  "orig_nbformat": 4,
  "vscode": {
   "interpreter": {
    "hash": "e8d101deb4f15aa80d1df610b470683654faf42c029e236d67b2441b6e2180d8"
   }
  }
 },
 "nbformat": 4,
 "nbformat_minor": 2
}
