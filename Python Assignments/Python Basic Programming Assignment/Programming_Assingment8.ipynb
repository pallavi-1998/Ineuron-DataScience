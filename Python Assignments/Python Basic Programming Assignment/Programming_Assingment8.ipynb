{
 "cells": [
  {
   "attachments": {},
   "cell_type": "markdown",
   "metadata": {},
   "source": [
    "# Programming Assignment -8"
   ]
  },
  {
   "attachments": {},
   "cell_type": "markdown",
   "metadata": {},
   "source": [
    "----------------------------------------------------------------------------------------------------------------------------------------"
   ]
  },
  {
   "attachments": {},
   "cell_type": "markdown",
   "metadata": {},
   "source": [
    "#### 1.\tWrite a Python Program to Add Two Matrices?"
   ]
  },
  {
   "cell_type": "code",
   "execution_count": 3,
   "metadata": {},
   "outputs": [
    {
     "name": "stdout",
     "output_type": "stream",
     "text": [
      "Matrix 1 [[1, 2, 3], [4, 5, 6], [7, 8, 9]]\n",
      "Matrix 2 [[29, 45, 17], [16, 25, 14], [23, 22, 10]]\n",
      "Addition of above two matrix =  [[30, 47, 20], [20, 30, 20], [30, 30, 19]]\n"
     ]
    }
   ],
   "source": [
    "matrix_1 = [[1, 2, 3],[4, 5, 6], [7, 8, 9]]\n",
    "matrix_2 = [[29, 45, 17], [16, 25, 14], [23, 22, 10]]\n",
    "res = [[0,0,0],[0,0,0],[0,0,0]]\n",
    "for row in range(len(matrix_1)):\n",
    "    for col in range(len(matrix_1[0])):\n",
    "        res[row][col] = matrix_1[row][col] + matrix_2[row][col]\n",
    "\n",
    "print(\"Matrix 1\",matrix_1)\n",
    "print(\"Matrix 2\",matrix_2)\n",
    "print(\"Addition of above two matrix = \",res)\n",
    "# for i in res:\n",
    "#     print(i)"
   ]
  },
  {
   "attachments": {},
   "cell_type": "markdown",
   "metadata": {},
   "source": [
    "#### 2.\tWrite a Python Program to Multiply Two Matrices?"
   ]
  },
  {
   "cell_type": "code",
   "execution_count": 6,
   "metadata": {},
   "outputs": [
    {
     "name": "stdout",
     "output_type": "stream",
     "text": [
      "Matrix 1 [[1, 2, 3], [4, 5, 6], [7, 8, 9]]\n",
      "Matrix 2 [[29, 45, 17], [16, 25, 14], [23, 22, 10]]\n",
      "Addition of above two matrix =  [[29, 90, 51], [64, 125, 84], [161, 176, 90]]\n"
     ]
    }
   ],
   "source": [
    "matrix_1 = [[1, 2, 3],[4, 5, 6], [7, 8, 9]]\n",
    "matrix_2 = [[29, 45, 17], [16, 25, 14], [23, 22, 10]]\n",
    "\n",
    "result = []\n",
    "for i in range(len(matrix_1)):\n",
    "    row = []\n",
    "    for j in range(len(matrix_1[0])):\n",
    "        row.append(matrix_1[i][j] * matrix_2[i][j])\n",
    "        \n",
    "    result.append(row)\n",
    "    \n",
    "print(\"Matrix 1\",matrix_1)\n",
    "print(\"Matrix 2\",matrix_2)\n",
    "print(\"Addition of above two matrix = \",result)"
   ]
  },
  {
   "attachments": {},
   "cell_type": "markdown",
   "metadata": {},
   "source": [
    "#### 3.\tWrite a Python Program to Transpose a Matrix?"
   ]
  },
  {
   "cell_type": "code",
   "execution_count": 5,
   "metadata": {},
   "outputs": [
    {
     "name": "stdout",
     "output_type": "stream",
     "text": [
      "Matrix before transpose: \n",
      "29 45 17 \n",
      "16 25 14 \n",
      "23 22 10 \n",
      "Matrix after transpose: \n",
      "29 16 23 \n",
      "45 25 22 \n",
      "17 14 10 \n"
     ]
    }
   ],
   "source": [
    "def transpose(matrix_2):\n",
    "    n = len(matrix_2)\n",
    "    for row in range(n):\n",
    "        for col in range(row+1, n):\n",
    "            matrix_2[row][col], matrix_2[col][row] = matrix_2[col][row], matrix_2[row][col]\n",
    "\n",
    "matrix_2 = [[29, 45, 17], [16, 25, 14], [23, 22, 10]]\n",
    "print(\"Matrix before transpose: \")\n",
    "for i in range(len(matrix_2)):\n",
    "    for j in range(len(matrix_2[0])):\n",
    "        print(matrix_2[i][j], end = \" \")\n",
    "    print()\n",
    "transpose(matrix_2)\n",
    "print(\"Matrix after transpose: \")\n",
    "for i in range(len(matrix_2)):\n",
    "    for j in range(len(matrix_2[0])):\n",
    "        print(matrix_2[i][j], end = \" \")\n",
    "    print()"
   ]
  },
  {
   "attachments": {},
   "cell_type": "markdown",
   "metadata": {},
   "source": [
    "#### 4.\tWrite a Python Program to Sort Words in Alphabetic Order?"
   ]
  },
  {
   "cell_type": "code",
   "execution_count": 8,
   "metadata": {},
   "outputs": [
    {
     "name": "stdout",
     "output_type": "stream",
     "text": [
      "Sorted order of words in sentence:  \n",
      "an assignment given this to us was "
     ]
    }
   ],
   "source": [
    "try:\n",
    "    sentence = input(\"Enter words: \")\n",
    "    words = [word.lower() for word in sentence.split()]\n",
    "    words.sort()\n",
    "    print(\"Sorted order of words in sentence:  \")\n",
    "    for word in words:\n",
    "        print(word,end=\" \")\n",
    "\n",
    "except Exception as e:\n",
    "    print(e)"
   ]
  },
  {
   "attachments": {},
   "cell_type": "markdown",
   "metadata": {},
   "source": [
    "#### 5.\tWrite a Python Program to Remove Punctuation From a String?"
   ]
  },
  {
   "cell_type": "code",
   "execution_count": 10,
   "metadata": {},
   "outputs": [
    {
     "name": "stdout",
     "output_type": "stream",
     "text": [
      "String with punctuation marks:  Hello !!! This is, program {} to <remove> @@#$%punctuation%^&~~ [from] (given);: string.!\n",
      "String without punctuation marks:  Hello  This is program  to remove punctuation from given string\n"
     ]
    }
   ],
   "source": [
    "punctuations = '''!()-[]{};:'\"\\,<>./?@#$%^&*_~'''\n",
    "\n",
    "string = input(\"Enter the string: \")\n",
    "# string = \"Hello !!! This is, program {} to <remove> @@#$%punctuation%^&~~ [from] (given);: string.!\"\n",
    "result = \"\"\n",
    "print(\"String with punctuation marks: \",string)\n",
    "for char in string:\n",
    "    if char not in punctuations:\n",
    "        result += char\n",
    "        \n",
    "print(\"String without punctuation marks: \",result)"
   ]
  }
 ],
 "metadata": {
  "kernelspec": {
   "display_name": "Python 3",
   "language": "python",
   "name": "python3"
  },
  "language_info": {
   "codemirror_mode": {
    "name": "ipython",
    "version": 3
   },
   "file_extension": ".py",
   "mimetype": "text/x-python",
   "name": "python",
   "nbconvert_exporter": "python",
   "pygments_lexer": "ipython3",
   "version": "3.8.5 (tags/v3.8.5:580fbb0, Jul 20 2020, 15:43:08) [MSC v.1926 32 bit (Intel)]"
  },
  "orig_nbformat": 4,
  "vscode": {
   "interpreter": {
    "hash": "e8d101deb4f15aa80d1df610b470683654faf42c029e236d67b2441b6e2180d8"
   }
  }
 },
 "nbformat": 4,
 "nbformat_minor": 2
}
