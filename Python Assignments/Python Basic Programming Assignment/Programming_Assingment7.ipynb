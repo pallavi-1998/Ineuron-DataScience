{
 "cells": [
  {
   "attachments": {},
   "cell_type": "markdown",
   "metadata": {},
   "source": [
    "# Programming Assignment -7"
   ]
  },
  {
   "attachments": {},
   "cell_type": "markdown",
   "metadata": {},
   "source": [
    "----------------------------------------------------------------------------------------------------------------------------------------"
   ]
  },
  {
   "cell_type": "code",
   "execution_count": 35,
   "metadata": {},
   "outputs": [],
   "source": [
    "import array as arr"
   ]
  },
  {
   "attachments": {},
   "cell_type": "markdown",
   "metadata": {},
   "source": [
    "#### 1.\tWrite a Python Program to find sum of array?"
   ]
  },
  {
   "cell_type": "code",
   "execution_count": 14,
   "metadata": {},
   "outputs": [
    {
     "name": "stdout",
     "output_type": "stream",
     "text": [
      "sum of array('i', [30, 40, 50, 60]) is 200\n"
     ]
    }
   ],
   "source": [
    "array = arr.array(\"i\",[20,30,40,50,60])\n",
    "sum = 0\n",
    "for i in array:\n",
    "    sum += i\n",
    "print(f\"sum of {array} is {sum}\")"
   ]
  },
  {
   "attachments": {},
   "cell_type": "markdown",
   "metadata": {},
   "source": [
    "#### 2.\tWrite a Python Program to find largest element in an array?"
   ]
  },
  {
   "cell_type": "code",
   "execution_count": 22,
   "metadata": {},
   "outputs": [
    {
     "name": "stdout",
     "output_type": "stream",
     "text": [
      "Largest element in array('i', [308, 201, 546, 85, 200]) is 546\n"
     ]
    }
   ],
   "source": [
    "l = arr.array(\"i\",[308, 201, 546, 85,200])\n",
    "largest = 0\n",
    "for i in l:\n",
    "    if largest < i:\n",
    "        largest = i\n",
    "print(f\"Largest element in {l[0:]} is {largest}\")"
   ]
  },
  {
   "attachments": {},
   "cell_type": "markdown",
   "metadata": {},
   "source": [
    "#### 3.\tWrite a Python Program for array rotation?"
   ]
  },
  {
   "cell_type": "code",
   "execution_count": 51,
   "metadata": {},
   "outputs": [
    {
     "name": "stdout",
     "output_type": "stream",
     "text": [
      "original array:  array('i', [308, 201, 546, 85, 200])\n",
      "Rotated array:  array('i', [85, 200, 308, 201, 546])\n"
     ]
    }
   ],
   "source": [
    "import array as arr\n",
    "def reverse(ar,start, end):\n",
    "    n = end - start + 1 # number of iteration to reverse\n",
    "    count = 0\n",
    "    while count != (n // 2):\n",
    "        ar[start+count], ar[end-count] = ar[end-count], ar[start+count] \n",
    "        count += 1\n",
    "    return ar\n",
    "\n",
    "def rotated_array(ar,l,r):\n",
    "    initial = 0\n",
    "    end = l - 1\n",
    "    ar = reverse(ar,initial,end)\n",
    "\n",
    "    #creating subarray one\n",
    "    initial = 0\n",
    "    end = l - r - 1\n",
    "    ar = reverse(ar,initial,end)\n",
    "\n",
    "    #creating subarray two\n",
    "    initial = l - r\n",
    "    end = l - 1\n",
    "    ar = reverse(ar,initial,end)\n",
    "    return ar\n",
    "\n",
    "org_arr = arr.array(\"i\",[308, 201, 546, 85,200])\n",
    "l = len(org_arr)\n",
    "rotation = 8\n",
    "print(\"original array: \", org_arr)\n",
    "if rotation < 0:\n",
    "    print(\"please enter positive number !!\")\n",
    "elif rotation == l or rotation == 0:\n",
    "    print(\"Rotated array: \",org_arr)\n",
    "elif rotation == (l-1):\n",
    "    org_arr[0], org_arr[l-1] = org_arr[l-1], org_arr[0]\n",
    "    print(\"Rotated array: \",org_arr)\n",
    "elif rotation > l:\n",
    "    rotation = rotation % l\n",
    "    print(\"Rotated array: \",rotated_array(org_arr,l,rotation))\n",
    "else:\n",
    "    print(\"Rotated array: \",rotated_array(org_arr,l,rotation))\n",
    "    "
   ]
  },
  {
   "attachments": {},
   "cell_type": "markdown",
   "metadata": {},
   "source": [
    "#### 4. Write a Python Program to split the array and add the first part to end?"
   ]
  },
  {
   "cell_type": "code",
   "execution_count": 54,
   "metadata": {},
   "outputs": [
    {
     "name": "stdout",
     "output_type": "stream",
     "text": [
      "original array:  array('i', [20, 30, 40, 50, 60])\n",
      "After Split new Array:  array('i', [50, 60, 20, 30, 40])\n"
     ]
    }
   ],
   "source": [
    "import array as arr\n",
    "def split_array(array, split_index):\n",
    "    ar = arr.array(\"i\",[])\n",
    "    l = len(array)\n",
    "    for i in range(l):\n",
    "        ind = (i+l+split_index)%(l)\n",
    "        ar.append(array[ind])\n",
    "    return ar\n",
    "\n",
    "array = arr.array(\"i\",[20,30,40,50,60])\n",
    "ind = 3 # index at wich array will spilt\n",
    "print(\"original array: \", array)\n",
    "print(\"After Split new Array: \",split_array(array, ind)) "
   ]
  },
  {
   "attachments": {},
   "cell_type": "markdown",
   "metadata": {},
   "source": [
    "#### 5. Write a Python Program to check if the array is Monotonic?"
   ]
  },
  {
   "cell_type": "code",
   "execution_count": 60,
   "metadata": {},
   "outputs": [
    {
     "name": "stdout",
     "output_type": "stream",
     "text": [
      "True\n"
     ]
    }
   ],
   "source": [
    "import array as arr\n",
    "def is_monotonic(ar, l):\n",
    "    if all(ar[i] >= ar[i+1] for i in range(l-1) or ar[i] <= ar[i+1] for i in range(l-1)):\n",
    "        return True\n",
    "    else:\n",
    "        return False\n",
    "\n",
    "array = arr.array(\"i\",[4,3,2])\n",
    "l = len(array)\n",
    "if l == 1:\n",
    "    print(\"True\")\n",
    "else:\n",
    "    print(is_monotonic(array,l))\n"
   ]
  }
 ],
 "metadata": {
  "kernelspec": {
   "display_name": "Python 3",
   "language": "python",
   "name": "python3"
  },
  "language_info": {
   "codemirror_mode": {
    "name": "ipython",
    "version": 3
   },
   "file_extension": ".py",
   "mimetype": "text/x-python",
   "name": "python",
   "nbconvert_exporter": "python",
   "pygments_lexer": "ipython3",
   "version": "3.8.5 (tags/v3.8.5:580fbb0, Jul 20 2020, 15:43:08) [MSC v.1926 32 bit (Intel)]"
  },
  "orig_nbformat": 4,
  "vscode": {
   "interpreter": {
    "hash": "e8d101deb4f15aa80d1df610b470683654faf42c029e236d67b2441b6e2180d8"
   }
  }
 },
 "nbformat": 4,
 "nbformat_minor": 2
}
