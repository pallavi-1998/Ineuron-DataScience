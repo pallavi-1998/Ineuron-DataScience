{
 "cells": [
  {
   "attachments": {},
   "cell_type": "markdown",
   "metadata": {},
   "source": [
    "# Programming Assignment -14"
   ]
  },
  {
   "attachments": {},
   "cell_type": "markdown",
   "metadata": {},
   "source": [
    "-------------------------------------------------------------------------------------------------------------------------------------------------------"
   ]
  },
  {
   "attachments": {},
   "cell_type": "markdown",
   "metadata": {},
   "source": [
    "#### Question 1: Define a class with a generator which can iterate the numbers, which are divisible by 7, between a given range 0 and n."
   ]
  },
  {
   "cell_type": "code",
   "execution_count": 6,
   "metadata": {},
   "outputs": [
    {
     "name": "stdout",
     "output_type": "stream",
     "text": [
      "0 7 14 21 28 35 42 49 56 63 70 77 84 91 98 105 112 119 126 133 140 147 154 161 168 175 182 189 196 203 210 217 224 231 238 245 252 259 266 273 280 287 294 301 308 315 322 329 336 343 350 357 364 371 378 385 392 399 406 413 420 427 434 441 448 455 462 469 476 483 490 497 504 511 518 525 532 539 546 553 560 567 574 581 588 595 602 609 616 623 630 637 644 651 658 665 672 679 686 693 700 707 714 721 728 735 742 749 756 763 770 777 784 791 798 805 812 819 826 833 840 847 854 861 868 875 882 889 896 903 910 917 924 931 938 945 952 959 966 973 980 987 994 "
     ]
    }
   ],
   "source": [
    "class Ques1:\n",
    "    def gen(self, n):\n",
    "        for i in range(n):\n",
    "            if i%7 == 0:\n",
    "                yield i\n",
    "\n",
    "obj = Ques1()\n",
    "for i in obj.gen(1000):\n",
    "    print(i,end=\" \")"
   ]
  },
  {
   "attachments": {},
   "cell_type": "markdown",
   "metadata": {},
   "source": [
    "#### Question 2: Write a program to compute the frequency of the words from the input. The output should output after sorting the key alphanumerically."
   ]
  },
  {
   "cell_type": "code",
   "execution_count": 8,
   "metadata": {},
   "outputs": [
    {
     "name": "stdout",
     "output_type": "stream",
     "text": [
      "2  :  2\n",
      "3.  :  1\n",
      "3?  :  1\n",
      "New  :  1\n",
      "Python  :  5\n",
      "Read  :  1\n",
      "and  :  1\n",
      "between  :  1\n",
      "choosing  :  1\n",
      "or  :  2\n",
      "to  :  1\n"
     ]
    }
   ],
   "source": [
    "def Ques2(s):\n",
    "    s_list = s.split(\" \")\n",
    "    out = {}\n",
    "    for i in s_list:\n",
    "        if i in out.keys():\n",
    "            out[i] += 1\n",
    "        else:\n",
    "            out[i] = 1\n",
    "    for k, v in sorted(out.items()): \n",
    "        print(k,\" : \", v)\n",
    "Ques2(\"New to Python or choosing between Python 2 and Python 3? Read Python 2 or Python 3.\")"
   ]
  },
  {
   "attachments": {},
   "cell_type": "markdown",
   "metadata": {},
   "source": [
    "#### Question 3: Define a class Person and its two child classes: Male and Female. All classes have a method \"getGender\" which can print \"Male\" for Male class and \"Female\" for Female class."
   ]
  },
  {
   "cell_type": "code",
   "execution_count": 9,
   "metadata": {},
   "outputs": [
    {
     "name": "stdout",
     "output_type": "stream",
     "text": [
      "Male\n",
      "Female\n"
     ]
    }
   ],
   "source": [
    "class Person:\n",
    "    def getGender(self):\n",
    "        pass\n",
    "\n",
    "class Male(Person):\n",
    "    def getGender(self):\n",
    "        print(\"Male\")\n",
    "\n",
    "class Female(Person):\n",
    "    def getGender(self):\n",
    "        print(\"Female\")\n",
    "\n",
    "male_obj = Male()\n",
    "male_obj.getGender()\n",
    "Female_obj = Female()\n",
    "Female_obj.getGender()"
   ]
  },
  {
   "attachments": {},
   "cell_type": "markdown",
   "metadata": {},
   "source": [
    "#### Question 4: Please write a program to generate all sentences where subject is in [\"I\", \"You\"] and verb is in [\"Play\", \"Love\"] and the object is in [\"Hockey\",\"Football\"]."
   ]
  },
  {
   "cell_type": "code",
   "execution_count": 13,
   "metadata": {},
   "outputs": [
    {
     "name": "stdout",
     "output_type": "stream",
     "text": [
      "I Play Hockey\n",
      "I Play Football\n",
      "I Love Hockey\n",
      "I Love Football\n",
      "You Play Hockey\n",
      "You Play Football\n",
      "You Love Hockey\n",
      "You Love Football\n"
     ]
    }
   ],
   "source": [
    "subject=[\"I\", \"You\"]\n",
    "verb=[\"Play\", \"Love\"]\n",
    "obj=[\"Hockey\",\"Football\"]\n",
    "\n",
    "# sentence_list = []\n",
    "sentence_list = [(i+\" \"+j+\" \"+k) for i in subject for j in verb for k in obj]\n",
    "\n",
    "# for i in subject:\n",
    "#     for j in verb:\n",
    "#         for k in obj:\n",
    "#             sentence_list.append(i + \" \" + j + \" \" + k)\n",
    "            \n",
    "for sentence in sentence_list:\n",
    "    print(sentence)"
   ]
  },
  {
   "attachments": {},
   "cell_type": "markdown",
   "metadata": {},
   "source": [
    "#### Question 5: Please write a program to compress and decompress the string \"hello world!hello world!hello world!hello world!\"."
   ]
  },
  {
   "cell_type": "code",
   "execution_count": 25,
   "metadata": {},
   "outputs": [
    {
     "name": "stdout",
     "output_type": "stream",
     "text": [
      "Compressed string is: b'x\\x9c\\xcbH\\xcd\\xc9\\xc9W(\\xcf/\\xcaIQ\\xcc \\x82\\r\\x00\\xbd[\\x11\\xf5'\n",
      "Decompressed string is: b'hello world!hello world!hello world!hello world!'\n"
     ]
    }
   ],
   "source": [
    "import zlib\n",
    "\n",
    "st = 'hello world!hello world!hello world!hello world!'\n",
    "\n",
    "compress_st = zlib.compress(bytes(st, 'utf-8'))\n",
    "\n",
    "print(f\"Compressed string is: {compress_st}\")\n",
    "print(f\"Decompressed string is: {zlib.decompress(compress_st)}\")"
   ]
  },
  {
   "attachments": {},
   "cell_type": "markdown",
   "metadata": {},
   "source": [
    "#### Question 6: Please write a binary search function which searches an item in a sorted list. The function should return the index of element to be searched in the list."
   ]
  },
  {
   "cell_type": "code",
   "execution_count": 27,
   "metadata": {},
   "outputs": [
    {
     "name": "stdout",
     "output_type": "stream",
     "text": [
      "Element is present at index:  4\n"
     ]
    }
   ],
   "source": [
    "def binarySearch(l1, n):     \n",
    "    low = 0  \n",
    "    high = len(l1) - 1  \n",
    "    mid = 0  \n",
    "    while low <= high:  \n",
    "        mid = (high + low) // 2  \n",
    "        if l1[mid] < n:  \n",
    "            low = mid + 1  \n",
    "        elif l1[mid] > n:  \n",
    "            high = mid - 1  \n",
    "        else:  \n",
    "            return mid  \n",
    "    return -1\n",
    "l1 = [12, 24, 32, 39, 45, 50, 54]  \n",
    "ind = binarySearch(l1,39)\n",
    "print(\"Element is present at index: \", (ind+1))"
   ]
  }
 ],
 "metadata": {
  "kernelspec": {
   "display_name": "Python 3",
   "language": "python",
   "name": "python3"
  },
  "language_info": {
   "codemirror_mode": {
    "name": "ipython",
    "version": 3
   },
   "file_extension": ".py",
   "mimetype": "text/x-python",
   "name": "python",
   "nbconvert_exporter": "python",
   "pygments_lexer": "ipython3",
   "version": "3.8.5"
  },
  "orig_nbformat": 4,
  "vscode": {
   "interpreter": {
    "hash": "e8d101deb4f15aa80d1df610b470683654faf42c029e236d67b2441b6e2180d8"
   }
  }
 },
 "nbformat": 4,
 "nbformat_minor": 2
}
