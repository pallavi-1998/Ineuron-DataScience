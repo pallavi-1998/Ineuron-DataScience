{
 "cells": [
  {
   "attachments": {},
   "cell_type": "markdown",
   "metadata": {},
   "source": [
    "# Programming Assignment -5"
   ]
  },
  {
   "attachments": {},
   "cell_type": "markdown",
   "metadata": {},
   "source": [
    "----------------------------------------------------------------------------------------------------------------------------------------"
   ]
  },
  {
   "attachments": {},
   "cell_type": "markdown",
   "metadata": {},
   "source": [
    "#### 1.\tWrite a Python Program to Find LCM?"
   ]
  },
  {
   "cell_type": "code",
   "execution_count": null,
   "metadata": {},
   "outputs": [],
   "source": [
    "def compute_lcm(a,b):\n",
    "    largest = a if (a > b) else b\n",
    "    while(True):\n",
    "        if((largest % a == 0) and (largest % b == 0)):\n",
    "            lcm = largest\n",
    "            break\n",
    "        largest += 1\n",
    "    return lcm\n",
    "\n",
    "n = int(input(\"how many numbers to be entered:\"))\n",
    "if n == 1:\n",
    "    num = int(input(\"enter number: \"))\n",
    "    print(f\"lcm of {num} is {num}\")\n",
    "elif n == 2:\n",
    "    num1 = int(input(\"enter number-1: \"))\n",
    "    num2 = int(input(\"enter number-2: \"))\n",
    "    res = compute_lcm(num1, num2)\n",
    "    print(f\"lcm of {num1} and {num2} is {res}\")\n",
    "elif n > 2:\n",
    "    l = list(input(\"enter numbers using commas: \").split(\",\"))\n",
    "    print(l)\n",
    "    lcm = compute_lcm(int(l[0]),int(l[1]))\n",
    "    print(lcm)\n",
    "    for i in range(2,len(l)):\n",
    "        lcm = compute_lcm(lcm,int(l[i]))\n",
    "    print(f\"lcm of {l} is {lcm}\")\n",
    "else:\n",
    "    print(\"Input is wrong... \")\n"
   ]
  },
  {
   "attachments": {},
   "cell_type": "markdown",
   "metadata": {},
   "source": [
    "#### 2.\tWrite a Python Program to Find HCF?"
   ]
  },
  {
   "cell_type": "code",
   "execution_count": null,
   "metadata": {},
   "outputs": [],
   "source": [
    "def compute_hcf(a, b):\n",
    "    #using euclidean algo\n",
    "    while(b):\n",
    "        a, b = b, a % b\n",
    "    return a\n",
    "n = int(input(\"how many numbers to be entered:\"))\n",
    "if n == 1:\n",
    "    num = int(input(\"enter number: \"))\n",
    "    print(f\"hcf of {num} is {num}\")\n",
    "elif n == 2:\n",
    "    num1 = int(input(\"enter number-1: \"))\n",
    "    num2 = int(input(\"enter number-2: \"))\n",
    "    res = compute_hcf(num1, num2)\n",
    "    print(f\"hcf of {num1} and {num2} is {res}\")\n",
    "elif n > 2:\n",
    "    l = list(input(\"enter numbers using commas: \").split(\",\"))\n",
    "    hcf = compute_hcf(int(l[0]),int(l[1]))\n",
    "    for i in range(2,len(l)):\n",
    "        hcf = compute_hcf(hcf,int(l[i]))\n",
    "    print(f\"hcf of {l} is {hcf}\")\n",
    "else:\n",
    "    print(\"Input is wrong... \")\n"
   ]
  },
  {
   "attachments": {},
   "cell_type": "markdown",
   "metadata": {},
   "source": [
    "#### 3.\tWrite a Python Program to Convert Decimal to Binary, Octal and Hexadecimal?"
   ]
  },
  {
   "cell_type": "code",
   "execution_count": 20,
   "metadata": {},
   "outputs": [
    {
     "name": "stdout",
     "output_type": "stream",
     "text": [
      "decimal value = 789456\n",
      "binary value = 11000000101111010000\n",
      "octal value = 3005720\n",
      "hexadecimal value = C0BD0\n"
     ]
    }
   ],
   "source": [
    "num = int(input(\"enter decimal number: \"))\n",
    "print(f\"decimal value = {num}\")\n",
    "print(f\"binary value = {bin(num)[2:]}\")\n",
    "print(f\"octal value = {oct(num)[2:]}\")\n",
    "print(f\"hexadecimal value = {hex(num)[2:].upper()}\")"
   ]
  },
  {
   "attachments": {},
   "cell_type": "markdown",
   "metadata": {},
   "source": [
    "#### 4.\tWrite a Python Program To Find ASCII value of a character?"
   ]
  },
  {
   "cell_type": "code",
   "execution_count": 23,
   "metadata": {},
   "outputs": [
    {
     "name": "stdout",
     "output_type": "stream",
     "text": [
      "ASCII value of '!' is 33\n"
     ]
    }
   ],
   "source": [
    "a = input(\"enter any character: \")\n",
    "print(f\"ASCII value of '{a}' is {ord(a)}\")"
   ]
  },
  {
   "attachments": {},
   "cell_type": "markdown",
   "metadata": {},
   "source": [
    "#### 5.\tWrite a Python Program to Make a Simple Calculator with 4 basic mathematical operations?"
   ]
  },
  {
   "cell_type": "code",
   "execution_count": 3,
   "metadata": {},
   "outputs": [
    {
     "name": "stdout",
     "output_type": "stream",
     "text": [
      "Input any of these :  \n",
      "1. ADD\n",
      "2. SUBTRACT\n",
      "3. MULTIPLICATION\n",
      "4. DIVISION\n",
      "5. Exit\n",
      "Addition of 1.0 and 45.0 = 46.0\n",
      "Invalid Input !!!!!\n"
     ]
    }
   ],
   "source": [
    "def add(a, b):\n",
    "    return a + b\n",
    "def sub(a, b):\n",
    "    return a - b\n",
    "def mul(a, b):\n",
    "    return a*b\n",
    "def div(a, b):\n",
    "    return a/b\n",
    "\n",
    "print(\"Input any of these :  \")\n",
    "print(\"1. ADD\")\n",
    "print(\"2. SUBTRACT\")\n",
    "print(\"3. MULTIPLICATION\")\n",
    "print(\"4. DIVISION\")\n",
    "print(\"5. Exit\")\n",
    "\n",
    "while(True):\n",
    "    ch = input(\"choose the option(1/2/3/4/5): \")\n",
    "    if ch in ('1','2','3','4','5'):\n",
    "        if ch == '5':\n",
    "            print(\"Exit !!!!\")\n",
    "            break\n",
    "        else:\n",
    "            try:\n",
    "                num1 = float(input(\"enter first number: \"))\n",
    "                num2 = float(input(\"enter second number: \"))\n",
    "            except Exception as e:\n",
    "                print(\"Invalid Input\", e)\n",
    "                continue\n",
    "        if ch == '1':\n",
    "            print(f\"Addition of {num1} and {num2} = {add(num1,num2)}\")\n",
    "        elif ch == '2':\n",
    "            print(f\"Subtraction of {num1} and {num2} = {sub(num1,num2)}\")\n",
    "        elif ch == '3':\n",
    "            print(f\"MULTIPLICATION of {num1} and {num2} = {mul(num1,num2)}\")\n",
    "        elif ch == '4':\n",
    "            print(f\"Division of {num1} and {num2} = {div(num1,num2)}\")\n",
    "    else:\n",
    "        print(\"Invalid Input !!!!!\")"
   ]
  }
 ],
 "metadata": {
  "kernelspec": {
   "display_name": "Python 3",
   "language": "python",
   "name": "python3"
  },
  "language_info": {
   "codemirror_mode": {
    "name": "ipython",
    "version": 3
   },
   "file_extension": ".py",
   "mimetype": "text/x-python",
   "name": "python",
   "nbconvert_exporter": "python",
   "pygments_lexer": "ipython3",
   "version": "3.8.5 (tags/v3.8.5:580fbb0, Jul 20 2020, 15:43:08) [MSC v.1926 32 bit (Intel)]"
  },
  "orig_nbformat": 4,
  "vscode": {
   "interpreter": {
    "hash": "e8d101deb4f15aa80d1df610b470683654faf42c029e236d67b2441b6e2180d8"
   }
  }
 },
 "nbformat": 4,
 "nbformat_minor": 2
}
