{
 "cells": [
  {
   "attachments": {},
   "cell_type": "markdown",
   "metadata": {},
   "source": [
    "# Programming Assignment -2"
   ]
  },
  {
   "attachments": {},
   "cell_type": "markdown",
   "metadata": {},
   "source": [
    "-------------------------------------------------------------------------------------------------------------------------------------------------------"
   ]
  },
  {
   "cell_type": "code",
   "execution_count": 2,
   "metadata": {},
   "outputs": [
    {
     "name": "stdout",
     "output_type": "stream",
     "text": [
      "1.00 km is equal to 0.62 miles\n"
     ]
    }
   ],
   "source": [
    "#1.\tWrite a Python program to convert kilometers to miles?\n",
    "km = float(input(\"enter value in kilometer: \"))\n",
    "factor = 0.621371\n",
    "miles =  km * factor\n",
    "print(\"{:.2f} km is equal to {:.2f} miles\".format(km, miles))"
   ]
  },
  {
   "cell_type": "code",
   "execution_count": 9,
   "metadata": {},
   "outputs": [
    {
     "name": "stdout",
     "output_type": "stream",
     "text": [
      "1.2°C is equal to 34.16°F\n"
     ]
    }
   ],
   "source": [
    "#2.\tWrite a Python program to convert Celsius to Fahrenheit?\n",
    "cel = float(input(\"enter temp in celsius: \"))\n",
    "fahrenheit = (cel * (9/5)) + 32\n",
    "degree_sign = u\"\\N{DEGREE SIGN}\"\n",
    "print(\"{}{}C is equal to {}{}F\".format(cel,chr(176),fahrenheit,degree_sign))"
   ]
  },
  {
   "cell_type": "code",
   "execution_count": 5,
   "metadata": {},
   "outputs": [
    {
     "name": "stdout",
     "output_type": "stream",
     "text": [
      "°\n"
     ]
    }
   ],
   "source": [
    "degree_sign = u\"\\N{DEGREE SIGN}\"\n",
    "print(degree_sign)"
   ]
  },
  {
   "cell_type": "code",
   "execution_count": 10,
   "metadata": {},
   "outputs": [
    {
     "name": "stdout",
     "output_type": "stream",
     "text": [
      "      May 1998\n",
      "Mo Tu We Th Fr Sa Su\n",
      "             1  2  3\n",
      " 4  5  6  7  8  9 10\n",
      "11 12 13 14 15 16 17\n",
      "18 19 20 21 22 23 24\n",
      "25 26 27 28 29 30 31\n",
      "\n"
     ]
    }
   ],
   "source": [
    "#3.\tWrite a Python program to display calendar?\n",
    "import calendar\n",
    "yy = float(input(\"enter year for which you want calendar to appear: \"))\n",
    "mm = float(input(\"enter month for which you want calendar to appear: \"))\n",
    "print(calendar.month(yy, mm))"
   ]
  },
  {
   "cell_type": "code",
   "execution_count": 23,
   "metadata": {},
   "outputs": [],
   "source": [
    "#4.\tWrite a Python program to solve quadratic equation?\n",
    "import math\n",
    "a = float(input(\"enter coefficient of x^2: \"))\n",
    "b = float(input(\"enter coefficient of x: \"))\n",
    "c = float(input(\"enter constant value: \"))\n",
    "d = (b*b) - (4*a*c)\n",
    "sq = math.sqrt(abs(d))\n",
    "if d > 0:\n",
    "    print((-b + sq)/(2*a))\n",
    "    print((-b - sq)/(2*a))\n",
    "elif d == 0:\n",
    "    print(-b/(2*a))\n",
    "else:\n",
    "    print(-b/(2*a),\"+ j\",sq)\n",
    "    print(-b/(2*a),\"- j\",sq)"
   ]
  },
  {
   "cell_type": "code",
   "execution_count": 2,
   "metadata": {},
   "outputs": [
    {
     "name": "stdout",
     "output_type": "stream",
     "text": [
      "Before swapping: x = hello & y = world\n",
      "After swapping: x = world & y = hello\n"
     ]
    }
   ],
   "source": [
    "#5.\tWrite a Python program to swap two variables without temp variable?\n",
    "x = input(\"variable 1\")\n",
    "y = input(\"variable 2\")\n",
    "print(f\"Before swapping: x = {x} y = {y}\")\n",
    "x, y = y, x\n",
    "print(f\"After swapping: x = {x} y = {y}\")"
   ]
  }
 ],
 "metadata": {
  "kernelspec": {
   "display_name": "Python 3.8.5 32-bit",
   "language": "python",
   "name": "python3"
  },
  "language_info": {
   "codemirror_mode": {
    "name": "ipython",
    "version": 3
   },
   "file_extension": ".py",
   "mimetype": "text/x-python",
   "name": "python",
   "nbconvert_exporter": "python",
   "pygments_lexer": "ipython3",
   "version": "3.8.5 (tags/v3.8.5:580fbb0, Jul 20 2020, 15:43:08) [MSC v.1926 32 bit (Intel)]"
  },
  "orig_nbformat": 4,
  "vscode": {
   "interpreter": {
    "hash": "e8d101deb4f15aa80d1df610b470683654faf42c029e236d67b2441b6e2180d8"
   }
  }
 },
 "nbformat": 4,
 "nbformat_minor": 2
}
