{
 "cells": [
  {
   "cell_type": "code",
   "execution_count": 4,
   "metadata": {},
   "outputs": [],
   "source": [
    "import sqlite3"
   ]
  },
  {
   "cell_type": "code",
   "execution_count": 5,
   "metadata": {},
   "outputs": [],
   "source": [
    "db =  sqlite3.connect(\"ineuron.db\") # .db file s to store a data into structure format"
   ]
  },
  {
   "cell_type": "code",
   "execution_count": 6,
   "metadata": {},
   "outputs": [
    {
     "name": "stdout",
     "output_type": "stream",
     "text": [
      " Volume in drive D is DATA\n",
      " Volume Serial Number is 3C79-8284\n",
      "\n",
      " Directory of d:\\python_files\\test\n",
      "\n",
      "04-12-2022  06:51    <DIR>          .\n",
      "04-12-2022  06:51    <DIR>          ..\n",
      "01-11-2022  23:18            23,886 Assign_1.ipynb\n",
      "04-12-2022  06:49             8,192 ineuron.db\n",
      "04-12-2022  06:51             4,616 ineuron.db-journal\n",
      "04-12-2022  06:29            26,716 practice_mongo.ipynb\n",
      "04-12-2022  06:55             2,903 sqlLite.ipynb\n",
      "               5 File(s)         66,313 bytes\n",
      "               2 Dir(s)  776,298,065,920 bytes free\n"
     ]
    }
   ],
   "source": [
    "ls"
   ]
  },
  {
   "cell_type": "code",
   "execution_count": 7,
   "metadata": {},
   "outputs": [],
   "source": [
    "c = db.cursor()"
   ]
  },
  {
   "cell_type": "code",
   "execution_count": null,
   "metadata": {},
   "outputs": [],
   "source": [
    "c.execute('create table fsds(name text,batchId int, marks real)')"
   ]
  },
  {
   "cell_type": "code",
   "execution_count": 9,
   "metadata": {},
   "outputs": [
    {
     "data": {
      "text/plain": [
       "<sqlite3.Cursor at 0x663d9e0>"
      ]
     },
     "execution_count": 9,
     "metadata": {},
     "output_type": "execute_result"
    }
   ],
   "source": [
    "c.execute('insert into fsds values(\"pallavi\",3555,4456.89)')"
   ]
  },
  {
   "cell_type": "code",
   "execution_count": 10,
   "metadata": {},
   "outputs": [
    {
     "data": {
      "text/plain": [
       "<sqlite3.Cursor at 0x663d9e0>"
      ]
     },
     "execution_count": 10,
     "metadata": {},
     "output_type": "execute_result"
    }
   ],
   "source": [
    "c.execute('insert into fsds values(\"pallavi\",3555,4456.89)')\n",
    "c.execute('insert into fsds values(\"pallavi\",3555,4456.89)')\n",
    "c.execute('insert into fsds values(\"pallavi\",3555,4456.89)')\n",
    "c.execute('insert into fsds values(\"pallavi\",3555,4456.89)')"
   ]
  },
  {
   "cell_type": "code",
   "execution_count": 11,
   "metadata": {},
   "outputs": [
    {
     "name": "stdout",
     "output_type": "stream",
     "text": [
      "('pallavi', 3555, 4456.89)\n",
      "('pallavi', 3555, 4456.89)\n",
      "('pallavi', 3555, 4456.89)\n",
      "('pallavi', 3555, 4456.89)\n",
      "('pallavi', 3555, 4456.89)\n"
     ]
    }
   ],
   "source": [
    "for i in c.execute('select * from fsds'):\n",
    "    print(i)"
   ]
  },
  {
   "cell_type": "code",
   "execution_count": 12,
   "metadata": {},
   "outputs": [],
   "source": [
    "db.commit()"
   ]
  },
  {
   "cell_type": "code",
   "execution_count": 13,
   "metadata": {},
   "outputs": [],
   "source": [
    "db.close()# it will close all connection that is related to db variable"
   ]
  },
  {
   "cell_type": "code",
   "execution_count": 14,
   "metadata": {},
   "outputs": [],
   "source": [
    " #to connect again to the same file ineuron.db\n",
    "db = sqlite3.connect(\"ineuron.db\")"
   ]
  },
  {
   "cell_type": "code",
   "execution_count": 15,
   "metadata": {},
   "outputs": [],
   "source": [
    "c = db.cursor()"
   ]
  },
  {
   "cell_type": "code",
   "execution_count": 16,
   "metadata": {},
   "outputs": [
    {
     "name": "stdout",
     "output_type": "stream",
     "text": [
      "('pallavi', 3555, 4456.89)\n",
      "('pallavi', 3555, 4456.89)\n",
      "('pallavi', 3555, 4456.89)\n",
      "('pallavi', 3555, 4456.89)\n",
      "('pallavi', 3555, 4456.89)\n"
     ]
    }
   ],
   "source": [
    "for i in c.execute('select * from fsds where marks > 400'):\n",
    "    print(i)"
   ]
  },
  {
   "cell_type": "code",
   "execution_count": 17,
   "metadata": {},
   "outputs": [],
   "source": [
    "data = c.execute('select * from fsds where name = \"pallavi\" ')"
   ]
  },
  {
   "cell_type": "code",
   "execution_count": 18,
   "metadata": {},
   "outputs": [
    {
     "name": "stdout",
     "output_type": "stream",
     "text": [
      "('pallavi', 3555, 4456.89)\n",
      "('pallavi', 3555, 4456.89)\n",
      "('pallavi', 3555, 4456.89)\n",
      "('pallavi', 3555, 4456.89)\n",
      "('pallavi', 3555, 4456.89)\n"
     ]
    }
   ],
   "source": [
    "for i in data:\n",
    "    print(i)"
   ]
  },
  {
   "cell_type": "code",
   "execution_count": 19,
   "metadata": {},
   "outputs": [
    {
     "name": "stdout",
     "output_type": "stream",
     "text": [
      "('pallavi', 4456.89)\n",
      "('pallavi', 4456.89)\n",
      "('pallavi', 4456.89)\n",
      "('pallavi', 4456.89)\n",
      "('pallavi', 4456.89)\n"
     ]
    }
   ],
   "source": [
    "for i in c.execute('select name, marks from fsds'):\n",
    "    print(i)"
   ]
  },
  {
   "cell_type": "code",
   "execution_count": 20,
   "metadata": {},
   "outputs": [
    {
     "name": "stdout",
     "output_type": "stream",
     "text": [
      "('pallavi', 4456.89)\n",
      "('pallavi', 4456.89)\n",
      "('pallavi', 4456.89)\n",
      "('pallavi', 4456.89)\n",
      "('pallavi', 4456.89)\n"
     ]
    }
   ],
   "source": [
    "for i in c.execute('select name, marks from fsds order by marks'):\n",
    "    print(i)"
   ]
  },
  {
   "cell_type": "code",
   "execution_count": 21,
   "metadata": {},
   "outputs": [],
   "source": [
    "db.close()"
   ]
  },
  {
   "cell_type": "code",
   "execution_count": 22,
   "metadata": {},
   "outputs": [],
   "source": [
    "db = sqlite3.connect(\"person.db\")"
   ]
  },
  {
   "cell_type": "code",
   "execution_count": 24,
   "metadata": {},
   "outputs": [],
   "source": [
    "c = db.cursor()"
   ]
  },
  {
   "cell_type": "code",
   "execution_count": 25,
   "metadata": {},
   "outputs": [
    {
     "data": {
      "text/plain": [
       "<sqlite3.Cursor at 0x65c3560>"
      ]
     },
     "execution_count": 25,
     "metadata": {},
     "output_type": "execute_result"
    }
   ],
   "source": [
    "c.execute('create table person_table (name text, emailis text, age int, salary real)')"
   ]
  },
  {
   "cell_type": "code",
   "execution_count": 27,
   "metadata": {},
   "outputs": [
    {
     "data": {
      "text/plain": [
       "<sqlite3.Cursor at 0x65c3560>"
      ]
     },
     "execution_count": 27,
     "metadata": {},
     "output_type": "execute_result"
    }
   ],
   "source": [
    "c.execute('insert into person_table values(\"pallavi\", \"pp@gmail.com\",234,23424)')\n",
    "c.execute('insert into person_table values(\"uttam\", \"utam@gmail.com\",345,355424)')\n",
    "c.execute('insert into person_table values(\"krish\", \"krish@gmail.com\",5248,567724)')\n",
    "c.execute('insert into person_table values(\"pallavi\", \"pp@gmail.com\",2345,777545)')"
   ]
  },
  {
   "cell_type": "code",
   "execution_count": 28,
   "metadata": {},
   "outputs": [],
   "source": [
    "data = c.execute('select *  from person_table')"
   ]
  },
  {
   "cell_type": "code",
   "execution_count": 29,
   "metadata": {},
   "outputs": [
    {
     "name": "stdout",
     "output_type": "stream",
     "text": [
      "('pallavi', 'pp@gmail.com', 234, 23424.0)\n",
      "('uttam', 'utam@gmail.com', 345, 355424.0)\n",
      "('krish', 'krish@gmail.com', 5248, 567724.0)\n",
      "('pallavi', 'pp@gmail.com', 2345, 777545.0)\n"
     ]
    }
   ],
   "source": [
    "for i in data:\n",
    "    print(i)"
   ]
  },
  {
   "cell_type": "code",
   "execution_count": 31,
   "metadata": {},
   "outputs": [],
   "source": [
    "db.commit()"
   ]
  },
  {
   "cell_type": "code",
   "execution_count": 32,
   "metadata": {},
   "outputs": [],
   "source": [
    "db.close()"
   ]
  },
  {
   "cell_type": "code",
   "execution_count": 33,
   "metadata": {},
   "outputs": [],
   "source": [
    "db = sqlite3.connect('ineuron.db')"
   ]
  },
  {
   "cell_type": "code",
   "execution_count": 34,
   "metadata": {},
   "outputs": [],
   "source": [
    "c = db.cursor()"
   ]
  },
  {
   "cell_type": "code",
   "execution_count": 35,
   "metadata": {},
   "outputs": [
    {
     "data": {
      "text/plain": [
       "<sqlite3.Cursor at 0x663d8a0>"
      ]
     },
     "execution_count": 35,
     "metadata": {},
     "output_type": "execute_result"
    }
   ],
   "source": [
    "c.execute('drop table fsds')"
   ]
  },
  {
   "cell_type": "code",
   "execution_count": 36,
   "metadata": {},
   "outputs": [
    {
     "ename": "OperationalError",
     "evalue": "no such table: fsds",
     "output_type": "error",
     "traceback": [
      "\u001b[1;31m---------------------------------------------------------------------------\u001b[0m",
      "\u001b[1;31mOperationalError\u001b[0m                          Traceback (most recent call last)",
      "Cell \u001b[1;32mIn [36], line 1\u001b[0m\n\u001b[1;32m----> 1\u001b[0m c\u001b[39m.\u001b[39;49mexecute(\u001b[39m'\u001b[39;49m\u001b[39mselect * from fsds\u001b[39;49m\u001b[39m'\u001b[39;49m)\n",
      "\u001b[1;31mOperationalError\u001b[0m: no such table: fsds"
     ]
    }
   ],
   "source": [
    "c.execute('select * from fsds')"
   ]
  },
  {
   "cell_type": "code",
   "execution_count": 37,
   "metadata": {},
   "outputs": [
    {
     "name": "stdout",
     "output_type": "stream",
     "text": [
      " Volume in drive D is DATA\n",
      " Volume Serial Number is 3C79-8284\n",
      "\n",
      " Directory of d:\\python_files\\test\n",
      "\n",
      "04-12-2022  11:58    <DIR>          .\n",
      "04-12-2022  11:58    <DIR>          ..\n",
      "01-11-2022  23:18            23,886 Assign_1.ipynb\n",
      "04-12-2022  11:58             8,192 ineuron.db\n",
      "04-12-2022  11:35             8,192 person.db\n",
      "04-12-2022  06:29            26,716 practice_mongo.ipynb\n",
      "04-12-2022  11:22             6,943 sqlLite.ipynb\n",
      "               5 File(s)         73,929 bytes\n",
      "               2 Dir(s)  776,298,057,728 bytes free\n"
     ]
    }
   ],
   "source": [
    "ls"
   ]
  },
  {
   "cell_type": "code",
   "execution_count": 38,
   "metadata": {},
   "outputs": [],
   "source": [
    "db.close()"
   ]
  },
  {
   "cell_type": "code",
   "execution_count": 39,
   "metadata": {},
   "outputs": [],
   "source": [
    "db = sqlite3.connect('person.db')"
   ]
  },
  {
   "cell_type": "code",
   "execution_count": 40,
   "metadata": {},
   "outputs": [],
   "source": [
    "c = db.cursor()"
   ]
  },
  {
   "cell_type": "code",
   "execution_count": 41,
   "metadata": {},
   "outputs": [],
   "source": [
    "data = c.execute('select * from person_table limit 2')"
   ]
  },
  {
   "cell_type": "code",
   "execution_count": 42,
   "metadata": {},
   "outputs": [
    {
     "name": "stdout",
     "output_type": "stream",
     "text": [
      "('pallavi', 'pp@gmail.com', 234, 23424.0)\n",
      "('uttam', 'utam@gmail.com', 345, 355424.0)\n"
     ]
    }
   ],
   "source": [
    "for i in data:\n",
    "    print(i)"
   ]
  },
  {
   "cell_type": "code",
   "execution_count": 43,
   "metadata": {},
   "outputs": [],
   "source": [
    "db.close()"
   ]
  },
  {
   "cell_type": "markdown",
   "metadata": {},
   "source": [
    "#join operation"
   ]
  },
  {
   "cell_type": "code",
   "execution_count": 75,
   "metadata": {},
   "outputs": [],
   "source": [
    "db = sqlite3.connect(\"join_db.db\")"
   ]
  },
  {
   "cell_type": "code",
   "execution_count": 76,
   "metadata": {},
   "outputs": [],
   "source": [
    "c = db.cursor()"
   ]
  },
  {
   "cell_type": "code",
   "execution_count": 77,
   "metadata": {},
   "outputs": [
    {
     "data": {
      "text/plain": [
       "<sqlite3.Cursor at 0x68835e0>"
      ]
     },
     "execution_count": 77,
     "metadata": {},
     "output_type": "execute_result"
    }
   ],
   "source": [
    "c.execute('create table student(stu_id int, stu_name text, stu_mail text, marks int)')"
   ]
  },
  {
   "cell_type": "code",
   "execution_count": 78,
   "metadata": {},
   "outputs": [
    {
     "data": {
      "text/plain": [
       "<sqlite3.Cursor at 0x68835e0>"
      ]
     },
     "execution_count": 78,
     "metadata": {},
     "output_type": "execute_result"
    }
   ],
   "source": [
    "c.execute('create table address(stu_id int, pincode int, location text, nearby text, phone_no int)')"
   ]
  },
  {
   "cell_type": "code",
   "execution_count": 79,
   "metadata": {},
   "outputs": [
    {
     "data": {
      "text/plain": [
       "<sqlite3.Cursor at 0x68835e0>"
      ]
     },
     "execution_count": 79,
     "metadata": {},
     "output_type": "execute_result"
    }
   ],
   "source": [
    "c.execute('insert into student values(234, \"pallavi\", \"pallavi@gmail.com\", 2345 )')\n",
    "c.execute('insert into student values(235, \"pall\", \"pallavi@gmail.com\", 2345 )')\n",
    "c.execute('insert into student values(236, \"pal\", \"pallavi@gmail.com\", 2345 )')\n",
    "c.execute('insert into student values(237, \"pp\", \"pallavi@gmail.com\", 2345 )')\n",
    "c.execute('insert into student values(238, \"avi\", \"pallavi@gmail.com\", 2345 )')\n",
    "c.execute('insert into student values(239, \"lavi\", \"pallavi@gmail.com\", 2345 )')\n",
    "c.execute('insert into student values(2310, \"pali\", \"pallavi@gmail.com\", 2345 )')\n",
    "c.execute('insert into student values(2311, \"pavi\", \"pallavi@gmail.com\", 2345 )')\n",
    "c.execute('insert into student values(2312, \"pai\", \"pallavi@gmail.com\", 2345 )')\n",
    "c.execute('insert into student values(2313, \"pallavi\", \"pallavi@gmail.com\", 2345 )')\n"
   ]
  },
  {
   "cell_type": "code",
   "execution_count": 80,
   "metadata": {},
   "outputs": [
    {
     "data": {
      "text/plain": [
       "<sqlite3.Cursor at 0x68835e0>"
      ]
     },
     "execution_count": 80,
     "metadata": {},
     "output_type": "execute_result"
    }
   ],
   "source": [
    "c.execute(\"insert into address values(235, 560034, 'whitefield','ineuron office', 4861699222)\")\n",
    "c.execute(\"insert into address values(234, 560034, 'whitefield','ineuron office', 4861699222)\")\n",
    "c.execute(\"insert into address values(236, 560034, 'whitefield','ineuron office', 4861699222)\")\n",
    "c.execute(\"insert into address values(237, 560034, 'whitefield','ineuron office', 4861699222)\")\n",
    "c.execute(\"insert into address values(238, 560034, 'whitefield','ineuron office', 4861699222)\")\n",
    "c.execute(\"insert into address values(239, 560034, 'whitefield','ineuron office', 4861699222)\")\n",
    "c.execute(\"insert into address values(2310, 560034, 'whitefield','ineuron office', 4861699222)\")\n",
    "c.execute(\"insert into address values(2311, 560034, 'whitefield','ineuron office', 4861699222)\")\n",
    "c.execute(\"insert into address values(2312, 560034, 'whitefield','ineuron office', 4861699222)\")\n",
    "c.execute(\"insert into address values(2313, 560034, 'whitefield','ineuron office', 4861699222)\")\n"
   ]
  },
  {
   "cell_type": "code",
   "execution_count": 81,
   "metadata": {},
   "outputs": [
    {
     "name": "stdout",
     "output_type": "stream",
     "text": [
      "(235, 560034, 'whitefield', 'ineuron office', 4861699222)\n",
      "(234, 560034, 'whitefield', 'ineuron office', 4861699222)\n",
      "(236, 560034, 'whitefield', 'ineuron office', 4861699222)\n",
      "(237, 560034, 'whitefield', 'ineuron office', 4861699222)\n",
      "(238, 560034, 'whitefield', 'ineuron office', 4861699222)\n",
      "(239, 560034, 'whitefield', 'ineuron office', 4861699222)\n",
      "(2310, 560034, 'whitefield', 'ineuron office', 4861699222)\n",
      "(2311, 560034, 'whitefield', 'ineuron office', 4861699222)\n",
      "(2312, 560034, 'whitefield', 'ineuron office', 4861699222)\n",
      "(2313, 560034, 'whitefield', 'ineuron office', 4861699222)\n"
     ]
    }
   ],
   "source": [
    "data = c.execute('select * from address')\n",
    "for i in data:\n",
    "    print(i)"
   ]
  },
  {
   "cell_type": "code",
   "execution_count": 82,
   "metadata": {},
   "outputs": [
    {
     "name": "stdout",
     "output_type": "stream",
     "text": [
      "(234, 'pallavi', 'pallavi@gmail.com', 2345)\n",
      "(235, 'pall', 'pallavi@gmail.com', 2345)\n",
      "(236, 'pal', 'pallavi@gmail.com', 2345)\n",
      "(237, 'pp', 'pallavi@gmail.com', 2345)\n",
      "(238, 'avi', 'pallavi@gmail.com', 2345)\n",
      "(239, 'lavi', 'pallavi@gmail.com', 2345)\n",
      "(2310, 'pali', 'pallavi@gmail.com', 2345)\n",
      "(2311, 'pavi', 'pallavi@gmail.com', 2345)\n",
      "(2312, 'pai', 'pallavi@gmail.com', 2345)\n",
      "(2313, 'pallavi', 'pallavi@gmail.com', 2345)\n"
     ]
    }
   ],
   "source": [
    "data = c.execute('select * from student')\n",
    "for i in data:\n",
    "    print(i)"
   ]
  },
  {
   "cell_type": "markdown",
   "metadata": {},
   "source": [
    "try to print address of students presnt in studet table using join"
   ]
  },
  {
   "cell_type": "code",
   "execution_count": 86,
   "metadata": {},
   "outputs": [],
   "source": [
    "data = c.execute('select * from student s left join address a on s.stu_id = a.stu_id ')"
   ]
  },
  {
   "cell_type": "code",
   "execution_count": 87,
   "metadata": {},
   "outputs": [
    {
     "name": "stdout",
     "output_type": "stream",
     "text": [
      "(234, 'pallavi', 'pallavi@gmail.com', 2345, 234, 560034, 'whitefield', 'ineuron office', 4861699222)\n",
      "(235, 'pall', 'pallavi@gmail.com', 2345, 235, 560034, 'whitefield', 'ineuron office', 4861699222)\n",
      "(236, 'pal', 'pallavi@gmail.com', 2345, 236, 560034, 'whitefield', 'ineuron office', 4861699222)\n",
      "(237, 'pp', 'pallavi@gmail.com', 2345, 237, 560034, 'whitefield', 'ineuron office', 4861699222)\n",
      "(238, 'avi', 'pallavi@gmail.com', 2345, 238, 560034, 'whitefield', 'ineuron office', 4861699222)\n",
      "(239, 'lavi', 'pallavi@gmail.com', 2345, 239, 560034, 'whitefield', 'ineuron office', 4861699222)\n",
      "(2310, 'pali', 'pallavi@gmail.com', 2345, 2310, 560034, 'whitefield', 'ineuron office', 4861699222)\n",
      "(2311, 'pavi', 'pallavi@gmail.com', 2345, 2311, 560034, 'whitefield', 'ineuron office', 4861699222)\n",
      "(2312, 'pai', 'pallavi@gmail.com', 2345, 2312, 560034, 'whitefield', 'ineuron office', 4861699222)\n",
      "(2313, 'pallavi', 'pallavi@gmail.com', 2345, 2313, 560034, 'whitefield', 'ineuron office', 4861699222)\n"
     ]
    }
   ],
   "source": [
    "for i in data:\n",
    "    print(i)"
   ]
  },
  {
   "cell_type": "code",
   "execution_count": 83,
   "metadata": {},
   "outputs": [],
   "source": [
    "data = c.execute('select * from student s left join address a on s.stu_id = a.stu_id where a.stu_id is not null')"
   ]
  },
  {
   "cell_type": "code",
   "execution_count": 84,
   "metadata": {},
   "outputs": [
    {
     "name": "stdout",
     "output_type": "stream",
     "text": [
      "(235, 'pall', 'pallavi@gmail.com', 2345, 235, 560034, 'whitefield', 'ineuron office', 4861699222)\n",
      "(234, 'pallavi', 'pallavi@gmail.com', 2345, 234, 560034, 'whitefield', 'ineuron office', 4861699222)\n",
      "(236, 'pal', 'pallavi@gmail.com', 2345, 236, 560034, 'whitefield', 'ineuron office', 4861699222)\n",
      "(237, 'pp', 'pallavi@gmail.com', 2345, 237, 560034, 'whitefield', 'ineuron office', 4861699222)\n",
      "(238, 'avi', 'pallavi@gmail.com', 2345, 238, 560034, 'whitefield', 'ineuron office', 4861699222)\n",
      "(239, 'lavi', 'pallavi@gmail.com', 2345, 239, 560034, 'whitefield', 'ineuron office', 4861699222)\n",
      "(2310, 'pali', 'pallavi@gmail.com', 2345, 2310, 560034, 'whitefield', 'ineuron office', 4861699222)\n",
      "(2311, 'pavi', 'pallavi@gmail.com', 2345, 2311, 560034, 'whitefield', 'ineuron office', 4861699222)\n",
      "(2312, 'pai', 'pallavi@gmail.com', 2345, 2312, 560034, 'whitefield', 'ineuron office', 4861699222)\n",
      "(2313, 'pallavi', 'pallavi@gmail.com', 2345, 2313, 560034, 'whitefield', 'ineuron office', 4861699222)\n"
     ]
    }
   ],
   "source": [
    "for i in data:\n",
    "    print(i)"
   ]
  },
  {
   "cell_type": "code",
   "execution_count": 85,
   "metadata": {},
   "outputs": [
    {
     "ename": "OperationalError",
     "evalue": "RIGHT and FULL OUTER JOINs are not currently supported",
     "output_type": "error",
     "traceback": [
      "\u001b[1;31m---------------------------------------------------------------------------\u001b[0m",
      "\u001b[1;31mOperationalError\u001b[0m                          Traceback (most recent call last)",
      "Cell \u001b[1;32mIn [85], line 1\u001b[0m\n\u001b[1;32m----> 1\u001b[0m data \u001b[39m=\u001b[39m c\u001b[39m.\u001b[39;49mexecute(\u001b[39m'\u001b[39;49m\u001b[39mselect * from student s right join address a on s.stu_id = a.stu_id where a.stu_id is not null\u001b[39;49m\u001b[39m'\u001b[39;49m)\n",
      "\u001b[1;31mOperationalError\u001b[0m: RIGHT and FULL OUTER JOINs are not currently supported"
     ]
    }
   ],
   "source": [
    "data = c.execute('select * from student s right join address a on s.stu_id = a.stu_id where a.stu_id is not null')"
   ]
  },
  {
   "cell_type": "code",
   "execution_count": 89,
   "metadata": {},
   "outputs": [
    {
     "name": "stdout",
     "output_type": "stream",
     "text": [
      "(234, 560034, 'whitefield', 'ineuron office', 4861699222, 234, 'pallavi', 'pallavi@gmail.com', 2345)\n",
      "(235, 560034, 'whitefield', 'ineuron office', 4861699222, 235, 'pall', 'pallavi@gmail.com', 2345)\n",
      "(236, 560034, 'whitefield', 'ineuron office', 4861699222, 236, 'pal', 'pallavi@gmail.com', 2345)\n",
      "(237, 560034, 'whitefield', 'ineuron office', 4861699222, 237, 'pp', 'pallavi@gmail.com', 2345)\n",
      "(238, 560034, 'whitefield', 'ineuron office', 4861699222, 238, 'avi', 'pallavi@gmail.com', 2345)\n",
      "(239, 560034, 'whitefield', 'ineuron office', 4861699222, 239, 'lavi', 'pallavi@gmail.com', 2345)\n",
      "(2310, 560034, 'whitefield', 'ineuron office', 4861699222, 2310, 'pali', 'pallavi@gmail.com', 2345)\n",
      "(2311, 560034, 'whitefield', 'ineuron office', 4861699222, 2311, 'pavi', 'pallavi@gmail.com', 2345)\n",
      "(2312, 560034, 'whitefield', 'ineuron office', 4861699222, 2312, 'pai', 'pallavi@gmail.com', 2345)\n",
      "(2313, 560034, 'whitefield', 'ineuron office', 4861699222, 2313, 'pallavi', 'pallavi@gmail.com', 2345)\n"
     ]
    }
   ],
   "source": [
    "data = c.execute('select * from address s left join student a on s.stu_id = a.stu_id where a.stu_id is not null') \n",
    "for i in data:\n",
    "    print(i)"
   ]
  },
  {
   "cell_type": "code",
   "execution_count": 91,
   "metadata": {},
   "outputs": [
    {
     "data": {
      "text/plain": [
       "<sqlite3.Cursor at 0x68835e0>"
      ]
     },
     "execution_count": 91,
     "metadata": {},
     "output_type": "execute_result"
    }
   ],
   "source": [
    "c.execute('delete from student where stu_id > 2000')"
   ]
  },
  {
   "cell_type": "code",
   "execution_count": 92,
   "metadata": {},
   "outputs": [
    {
     "name": "stdout",
     "output_type": "stream",
     "text": [
      "(234, 'pallavi', 'pallavi@gmail.com', 2345)\n",
      "(235, 'pall', 'pallavi@gmail.com', 2345)\n",
      "(236, 'pal', 'pallavi@gmail.com', 2345)\n",
      "(237, 'pp', 'pallavi@gmail.com', 2345)\n",
      "(238, 'avi', 'pallavi@gmail.com', 2345)\n",
      "(239, 'lavi', 'pallavi@gmail.com', 2345)\n"
     ]
    }
   ],
   "source": [
    "data = c.execute('select * from student')\n",
    "for i in data:\n",
    "    print(i)"
   ]
  },
  {
   "cell_type": "code",
   "execution_count": 94,
   "metadata": {},
   "outputs": [
    {
     "data": {
      "text/plain": [
       "[(234, 'pallavi', 'pallavi@gmail.com', 2345),\n",
       " (235, 'pall', 'pallavi@gmail.com', 2345),\n",
       " (236, 'pal', 'pallavi@gmail.com', 2345),\n",
       " (237, 'pp', 'pallavi@gmail.com', 2345),\n",
       " (238, 'avi', 'pallavi@gmail.com', 2345),\n",
       " (239, 'lavi', 'pallavi@gmail.com', 2345)]"
      ]
     },
     "execution_count": 94,
     "metadata": {},
     "output_type": "execute_result"
    }
   ],
   "source": [
    "data = c.execute('select * from student')\n",
    "data.fetchall()"
   ]
  },
  {
   "cell_type": "code",
   "execution_count": 95,
   "metadata": {},
   "outputs": [],
   "source": [
    "data = c.execute('update student set stu_id = 2000 where stu_id = 236')"
   ]
  },
  {
   "cell_type": "code",
   "execution_count": 96,
   "metadata": {},
   "outputs": [
    {
     "data": {
      "text/plain": [
       "[(234, 'pallavi', 'pallavi@gmail.com', 2345),\n",
       " (235, 'pall', 'pallavi@gmail.com', 2345),\n",
       " (2000, 'pal', 'pallavi@gmail.com', 2345),\n",
       " (237, 'pp', 'pallavi@gmail.com', 2345),\n",
       " (238, 'avi', 'pallavi@gmail.com', 2345),\n",
       " (239, 'lavi', 'pallavi@gmail.com', 2345)]"
      ]
     },
     "execution_count": 96,
     "metadata": {},
     "output_type": "execute_result"
    }
   ],
   "source": [
    "data = c.execute('select * from student')\n",
    "data.fetchall()"
   ]
  },
  {
   "cell_type": "code",
   "execution_count": 98,
   "metadata": {},
   "outputs": [],
   "source": [
    "db.close()"
   ]
  },
  {
   "cell_type": "code",
   "execution_count": null,
   "metadata": {},
   "outputs": [],
   "source": []
  }
 ],
 "metadata": {
  "kernelspec": {
   "display_name": "Python 3.8.5 32-bit",
   "language": "python",
   "name": "python3"
  },
  "language_info": {
   "codemirror_mode": {
    "name": "ipython",
    "version": 3
   },
   "file_extension": ".py",
   "mimetype": "text/x-python",
   "name": "python",
   "nbconvert_exporter": "python",
   "pygments_lexer": "ipython3",
   "version": "3.8.5 (tags/v3.8.5:580fbb0, Jul 20 2020, 15:43:08) [MSC v.1926 32 bit (Intel)]"
  },
  "orig_nbformat": 4,
  "vscode": {
   "interpreter": {
    "hash": "e8d101deb4f15aa80d1df610b470683654faf42c029e236d67b2441b6e2180d8"
   }
  }
 },
 "nbformat": 4,
 "nbformat_minor": 2
}
